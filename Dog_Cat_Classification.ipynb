{
  "nbformat": 4,
  "nbformat_minor": 0,
  "metadata": {
    "colab": {
      "name": "Dog_Cat_Classification.ipynb",
      "version": "0.3.2",
      "provenance": [],
      "collapsed_sections": [],
      "include_colab_link": true
    },
    "kernelspec": {
      "name": "python3",
      "display_name": "Python 3"
    },
    "accelerator": "GPU"
  },
  "cells": [
    {
      "cell_type": "markdown",
      "metadata": {
        "id": "view-in-github",
        "colab_type": "text"
      },
      "source": [
        "<a href=\"https://colab.research.google.com/github/sandeeppalakkal/ML_Datascience_Practice/blob/master/Dog_Cat_Classification.ipynb\" target=\"_parent\"><img src=\"https://colab.research.google.com/assets/colab-badge.svg\" alt=\"Open In Colab\"/></a>"
      ]
    },
    {
      "cell_type": "markdown",
      "metadata": {
        "id": "JDy83IcLCUgY",
        "colab_type": "text"
      },
      "source": [
        "## Prepare Data"
      ]
    },
    {
      "cell_type": "code",
      "metadata": {
        "id": "oRFQUZz2iNuZ",
        "colab_type": "code",
        "colab": {}
      },
      "source": [
        "import tensorflow as tf\n",
        "tf.enable_eager_execution()\n",
        "import json\n",
        "import os\n",
        "import pdb\n",
        "import glob\n",
        "from sklearn.model_selection import train_test_split\n",
        "import itertools\n",
        "import numpy as np"
      ],
      "execution_count": 0,
      "outputs": []
    },
    {
      "cell_type": "code",
      "metadata": {
        "id": "OktrIQX1Cc35",
        "colab_type": "code",
        "outputId": "30eac71a-9713-4c78-9593-4d690031ece3",
        "colab": {
          "base_uri": "https://localhost:8080/",
          "height": 34
        }
      },
      "source": [
        "# Get data from google drive\n",
        "from google.colab import drive\n",
        "drive.mount('/content/gdrive')"
      ],
      "execution_count": 2,
      "outputs": [
        {
          "output_type": "stream",
          "text": [
            "Drive already mounted at /content/gdrive; to attempt to forcibly remount, call drive.mount(\"/content/gdrive\", force_remount=True).\n"
          ],
          "name": "stdout"
        }
      ]
    },
    {
      "cell_type": "code",
      "metadata": {
        "id": "R_jemaZRUoGJ",
        "colab_type": "code",
        "colab": {}
      },
      "source": [
        "def json_write(data,json_file):\n",
        "  json.dump(data,open(json_file,'w'))\n",
        "  \n",
        "def json_load(json_file):\n",
        "  return json.load(open(json_file,'r'))"
      ],
      "execution_count": 0,
      "outputs": []
    },
    {
      "cell_type": "code",
      "metadata": {
        "id": "O12Dsl550H8q",
        "colab_type": "code",
        "colab": {}
      },
      "source": [
        "# Annotate & save json\n",
        "def get_annotated_data(data_path):\n",
        "  def _annotate(file_path):\n",
        "    img_path = os.path.split(file_path)[1]\n",
        "    return int(img_path[:3] != 'cat')\n",
        "  train_data_imgs = sorted(glob.glob(data_path+'/*.jpg'))  \n",
        "  train_data_annot = list(map(_annotate,train_data_imgs))\n",
        "  data_dict = dict(zip(train_data_imgs,train_data_annot))\n",
        "  return data_dict"
      ],
      "execution_count": 0,
      "outputs": []
    },
    {
      "cell_type": "code",
      "metadata": {
        "id": "ICoZk0gQxCC8",
        "colab_type": "code",
        "colab": {}
      },
      "source": [
        "# Train-val split\n",
        "def train_val_split_data_dict(data_dict,train_size,random_state):\n",
        "  train_x,test_x,train_y,test_y = train_test_split(list(data_dict.keys()),\n",
        "                          list(data_dict.values()),\n",
        "                          train_size = train_size,\n",
        "                          random_state = random_state)\n",
        "  train_dict = dict(zip(train_x,train_y))\n",
        "  test_dict = dict(zip(test_x,test_y))\n",
        "  return train_dict,test_dict"
      ],
      "execution_count": 0,
      "outputs": []
    },
    {
      "cell_type": "code",
      "metadata": {
        "id": "N1SUK10CeYUz",
        "colab_type": "code",
        "colab": {}
      },
      "source": [
        "# data details\n",
        "data_path = '/content/gdrive/My Drive/Datasets/DogCat/train'\n",
        "train_json = '/content/gdrive/My Drive/Datasets/DogCat/train.json'\n",
        "val_json = '/content/gdrive/My Drive/Datasets/DogCat/validation.json'\n",
        "test_json = '/content/gdrive/My Drive/Datasets/DogCat/test.json'"
      ],
      "execution_count": 0,
      "outputs": []
    },
    {
      "cell_type": "code",
      "metadata": {
        "id": "dd8vYNwf71nG",
        "colab_type": "code",
        "outputId": "68f7cfa1-7e5e-400f-c0ac-17a3fa27e629",
        "colab": {
          "base_uri": "https://localhost:8080/",
          "height": 85
        }
      },
      "source": [
        "# create & save annotations\n",
        "FORCE = False\n",
        "if FORCE or not all(map(os.path.os.path.exists,[train_json,val_json,test_json])):\n",
        "  data_dict = get_annotated_data(data_path)\n",
        "  train_dict,test_dict = train_val_split_data_dict(data_dict,0.6,33)\n",
        "  val_dict,test_dict = train_val_split_data_dict(test_dict,0.5,30)\n",
        "  json_write(train_dict,train_json)\n",
        "  json_write(val_dict,val_json)\n",
        "  json_write(test_dict,test_json)\n",
        "  print(\"Created data annotations: \\n%s \\n%s \\n%s\" % (train_json,val_json,test_json))\n",
        "else:\n",
        "  print(\"Data annotations already exists!\")"
      ],
      "execution_count": 7,
      "outputs": [
        {
          "output_type": "stream",
          "text": [
            "Created data annotations: \n",
            "/content/gdrive/My Drive/Datasets/DogCat/train.json \n",
            "/content/gdrive/My Drive/Datasets/DogCat/validation.json \n",
            "/content/gdrive/My Drive/Datasets/DogCat/test.json\n"
          ],
          "name": "stdout"
        }
      ]
    },
    {
      "cell_type": "markdown",
      "metadata": {
        "id": "pvXNq88oOPLT",
        "colab_type": "text"
      },
      "source": [
        "## Image Preprocessing Functions"
      ]
    },
    {
      "cell_type": "code",
      "metadata": {
        "id": "hd6AC7hnLt8g",
        "colab_type": "code",
        "colab": {}
      },
      "source": [
        "# Image preprocessing\n",
        "def preprocess_image(image,size=(224,224)):\n",
        "  image = tf.image.decode_jpeg(image,channels=3)\n",
        "  image = tf.image.resize_images(image,list(size))\n",
        "  image /= 255.0\n",
        "  return image"
      ],
      "execution_count": 0,
      "outputs": []
    },
    {
      "cell_type": "code",
      "metadata": {
        "id": "5Qk-gF1sMZ2y",
        "colab_type": "code",
        "colab": {}
      },
      "source": [
        "# load & preprocess\n",
        "def load_and_preprocess_image(path):\n",
        "  image = tf.read_file(path)\n",
        "  image = preprocess_image(image)\n",
        "  return image"
      ],
      "execution_count": 0,
      "outputs": []
    },
    {
      "cell_type": "markdown",
      "metadata": {
        "id": "FHvv0uA9MvVT",
        "colab_type": "text"
      },
      "source": [
        "## TF Dataset"
      ]
    },
    {
      "cell_type": "code",
      "metadata": {
        "id": "BuAt2oytNJXd",
        "colab_type": "code",
        "colab": {}
      },
      "source": [
        "# create tf dataset\n",
        "def create_tf_image_dataset(img_paths,img_labels):  \n",
        "  # load & preprocess image & label\n",
        "  def _load_and_preprocess_from_path_label(path,label):\n",
        "    return load_and_preprocess_image(path), label\n",
        "  \n",
        "  ds = tf.data.Dataset.from_tensor_slices((img_paths,img_labels))\n",
        "  ds = ds.map(_load_and_preprocess_from_path_label)\n",
        "  return ds"
      ],
      "execution_count": 0,
      "outputs": []
    },
    {
      "cell_type": "markdown",
      "metadata": {
        "id": "xl0Vd1B4NvMb",
        "colab_type": "text"
      },
      "source": [
        "## Model Training"
      ]
    },
    {
      "cell_type": "markdown",
      "metadata": {
        "id": "mNKHmGVZS2Bw",
        "colab_type": "text"
      },
      "source": [
        "### TF Data Input Pipeline"
      ]
    },
    {
      "cell_type": "code",
      "metadata": {
        "id": "U8mgbxZmuvnI",
        "colab_type": "code",
        "colab": {}
      },
      "source": [
        "train_dict_,val_dict_,test_dict_ = map(json_load,[train_json,val_json,test_json])"
      ],
      "execution_count": 0,
      "outputs": []
    },
    {
      "cell_type": "code",
      "metadata": {
        "id": "e41gWO4lUQ_d",
        "colab_type": "code",
        "colab": {}
      },
      "source": [
        "def reduce_data_size(data_dict,n):\n",
        "  return dict(itertools.islice(data_dict.items(),n))"
      ],
      "execution_count": 0,
      "outputs": []
    },
    {
      "cell_type": "code",
      "metadata": {
        "id": "Yf1p7Q14uysm",
        "colab_type": "code",
        "colab": {}
      },
      "source": [
        "# Reduce data size\n",
        "#train_dict = reduce_data_size(train_dict_,1000)\n",
        "#val_dict = reduce_data_size(val_dict_,500)\n",
        "#test_dict = reduce_data_size(test_dict_,500)\n",
        "train_dict = train_dict_\n",
        "val_dict = val_dict_\n",
        "test_dict = test_dict_"
      ],
      "execution_count": 0,
      "outputs": []
    },
    {
      "cell_type": "code",
      "metadata": {
        "id": "K1XD_9SXdFem",
        "colab_type": "code",
        "outputId": "dfb3375d-1776-4915-c8ae-67fbfd1eb584",
        "colab": {
          "base_uri": "https://localhost:8080/",
          "height": 34
        }
      },
      "source": [
        "print(len(train_dict),len(val_dict),len(test_dict))"
      ],
      "execution_count": 14,
      "outputs": [
        {
          "output_type": "stream",
          "text": [
            "15000 5000 5000\n"
          ],
          "name": "stdout"
        }
      ]
    },
    {
      "cell_type": "code",
      "metadata": {
        "id": "J_WoL3M13EF7",
        "colab_type": "code",
        "colab": {
          "base_uri": "https://localhost:8080/",
          "height": 34
        },
        "outputId": "f501a16e-5dfe-4200-89c0-4162a3deb255"
      },
      "source": [
        "print(train_dict['/content/gdrive/My Drive/Datasets/DogCat/train/cat.978.jpg'])"
      ],
      "execution_count": 15,
      "outputs": [
        {
          "output_type": "stream",
          "text": [
            "0\n"
          ],
          "name": "stdout"
        }
      ]
    },
    {
      "cell_type": "code",
      "metadata": {
        "id": "V1-v6-f-fo1N",
        "colab_type": "code",
        "colab": {}
      },
      "source": [
        "def create_tf_image_dataset_from_dict(data_dict):\n",
        "  return create_tf_image_dataset(list(data_dict.keys()),list(data_dict.values()))\n",
        "#train_ds,val_ds,test_ds = map(create_tf_image_dataset_from_dict,[train_dict,val_dict,test_dict])"
      ],
      "execution_count": 0,
      "outputs": []
    },
    {
      "cell_type": "code",
      "metadata": {
        "id": "br1cM4ZQgisg",
        "colab_type": "code",
        "colab": {}
      },
      "source": [
        "AUTOTUNE = tf.data.experimental.AUTOTUNE\n",
        "def data_pipeline(data_dict,shuffle_size,batch_size):\n",
        "  ds = create_tf_image_dataset_from_dict(data_dict)\n",
        "  ds = ds.shuffle(buffer_size=shuffle_size).batch(batch_size).repeat()\n",
        "  #ds = ds.apply(\n",
        "  #  tf.data.experimental.shuffle_and_repeat(buffer_size=shuffle_size))\n",
        "  #ds = ds.batch(batch_size)\n",
        "  ds = ds.prefetch(buffer_size=AUTOTUNE)\n",
        "  return ds"
      ],
      "execution_count": 0,
      "outputs": []
    },
    {
      "cell_type": "code",
      "metadata": {
        "id": "GSpv6JaZq9FP",
        "colab_type": "code",
        "colab": {}
      },
      "source": [
        "BATCH_SIZE = 32\n",
        "train_ds_ = data_pipeline(train_dict,min(1000,len(train_dict)),BATCH_SIZE)\n",
        "val_ds_ = data_pipeline(val_dict,min(1000,len(val_dict)),BATCH_SIZE)\n",
        "test_ds_ = data_pipeline(test_dict,min(1000,len(test_dict)),BATCH_SIZE)"
      ],
      "execution_count": 0,
      "outputs": []
    },
    {
      "cell_type": "markdown",
      "metadata": {
        "id": "aWoRe4dqriwZ",
        "colab_type": "text"
      },
      "source": [
        "## Training in Keras"
      ]
    },
    {
      "cell_type": "code",
      "metadata": {
        "id": "5hkn5TtfwYG2",
        "colab_type": "code",
        "outputId": "f00f181e-e30b-41f3-a9fc-32fcc77106a3",
        "colab": {
          "base_uri": "https://localhost:8080/",
          "height": 71
        }
      },
      "source": [
        "mobile_net = tf.keras.applications.MobileNetV2(input_shape=(224,224,3),include_top=False)\n",
        "mobile_net.trainable = False"
      ],
      "execution_count": 19,
      "outputs": [
        {
          "output_type": "stream",
          "text": [
            "Downloading data from https://github.com/JonathanCMitchell/mobilenet_v2_keras/releases/download/v1.1/mobilenet_v2_weights_tf_dim_ordering_tf_kernels_1.0_224_no_top.h5\n",
            "9412608/9406464 [==============================] - 2s 0us/step\n"
          ],
          "name": "stdout"
        }
      ]
    },
    {
      "cell_type": "code",
      "metadata": {
        "id": "qeXSou62U5g-",
        "colab_type": "code",
        "outputId": "b28f0dfe-1f7e-407c-a231-235dbe56b591",
        "colab": {
          "base_uri": "https://localhost:8080/",
          "height": 105
        }
      },
      "source": [
        "resnet50 = tf.keras.applications.ResNet50(input_shape=(224,224,3),include_top=False)\n",
        "resnet50.trainable = False"
      ],
      "execution_count": 20,
      "outputs": [
        {
          "output_type": "stream",
          "text": [
            "/usr/local/lib/python3.6/dist-packages/keras_applications/resnet50.py:265: UserWarning: The output shape of `ResNet50(include_top=False)` has been changed since Keras 2.2.0.\n",
            "  warnings.warn('The output shape of `ResNet50(include_top=False)` '\n"
          ],
          "name": "stderr"
        },
        {
          "output_type": "stream",
          "text": [
            "Downloading data from https://github.com/fchollet/deep-learning-models/releases/download/v0.2/resnet50_weights_tf_dim_ordering_tf_kernels_notop.h5\n",
            "94658560/94653016 [==============================] - 6s 0us/step\n"
          ],
          "name": "stdout"
        }
      ]
    },
    {
      "cell_type": "code",
      "metadata": {
        "id": "eBJvDH6IxGMY",
        "colab_type": "code",
        "colab": {}
      },
      "source": [
        "def change_range(image,label):\n",
        "  return 2*image-1, label\n",
        "\n",
        "keras_train_ds = train_ds_.map(change_range)\n",
        "keras_val_ds = val_ds_.map(change_range)\n",
        "keras_test_ds = test_ds_.map(change_range)"
      ],
      "execution_count": 0,
      "outputs": []
    },
    {
      "cell_type": "code",
      "metadata": {
        "id": "bZej5LpFxw6p",
        "colab_type": "code",
        "colab": {}
      },
      "source": [
        "image_batch, label_batch = next(iter(keras_train_ds))"
      ],
      "execution_count": 0,
      "outputs": []
    },
    {
      "cell_type": "code",
      "metadata": {
        "id": "0hy-Yom9x8tJ",
        "colab_type": "code",
        "outputId": "f287da0f-2d7d-4767-bc92-d51007c6d607",
        "colab": {
          "base_uri": "https://localhost:8080/",
          "height": 34
        }
      },
      "source": [
        "feature_map_batch = mobile_net(image_batch)\n",
        "print(feature_map_batch.shape)"
      ],
      "execution_count": 23,
      "outputs": [
        {
          "output_type": "stream",
          "text": [
            "(32, 7, 7, 1280)\n"
          ],
          "name": "stdout"
        }
      ]
    },
    {
      "cell_type": "code",
      "metadata": {
        "id": "020afGCsx-56",
        "colab_type": "code",
        "colab": {}
      },
      "source": [
        "label_names = ['cat','dog']\n",
        "model = tf.keras.Sequential([\n",
        "  mobile_net,\n",
        "  tf.keras.layers.GlobalAveragePooling2D(),\n",
        "  tf.keras.layers.Dense(len(label_names),\n",
        "                        activation = 'softmax',\n",
        "                       kernel_regularizer=tf.keras.regularizers.l2(0.0001))])"
      ],
      "execution_count": 0,
      "outputs": []
    },
    {
      "cell_type": "code",
      "metadata": {
        "id": "X6I0e5foyGHY",
        "colab_type": "code",
        "colab": {}
      },
      "source": [
        "model.compile(optimizer=tf.train.AdamOptimizer(learning_rate=0.0001), \n",
        "              loss=tf.keras.losses.sparse_categorical_crossentropy,\n",
        "              metrics=[\"accuracy\"])"
      ],
      "execution_count": 0,
      "outputs": []
    },
    {
      "cell_type": "code",
      "metadata": {
        "id": "seK1qZkmzb-N",
        "colab_type": "code",
        "outputId": "ca0e34e4-10fb-422b-cb27-d43fa43a119d",
        "colab": {
          "base_uri": "https://localhost:8080/",
          "height": 34
        }
      },
      "source": [
        "len(model.trainable_variables) "
      ],
      "execution_count": 26,
      "outputs": [
        {
          "output_type": "execute_result",
          "data": {
            "text/plain": [
              "2"
            ]
          },
          "metadata": {
            "tags": []
          },
          "execution_count": 26
        }
      ]
    },
    {
      "cell_type": "code",
      "metadata": {
        "id": "Bq58Qo5Hzdq6",
        "colab_type": "code",
        "outputId": "fe021aa2-56c5-440e-e34a-a552f8288fdb",
        "colab": {
          "base_uri": "https://localhost:8080/",
          "height": 255
        }
      },
      "source": [
        "model.summary()"
      ],
      "execution_count": 27,
      "outputs": [
        {
          "output_type": "stream",
          "text": [
            "Model: \"sequential\"\n",
            "_________________________________________________________________\n",
            "Layer (type)                 Output Shape              Param #   \n",
            "=================================================================\n",
            "mobilenetv2_1.00_224 (Model) (None, 7, 7, 1280)        2257984   \n",
            "_________________________________________________________________\n",
            "global_average_pooling2d (Gl (None, 1280)              0         \n",
            "_________________________________________________________________\n",
            "dense (Dense)                (None, 2)                 2562      \n",
            "=================================================================\n",
            "Total params: 2,260,546\n",
            "Trainable params: 2,562\n",
            "Non-trainable params: 2,257,984\n",
            "_________________________________________________________________\n"
          ],
          "name": "stdout"
        }
      ]
    },
    {
      "cell_type": "code",
      "metadata": {
        "id": "ixSgwvuaze_7",
        "colab_type": "code",
        "outputId": "b5f34329-37b6-4d12-ca44-22ee0a1181bc",
        "colab": {
          "base_uri": "https://localhost:8080/",
          "height": 139
        }
      },
      "source": [
        "history = model.fit(keras_train_ds, validation_data=keras_test_ds,validation_steps=3,\n",
        "          validation_freq=1, epochs=10, steps_per_epoch=len(train_dict)//BATCH_SIZE)"
      ],
      "execution_count": 0,
      "outputs": [
        {
          "output_type": "stream",
          "text": [
            "Epoch 1/10\n"
          ],
          "name": "stdout"
        },
        {
          "output_type": "stream",
          "text": [
            "WARNING: Logging before flag parsing goes to stderr.\n",
            "W0630 19:43:39.188592 139775205578624 deprecation.py:323] From /usr/local/lib/python3.6/dist-packages/tensorflow/python/ops/math_grad.py:1250: add_dispatch_support.<locals>.wrapper (from tensorflow.python.ops.array_ops) is deprecated and will be removed in a future version.\n",
            "Instructions for updating:\n",
            "Use tf.where in 2.0, which has the same broadcast rule as np.where\n"
          ],
          "name": "stderr"
        },
        {
          "output_type": "stream",
          "text": [
            "167/468 [=========>....................] - ETA: 1:14:36 - loss: 0.4323 - acc: 0.8093"
          ],
          "name": "stdout"
        }
      ]
    },
    {
      "cell_type": "code",
      "metadata": {
        "id": "VPNhTQaaBlZS",
        "colab_type": "code",
        "colab": {}
      },
      "source": [
        "import matplotlib.pyplot as plt\n",
        "# list all data in history\n",
        "print(history.history.keys())\n",
        "# summarize history for accuracy\n",
        "plt.plot(history.history['acc'])\n",
        "plt.plot(history.history['val_acc'])\n",
        "plt.title('model accuracy')\n",
        "plt.ylabel('accuracy')\n",
        "plt.xlabel('epoch')\n",
        "plt.legend(['train', 'val'], loc='upper left')\n",
        "plt.show()\n",
        "# summarize history for loss\n",
        "plt.plot(history.history['loss'])\n",
        "plt.plot(history.history['val_loss'])\n",
        "plt.title('model loss')\n",
        "plt.ylabel('loss')\n",
        "plt.xlabel('epoch')\n",
        "plt.legend(['train', 'val'], loc='upper left')\n",
        "plt.show()"
      ],
      "execution_count": 0,
      "outputs": []
    },
    {
      "cell_type": "code",
      "metadata": {
        "id": "pzWTM8Jz1I8x",
        "colab_type": "code",
        "colab": {}
      },
      "source": [
        "# serialize model to JSON\n",
        "model_path = '/content/gdrive/My Drive/Datasets/DogCat/'\n",
        "model_json = model.to_json()\n",
        "with open(os.path.join(model_path,\"model.json\"), \"w\") as json_file:\n",
        "    json_file.write(model_json)\n",
        "# serialize weights to HDF5\n",
        "model.save_weights(os.path.join(model_path,\"model.h5\"))\n",
        "print(\"Saved model to disk\")"
      ],
      "execution_count": 0,
      "outputs": []
    },
    {
      "cell_type": "code",
      "metadata": {
        "id": "NEnbv1aIIZ3r",
        "colab_type": "code",
        "colab": {}
      },
      "source": [
        "scores = model.evaluate(keras_train_ds,steps = len(train_dict)//BATCH_SIZE)\n",
        "scores = model.evaluate(keras_val_ds,steps = len(val_dict)//BATCH_SIZE)\n",
        "scores = model.evaluate(keras_test_ds,steps = len(test_dict)//BATCH_SIZE)"
      ],
      "execution_count": 0,
      "outputs": []
    },
    {
      "cell_type": "code",
      "metadata": {
        "id": "OSfGnAHNX-p6",
        "colab_type": "code",
        "colab": {}
      },
      "source": [
        "predictions = model.predict(keras_test_ds,steps = len(test_dict)//BATCH_SIZE)"
      ],
      "execution_count": 0,
      "outputs": []
    },
    {
      "cell_type": "code",
      "metadata": {
        "colab_type": "code",
        "id": "nl7gAnMxXYw4",
        "colab": {}
      },
      "source": [
        "train_img_path = '/content/gdrive/My Drive/Datasets/DogCat/train'\n",
        "train_imgs = sorted(glob.glob(train_img_path+'/*.jpg'))"
      ],
      "execution_count": 0,
      "outputs": []
    },
    {
      "cell_type": "code",
      "metadata": {
        "colab_type": "code",
        "id": "kfg-KKUIXYw6",
        "colab": {}
      },
      "source": [
        "classes = ['Cat','Dog']\n",
        "ind = np.random.randint(len(train_imgs),size=20)\n",
        "imgs = [train_imgs[j] for j in ind]\n",
        "from PIL import Image\n",
        "import matplotlib.pyplot as plt\n",
        "%matplotlib inline\n",
        "for img in imgs:\n",
        "  x = load_and_preprocess_image(img)\n",
        "  x,_ = change_range(x,_)\n",
        "  x = tf.expand_dims(x,0)\n",
        "  y = model.predict(x,steps=1)\n",
        "  c = np.argmax(y)\n",
        "  print(\"Predicted: %s\" % classes[c])\n",
        "  plt.imshow(Image.open(img,'r'))\n",
        "  plt.show()"
      ],
      "execution_count": 0,
      "outputs": []
    },
    {
      "cell_type": "code",
      "metadata": {
        "colab_type": "code",
        "id": "4lswP0UkXYxD",
        "colab": {}
      },
      "source": [
        "ind = np.random.randint(len(test_imgs),size=5)\n",
        "type(ind)"
      ],
      "execution_count": 0,
      "outputs": []
    },
    {
      "cell_type": "markdown",
      "metadata": {
        "id": "jranCuzeHJ1f",
        "colab_type": "text"
      },
      "source": [
        "## Predict on Test Data"
      ]
    },
    {
      "cell_type": "code",
      "metadata": {
        "id": "4VkBr3qKHOdy",
        "colab_type": "code",
        "colab": {}
      },
      "source": [
        "test_img_path = '/content/gdrive/My Drive/Datasets/DogCat/test1'\n",
        "test_imgs = sorted(glob.glob(test_img_path+'/*.jpg'))"
      ],
      "execution_count": 0,
      "outputs": []
    },
    {
      "cell_type": "code",
      "metadata": {
        "id": "J6y07HIEHmAy",
        "colab_type": "code",
        "colab": {}
      },
      "source": [
        "classes = ['Cat','Dog']\n",
        "ind = np.random.randint(len(test_imgs),size=5,)\n",
        "imgs = [test_imgs[j] for j in ind]\n",
        "from PIL import Image\n",
        "import matplotlib.pyplot as plt\n",
        "%matplotlib inline\n",
        "for img in imgs:\n",
        "  x = load_and_preprocess_image(img)\n",
        "  x,_ = change_range(x,_)\n",
        "  x = tf.expand_dims(x,0)\n",
        "  y = model.predict(x,steps=1)\n",
        "  c = np.argmax(y)\n",
        "  print(\"Predicted: %s\" % classes[c])\n",
        "  plt.imshow(Image.open(img,'r'))\n",
        "  plt.show()"
      ],
      "execution_count": 0,
      "outputs": []
    },
    {
      "cell_type": "code",
      "metadata": {
        "id": "1KIvdoGiKFKT",
        "colab_type": "code",
        "colab": {}
      },
      "source": [
        "ind = np.random.randint(len(test_imgs),size=5)\n",
        "type(ind)"
      ],
      "execution_count": 0,
      "outputs": []
    },
    {
      "cell_type": "code",
      "metadata": {
        "id": "yQU7Em8DOkLG",
        "colab_type": "code",
        "colab": {}
      },
      "source": [
        "ind"
      ],
      "execution_count": 0,
      "outputs": []
    },
    {
      "cell_type": "code",
      "metadata": {
        "id": "99XAFC8HWSUF",
        "colab_type": "code",
        "colab": {}
      },
      "source": [
        "import matplotlib.pyplot as plt\n",
        "\n",
        "def return_img(img,label):\n",
        "  return img\n",
        "\n",
        "imgs__ = train_ds_.take(4)\n",
        "imgs__ = imgs__.map(return_img)\n",
        "plt.figure(figsize=(8,8))\n",
        "for n,image in enumerate(imgs__):\n",
        "  plt.subplot(2,2,n+1)\n",
        "  #pdb.set_trace()\n",
        "  #plt.imshow(tf.squeeze(image))\n",
        "  plt.imshow(image)\n",
        "  plt.grid(False)\n",
        "  plt.xticks([])\n",
        "  plt.yticks([])\n",
        "  plt.xlabel(caption_image(all_image_paths[n]))"
      ],
      "execution_count": 0,
      "outputs": []
    },
    {
      "cell_type": "code",
      "metadata": {
        "id": "mvjg9N05amMi",
        "colab_type": "code",
        "colab": {}
      },
      "source": [
        "imgs__"
      ],
      "execution_count": 0,
      "outputs": []
    }
  ]
}