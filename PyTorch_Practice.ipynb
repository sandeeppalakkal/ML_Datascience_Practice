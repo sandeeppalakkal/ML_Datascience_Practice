{
  "nbformat": 4,
  "nbformat_minor": 0,
  "metadata": {
    "colab": {
      "name": "PyTorch Practice",
      "version": "0.3.2",
      "provenance": [],
      "include_colab_link": true
    },
    "kernelspec": {
      "name": "python3",
      "display_name": "Python 3"
    },
    "accelerator": "GPU"
  },
  "cells": [
    {
      "cell_type": "markdown",
      "metadata": {
        "id": "view-in-github",
        "colab_type": "text"
      },
      "source": [
        "<a href=\"https://colab.research.google.com/github/sandeeppalakkal/ML_Datascience_Practice/blob/master/PyTorch_Practice.ipynb\" target=\"_parent\"><img src=\"https://colab.research.google.com/assets/colab-badge.svg\" alt=\"Open In Colab\"/></a>"
      ]
    },
    {
      "metadata": {
        "id": "6U9mrOlcWiZh",
        "colab_type": "code",
        "colab": {}
      },
      "cell_type": "code",
      "source": [
        "import torch\n",
        "import numpy as np"
      ],
      "execution_count": 0,
      "outputs": []
    },
    {
      "metadata": {
        "id": "8gKCBHc5Wnus",
        "colab_type": "code",
        "colab": {}
      },
      "cell_type": "code",
      "source": [
        "x = torch.rand(5,3)\n",
        "y = torch.ones(5,3)"
      ],
      "execution_count": 0,
      "outputs": []
    },
    {
      "metadata": {
        "id": "Np22uDvUX0Fh",
        "colab_type": "code",
        "outputId": "a9df3e3f-d108-4507-85cc-f1e0f01a6f76",
        "colab": {
          "base_uri": "https://localhost:8080/",
          "height": 102
        }
      },
      "cell_type": "code",
      "source": [
        "print(x)"
      ],
      "execution_count": 0,
      "outputs": [
        {
          "output_type": "stream",
          "text": [
            "tensor([[0.4101, 0.4473, 0.5356],\n",
            "        [0.2186, 0.3727, 0.4489],\n",
            "        [0.8789, 0.2695, 0.4725],\n",
            "        [0.3535, 0.3267, 0.7715],\n",
            "        [0.2827, 0.8754, 0.5448]])\n"
          ],
          "name": "stdout"
        }
      ]
    },
    {
      "metadata": {
        "id": "yO_rY4yHYe2p",
        "colab_type": "code",
        "outputId": "82d3aa59-2136-459b-f846-d0391bd67cab",
        "colab": {
          "base_uri": "https://localhost:8080/",
          "height": 102
        }
      },
      "cell_type": "code",
      "source": [
        "print(y)"
      ],
      "execution_count": 0,
      "outputs": [
        {
          "output_type": "stream",
          "text": [
            "tensor([[1., 1., 1.],\n",
            "        [1., 1., 1.],\n",
            "        [1., 1., 1.],\n",
            "        [1., 1., 1.],\n",
            "        [1., 1., 1.]])\n"
          ],
          "name": "stdout"
        }
      ]
    },
    {
      "metadata": {
        "id": "VXQlzoBvYfqb",
        "colab_type": "code",
        "colab": {}
      },
      "cell_type": "code",
      "source": [
        "z = torch.add(x,y)"
      ],
      "execution_count": 0,
      "outputs": []
    },
    {
      "metadata": {
        "id": "wKeMjDr6Yjwp",
        "colab_type": "code",
        "outputId": "6d3e1b29-7d69-4227-ab7e-2ae00bc45bd3",
        "colab": {
          "base_uri": "https://localhost:8080/",
          "height": 102
        }
      },
      "cell_type": "code",
      "source": [
        "print(z)"
      ],
      "execution_count": 0,
      "outputs": [
        {
          "output_type": "stream",
          "text": [
            "tensor([[1.4101, 1.4473, 1.5356],\n",
            "        [1.2186, 1.3727, 1.4489],\n",
            "        [1.8789, 1.2695, 1.4725],\n",
            "        [1.3535, 1.3267, 1.7715],\n",
            "        [1.2827, 1.8754, 1.5448]])\n"
          ],
          "name": "stdout"
        }
      ]
    },
    {
      "metadata": {
        "id": "POzK-39QYkav",
        "colab_type": "code",
        "outputId": "7391006f-84ac-45cf-db36-6c1c2f5dad7b",
        "colab": {
          "base_uri": "https://localhost:8080/",
          "height": 34
        }
      },
      "cell_type": "code",
      "source": [
        "print(x.shape)"
      ],
      "execution_count": 0,
      "outputs": [
        {
          "output_type": "stream",
          "text": [
            "torch.Size([5, 3])\n"
          ],
          "name": "stdout"
        }
      ]
    },
    {
      "metadata": {
        "id": "V_8IniMcYpsj",
        "colab_type": "code",
        "outputId": "da819af3-aaa8-46dd-c34c-a4ed223015de",
        "colab": {
          "base_uri": "https://localhost:8080/",
          "height": 34
        }
      },
      "cell_type": "code",
      "source": [
        "print(x.size())"
      ],
      "execution_count": 0,
      "outputs": [
        {
          "output_type": "stream",
          "text": [
            "torch.Size([5, 3])\n"
          ],
          "name": "stdout"
        }
      ]
    },
    {
      "metadata": {
        "id": "upk6QESHYqrH",
        "colab_type": "code",
        "outputId": "957d30c1-d9bd-435c-9ee5-89e55d6c0364",
        "colab": {
          "base_uri": "https://localhost:8080/",
          "height": 102
        }
      },
      "cell_type": "code",
      "source": [
        "print(x+y)"
      ],
      "execution_count": 0,
      "outputs": [
        {
          "output_type": "stream",
          "text": [
            "tensor([[1.4101, 1.4473, 1.5356],\n",
            "        [1.2186, 1.3727, 1.4489],\n",
            "        [1.8789, 1.2695, 1.4725],\n",
            "        [1.3535, 1.3267, 1.7715],\n",
            "        [1.2827, 1.8754, 1.5448]])\n"
          ],
          "name": "stdout"
        }
      ]
    },
    {
      "metadata": {
        "id": "DEhZ5GhsYwvN",
        "colab_type": "code",
        "outputId": "543b7dc6-4e86-4757-c1a8-d5ef1344ef2b",
        "colab": {
          "base_uri": "https://localhost:8080/",
          "height": 187
        }
      },
      "cell_type": "code",
      "source": [
        "# let us run this cell only if CUDA is available\n",
        "# We will use ``torch.device`` objects to move tensors in and out of GPU\n",
        "if torch.cuda.is_available():\n",
        "    device = torch.device(\"cuda\")          # a CUDA device object\n",
        "    y = torch.ones_like(x, device=device)  # directly create a tensor on GPU\n",
        "    x = x.to(device)                       # or just use strings ``.to(\"cuda\")``\n",
        "    z = x + y\n",
        "    print(z)\n",
        "    print(z.to(\"cpu\", torch.double))       # ``.to`` can also change dtype together!\n",
        "else:\n",
        "  print(\"CUDA device is not available\")"
      ],
      "execution_count": 0,
      "outputs": [
        {
          "output_type": "stream",
          "text": [
            "tensor([[1.4101, 1.4473, 1.5356],\n",
            "        [1.2186, 1.3727, 1.4489],\n",
            "        [1.8789, 1.2695, 1.4725],\n",
            "        [1.3535, 1.3267, 1.7715],\n",
            "        [1.2827, 1.8754, 1.5448]], device='cuda:0')\n",
            "tensor([[1.4101, 1.4473, 1.5356],\n",
            "        [1.2186, 1.3727, 1.4489],\n",
            "        [1.8789, 1.2695, 1.4725],\n",
            "        [1.3535, 1.3267, 1.7715],\n",
            "        [1.2827, 1.8754, 1.5448]], dtype=torch.float64)\n"
          ],
          "name": "stdout"
        }
      ]
    },
    {
      "metadata": {
        "id": "JTB52LlkZIMV",
        "colab_type": "code",
        "colab": {}
      },
      "cell_type": "code",
      "source": [
        ""
      ],
      "execution_count": 0,
      "outputs": []
    }
  ]
}