{
  "nbformat": 4,
  "nbformat_minor": 0,
  "metadata": {
    "colab": {
      "name": "PyTorch Practice",
      "version": "0.3.2",
      "provenance": [],
      "collapsed_sections": [],
      "include_colab_link": true
    },
    "kernelspec": {
      "name": "python3",
      "display_name": "Python 3"
    },
    "accelerator": "GPU"
  },
  "cells": [
    {
      "cell_type": "markdown",
      "metadata": {
        "id": "view-in-github",
        "colab_type": "text"
      },
      "source": [
        "<a href=\"https://colab.research.google.com/github/sandeeppalakkal/ML_Datascience_Practice/blob/master/PyTorch_Practice.ipynb\" target=\"_parent\"><img src=\"https://colab.research.google.com/assets/colab-badge.svg\" alt=\"Open In Colab\"/></a>"
      ]
    },
    {
      "metadata": {
        "id": "6U9mrOlcWiZh",
        "colab_type": "code",
        "colab": {}
      },
      "cell_type": "code",
      "source": [
        "import torch\n",
        "import numpy as np"
      ],
      "execution_count": 0,
      "outputs": []
    },
    {
      "metadata": {
        "id": "8gKCBHc5Wnus",
        "colab_type": "code",
        "colab": {}
      },
      "cell_type": "code",
      "source": [
        "# Pytorch tensors\n",
        "x = torch.rand(5,3)\n",
        "y = torch.ones(5,3)"
      ],
      "execution_count": 0,
      "outputs": []
    },
    {
      "metadata": {
        "id": "Np22uDvUX0Fh",
        "colab_type": "code",
        "outputId": "22574c61-83c8-4d64-c0e3-b47a26cffa53",
        "colab": {
          "base_uri": "https://localhost:8080/",
          "height": 102
        }
      },
      "cell_type": "code",
      "source": [
        "print(x)"
      ],
      "execution_count": 3,
      "outputs": [
        {
          "output_type": "stream",
          "text": [
            "tensor([[0.3689, 0.3252, 0.9715],\n",
            "        [0.5771, 0.7490, 0.2808],\n",
            "        [0.7953, 0.5222, 0.5272],\n",
            "        [0.9920, 0.5958, 0.5171],\n",
            "        [0.0562, 0.6241, 0.4278]])\n"
          ],
          "name": "stdout"
        }
      ]
    },
    {
      "metadata": {
        "id": "yO_rY4yHYe2p",
        "colab_type": "code",
        "outputId": "76f68fde-4066-4cd0-9f41-852856968b94",
        "colab": {
          "base_uri": "https://localhost:8080/",
          "height": 102
        }
      },
      "cell_type": "code",
      "source": [
        "print(y)"
      ],
      "execution_count": 4,
      "outputs": [
        {
          "output_type": "stream",
          "text": [
            "tensor([[1., 1., 1.],\n",
            "        [1., 1., 1.],\n",
            "        [1., 1., 1.],\n",
            "        [1., 1., 1.],\n",
            "        [1., 1., 1.]])\n"
          ],
          "name": "stdout"
        }
      ]
    },
    {
      "metadata": {
        "id": "VXQlzoBvYfqb",
        "colab_type": "code",
        "colab": {}
      },
      "cell_type": "code",
      "source": [
        "# Addition syntax 1\n",
        "z = torch.add(x,y)"
      ],
      "execution_count": 0,
      "outputs": []
    },
    {
      "metadata": {
        "id": "wKeMjDr6Yjwp",
        "colab_type": "code",
        "outputId": "a6e2e02e-ed14-49ae-cb33-698c7a9852b1",
        "colab": {
          "base_uri": "https://localhost:8080/",
          "height": 102
        }
      },
      "cell_type": "code",
      "source": [
        "print(z)"
      ],
      "execution_count": 6,
      "outputs": [
        {
          "output_type": "stream",
          "text": [
            "tensor([[1.3689, 1.3252, 1.9715],\n",
            "        [1.5771, 1.7490, 1.2808],\n",
            "        [1.7953, 1.5222, 1.5272],\n",
            "        [1.9920, 1.5958, 1.5171],\n",
            "        [1.0562, 1.6241, 1.4278]])\n"
          ],
          "name": "stdout"
        }
      ]
    },
    {
      "metadata": {
        "id": "POzK-39QYkav",
        "colab_type": "code",
        "outputId": "f618b003-9582-47a1-8f3c-d0b5a2918a1a",
        "colab": {
          "base_uri": "https://localhost:8080/",
          "height": 34
        }
      },
      "cell_type": "code",
      "source": [
        "# Tensor shape syntax 1\n",
        "print(x.shape)"
      ],
      "execution_count": 7,
      "outputs": [
        {
          "output_type": "stream",
          "text": [
            "torch.Size([5, 3])\n"
          ],
          "name": "stdout"
        }
      ]
    },
    {
      "metadata": {
        "id": "V_8IniMcYpsj",
        "colab_type": "code",
        "outputId": "11bfd08c-11e8-40a4-e89e-5bbdb9f9c00b",
        "colab": {
          "base_uri": "https://localhost:8080/",
          "height": 34
        }
      },
      "cell_type": "code",
      "source": [
        "# Tensor shape syntax 2\n",
        "print(x.size())"
      ],
      "execution_count": 8,
      "outputs": [
        {
          "output_type": "stream",
          "text": [
            "torch.Size([5, 3])\n"
          ],
          "name": "stdout"
        }
      ]
    },
    {
      "metadata": {
        "id": "upk6QESHYqrH",
        "colab_type": "code",
        "outputId": "3b43c57e-27f4-43cf-ba31-7a5f95859749",
        "colab": {
          "base_uri": "https://localhost:8080/",
          "height": 102
        }
      },
      "cell_type": "code",
      "source": [
        "# Addition syntax 2\n",
        "print(x+y)"
      ],
      "execution_count": 9,
      "outputs": [
        {
          "output_type": "stream",
          "text": [
            "tensor([[1.3689, 1.3252, 1.9715],\n",
            "        [1.5771, 1.7490, 1.2808],\n",
            "        [1.7953, 1.5222, 1.5272],\n",
            "        [1.9920, 1.5958, 1.5171],\n",
            "        [1.0562, 1.6241, 1.4278]])\n"
          ],
          "name": "stdout"
        }
      ]
    },
    {
      "metadata": {
        "id": "DEhZ5GhsYwvN",
        "colab_type": "code",
        "outputId": "543b7dc6-4e86-4757-c1a8-d5ef1344ef2b",
        "colab": {
          "base_uri": "https://localhost:8080/",
          "height": 187
        }
      },
      "cell_type": "code",
      "source": [
        "# let us run this cell only if CUDA is available\n",
        "# We will use ``torch.device`` objects to move tensors in and out of GPU\n",
        "if torch.cuda.is_available():\n",
        "    device = torch.device(\"cuda\")          # a CUDA device object\n",
        "    y = torch.ones_like(x, device=device)  # directly create a tensor on GPU\n",
        "    x = x.to(device)                       # or just use strings ``.to(\"cuda\")``\n",
        "    z = x + y\n",
        "    print(z)\n",
        "    print(z.to(\"cpu\", torch.double))       # ``.to`` can also change dtype together!\n",
        "else:\n",
        "  print(\"CUDA device is not available\")"
      ],
      "execution_count": 0,
      "outputs": [
        {
          "output_type": "stream",
          "text": [
            "tensor([[1.4101, 1.4473, 1.5356],\n",
            "        [1.2186, 1.3727, 1.4489],\n",
            "        [1.8789, 1.2695, 1.4725],\n",
            "        [1.3535, 1.3267, 1.7715],\n",
            "        [1.2827, 1.8754, 1.5448]], device='cuda:0')\n",
            "tensor([[1.4101, 1.4473, 1.5356],\n",
            "        [1.2186, 1.3727, 1.4489],\n",
            "        [1.8789, 1.2695, 1.4725],\n",
            "        [1.3535, 1.3267, 1.7715],\n",
            "        [1.2827, 1.8754, 1.5448]], dtype=torch.float64)\n"
          ],
          "name": "stdout"
        }
      ]
    },
    {
      "metadata": {
        "id": "JTB52LlkZIMV",
        "colab_type": "code",
        "colab": {
          "base_uri": "https://localhost:8080/",
          "height": 34
        },
        "outputId": "6001c404-5d71-4a48-f60e-06cdb18b5834"
      },
      "cell_type": "code",
      "source": [
        "# Tensor type\n",
        "print(type(x))"
      ],
      "execution_count": 10,
      "outputs": [
        {
          "output_type": "stream",
          "text": [
            "<class 'torch.Tensor'>\n"
          ],
          "name": "stdout"
        }
      ]
    },
    {
      "metadata": {
        "id": "IrMuFj6iGtFu",
        "colab_type": "code",
        "colab": {
          "base_uri": "https://localhost:8080/",
          "height": 34
        },
        "outputId": "016f6bdc-f818-4fe4-edab-dca3441ffeb6"
      },
      "cell_type": "code",
      "source": [
        "# view() = reshape()\n",
        "x = torch.randn(4,4)\n",
        "y = x.view(16)\n",
        "z = x.view(-1,8)\n",
        "print(x.size(),y.size(),z.size())"
      ],
      "execution_count": 12,
      "outputs": [
        {
          "output_type": "stream",
          "text": [
            "torch.Size([4, 4]) torch.Size([16]) torch.Size([2, 8])\n"
          ],
          "name": "stdout"
        }
      ]
    },
    {
      "metadata": {
        "id": "3jsH1L42G6qg",
        "colab_type": "code",
        "colab": {
          "base_uri": "https://localhost:8080/",
          "height": 153
        },
        "outputId": "abcb80ef-3c18-436b-86a5-db1c9d354d07"
      },
      "cell_type": "code",
      "source": [
        "# Reshaped!\n",
        "print(x)\n",
        "print(y)\n",
        "print(z)"
      ],
      "execution_count": 14,
      "outputs": [
        {
          "output_type": "stream",
          "text": [
            "tensor([[ 0.6335, -1.2514,  0.8108, -0.9873],\n",
            "        [ 0.6529,  1.4345,  0.2457,  0.8810],\n",
            "        [ 0.7574, -0.7626,  0.0663,  0.2342],\n",
            "        [ 0.4868, -0.6574,  1.6877,  0.9089]])\n",
            "tensor([ 0.6335, -1.2514,  0.8108, -0.9873,  0.6529,  1.4345,  0.2457,  0.8810,\n",
            "         0.7574, -0.7626,  0.0663,  0.2342,  0.4868, -0.6574,  1.6877,  0.9089])\n",
            "tensor([[ 0.6335, -1.2514,  0.8108, -0.9873,  0.6529,  1.4345,  0.2457,  0.8810],\n",
            "        [ 0.7574, -0.7626,  0.0663,  0.2342,  0.4868, -0.6574,  1.6877,  0.9089]])\n"
          ],
          "name": "stdout"
        }
      ]
    },
    {
      "metadata": {
        "id": "PLR9dQebHEbo",
        "colab_type": "code",
        "colab": {
          "base_uri": "https://localhost:8080/",
          "height": 51
        },
        "outputId": "781066b1-0dad-4fb2-ec19-f58b6741e5e2"
      },
      "cell_type": "code",
      "source": [
        "# item() to convert a single tensor element to a number\n",
        "print(x[0,0])\n",
        "print(x[0,0].item())"
      ],
      "execution_count": 17,
      "outputs": [
        {
          "output_type": "stream",
          "text": [
            "tensor(0.6335)\n",
            "0.6335106492042542\n"
          ],
          "name": "stdout"
        }
      ]
    },
    {
      "metadata": {
        "id": "pGZmQgm2IDIB",
        "colab_type": "code",
        "colab": {
          "base_uri": "https://localhost:8080/",
          "height": 153
        },
        "outputId": "1733bf25-c901-41cf-fe04-b921b6c1cd4e"
      },
      "cell_type": "code",
      "source": [
        "# Converting to numpy array\n",
        "print(x)\n",
        "print(x.numpy())"
      ],
      "execution_count": 18,
      "outputs": [
        {
          "output_type": "stream",
          "text": [
            "tensor([[ 0.6335, -1.2514,  0.8108, -0.9873],\n",
            "        [ 0.6529,  1.4345,  0.2457,  0.8810],\n",
            "        [ 0.7574, -0.7626,  0.0663,  0.2342],\n",
            "        [ 0.4868, -0.6574,  1.6877,  0.9089]])\n",
            "[[ 0.63351065 -1.2514378   0.810836   -0.9873469 ]\n",
            " [ 0.6529109   1.4345037   0.24565032  0.88096434]\n",
            " [ 0.7573738  -0.76259947  0.06630369  0.23422599]\n",
            " [ 0.48679796 -0.65741533  1.6876866   0.9089124 ]]\n"
          ],
          "name": "stdout"
        }
      ]
    },
    {
      "metadata": {
        "id": "-NUvG7niIGAW",
        "colab_type": "code",
        "colab": {}
      },
      "cell_type": "code",
      "source": [
        ""
      ],
      "execution_count": 0,
      "outputs": []
    }
  ]
}