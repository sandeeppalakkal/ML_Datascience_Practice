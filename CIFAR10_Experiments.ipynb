{
  "nbformat": 4,
  "nbformat_minor": 0,
  "metadata": {
    "colab": {
      "name": "CIFAR10_Experiments.ipynb",
      "provenance": [],
      "collapsed_sections": [],
      "authorship_tag": "ABX9TyMFk9QCiEqB2A5WLN+RxZmi",
      "include_colab_link": true
    },
    "kernelspec": {
      "name": "python3",
      "display_name": "Python 3"
    },
    "language_info": {
      "name": "python"
    },
    "accelerator": "GPU",
    "gpuClass": "standard"
  },
  "cells": [
    {
      "cell_type": "markdown",
      "metadata": {
        "id": "view-in-github",
        "colab_type": "text"
      },
      "source": [
        "<a href=\"https://colab.research.google.com/github/sandeeppalakkal/ML_Datascience_Practice/blob/master/CIFAR10_Experiments.ipynb\" target=\"_parent\"><img src=\"https://colab.research.google.com/assets/colab-badge.svg\" alt=\"Open In Colab\"/></a>"
      ]
    },
    {
      "cell_type": "markdown",
      "source": [
        "# Get Data"
      ],
      "metadata": {
        "id": "IZH_4VgZVfiK"
      }
    },
    {
      "cell_type": "code",
      "execution_count": 1,
      "metadata": {
        "id": "8a720a2_VK-i"
      },
      "outputs": [],
      "source": [
        "import torch\n",
        "import torchvision\n",
        "import torchvision.transforms as transforms"
      ]
    },
    {
      "cell_type": "code",
      "source": [
        "# Get CIFAR10 data\n",
        "def get_cifar10(transform=None):\n",
        "  trainset = torchvision.datasets.CIFAR10(root='./root',train=True,download=True,transform=transform)\n",
        "  valset = torchvision.datasets.CIFAR10(root='./data',train=False,download=True,transform=transform)\n",
        "  classes = ('plane', 'car', 'bird', 'cat', 'deer', 'dog', 'frog', 'horse', 'ship', 'truck')\n",
        "  return trainset, valset, classes"
      ],
      "metadata": {
        "id": "lYtO0YI_bJqK"
      },
      "execution_count": 2,
      "outputs": []
    },
    {
      "cell_type": "code",
      "source": [
        "def dataloader(batch_size):\n",
        "  transform = transforms.Compose([transforms.ToTensor(), transforms.Normalize(3*[0.5], 3*[0.5])])\n",
        "  trainset,valset, classes = get_cifar10(transform)\n",
        "  train_loader = torch.utils.data.DataLoader(trainset, batch_size=batch_size, shuffle=True, num_workers=2)\n",
        "  val_loader = torch.utils.data.DataLoader(valset, batch_size=batch_size, num_workers=2)\n",
        "  return train_loader, val_loader, classes"
      ],
      "metadata": {
        "id": "fPWWUd_FaDGw"
      },
      "execution_count": 3,
      "outputs": []
    },
    {
      "cell_type": "markdown",
      "source": [
        "# Training Module"
      ],
      "metadata": {
        "id": "xnl226Efb8aJ"
      }
    },
    {
      "cell_type": "code",
      "source": [
        "def train(train_loader,val_loader,net,n_epochs,criterion,optimizer,device):\n",
        "\n",
        "  # start training\n",
        "  losses = []\n",
        "  acc = []\n",
        "  val_losses = []\n",
        "  val_acc = []\n",
        "  for epoch in range(n_epochs):\n",
        "    running_loss = 0\n",
        "    correct = 0\n",
        "    total = 0\n",
        "    for i, data in enumerate(train_loader):\n",
        "        images,labels = data[0].to(device),data[1].to(device)\n",
        "\n",
        "        optimizer.zero_grad()\n",
        "\n",
        "        outputs = net(images)\n",
        "        loss = criterion(outputs, labels)\n",
        "        loss.backward()\n",
        "        optimizer.step()\n",
        "\n",
        "        running_loss += loss.item()\n",
        "        predictions = torch.argmax(outputs.data, 1)\n",
        "        correct += (predictions == labels).float().sum().item()\n",
        "        total += labels.size(0)\n",
        "    \n",
        "    losses.append(running_loss / len(train_loader))\n",
        "    acc.append(correct / total * 100)\n",
        "\n",
        "    # Test model\n",
        "    # since we're not training, we don't need to calculate the gradients for our outputs\n",
        "    with torch.no_grad():\n",
        "      correct = 0\n",
        "      running_loss = 0\n",
        "      total = 0\n",
        "      for data in val_loader:\n",
        "        images, labels = data[0].to(device), data[1].to(device)\n",
        "        # calculate outputs by running images through the network\n",
        "        outputs = net(images)\n",
        "        running_loss += criterion(outputs, labels).item()\n",
        "        # the class with the highest energy is what we choose as prediction\n",
        "        predicted = torch.argmax(outputs.data, 1)\n",
        "        total += labels.size(0)\n",
        "        correct += (predicted == labels).sum().item()\n",
        "\n",
        "      val_acc.append(100 * correct / total)\n",
        "      val_losses.append(running_loss/len(val_loader))\n",
        "\n",
        "    print(f'[Epoch: {epoch + 1}] \\\n",
        "    train loss: {losses[-1]:.3f}; val loss: {val_losses[-1]:.3f}; \\\n",
        "    train accuracy: {acc[-1]:.2f}%; test accuracy: {val_acc[-1]:.2f}%') \n",
        "\n",
        "  print('Finished Training')\n",
        "  return net, losses, acc, val_losses, val_acc"
      ],
      "metadata": {
        "id": "WpEJqAj5cMXy"
      },
      "execution_count": 39,
      "outputs": []
    },
    {
      "cell_type": "markdown",
      "source": [
        "# Define Model"
      ],
      "metadata": {
        "id": "z_EF2kVOkXP0"
      }
    },
    {
      "cell_type": "code",
      "source": [
        "import torch.nn as nn\n",
        "import torch.nn.functional as F"
      ],
      "metadata": {
        "id": "lcxpZOLYkZuq"
      },
      "execution_count": 5,
      "outputs": []
    },
    {
      "cell_type": "code",
      "source": [
        "class Net1(nn.Module):\n",
        "  def __init__(self):\n",
        "    super().__init__()\n",
        "    self.conv1 = nn.Conv2d(3,6,5)\n",
        "    self.pool = nn.MaxPool2d(2,2)\n",
        "    self.conv2 = nn.Conv2d(6,16,5)\n",
        "    self.fc1 = nn.Linear(16*5*5,120)\n",
        "    self.fc2 = nn.Linear(120,84)\n",
        "    self.fc3 = nn.Linear(84,10)\n",
        "\n",
        "  def forward(self, x):\n",
        "    x = self.pool(F.relu(self.conv1(x)))\n",
        "    x = self.pool(F.relu(self.conv2(x)))\n",
        "    x = torch.flatten(x, 1)\n",
        "    x = F.relu(self.fc1(x))\n",
        "    x = F.relu(self.fc2(x))\n",
        "    x = self.fc3(x)\n",
        "    return x"
      ],
      "metadata": {
        "id": "yRbFcemdkrN6"
      },
      "execution_count": 6,
      "outputs": []
    },
    {
      "cell_type": "code",
      "source": [
        "class Net2(nn.Module):\n",
        "  def __init__(self):\n",
        "    super().__init__()\n",
        "    self.conv1 = nn.Conv2d(3,6,5)\n",
        "    self.pool = nn.MaxPool2d(2,2)\n",
        "    self.conv2 = nn.Conv2d(6,16,5)\n",
        "    self.fc1 = nn.Linear(16*5*5,120)\n",
        "    self.fc2 = nn.Linear(120,84)\n",
        "    self.fc3 = nn.Linear(84,10)\n",
        "    self.dropout = nn.Dropout(p=0.3)\n",
        "\n",
        "  def forward(self, x):\n",
        "    x = self.pool(F.relu(self.conv1(x)))\n",
        "    x = self.pool(F.relu(self.conv2(x)))\n",
        "    x = torch.flatten(x, 1)\n",
        "    x = F.relu(self.fc1(x))\n",
        "    x = self.dropout(x)\n",
        "    x = F.relu(self.fc2(x))\n",
        "    x = self.fc3(x)\n",
        "    return x"
      ],
      "metadata": {
        "id": "miygzas63Zxs"
      },
      "execution_count": 46,
      "outputs": []
    },
    {
      "cell_type": "markdown",
      "source": [
        "# Train Model"
      ],
      "metadata": {
        "id": "8FXc8VR4kC8f"
      }
    },
    {
      "cell_type": "code",
      "source": [
        "# choose gpu if available\n",
        "device = torch.device('cuda:0' if torch.cuda.is_available() else 'cpu')"
      ],
      "metadata": {
        "id": "KjFfy9I8hkxH"
      },
      "execution_count": 28,
      "outputs": []
    },
    {
      "cell_type": "code",
      "source": [
        "lr = 0.001\n",
        "momentum = 0.9\n",
        "batch_size = 32\n",
        "n_epochs = 50"
      ],
      "metadata": {
        "id": "OgIidtZHmrBo"
      },
      "execution_count": 30,
      "outputs": []
    },
    {
      "cell_type": "code",
      "source": [
        "# Data loader\n",
        "train_loader,val_loader,classes = dataloader(batch_size)"
      ],
      "metadata": {
        "colab": {
          "base_uri": "https://localhost:8080/"
        },
        "id": "SCd8WgiemC3D",
        "outputId": "52b394c1-4299-494e-800b-19f0424b8b7b"
      },
      "execution_count": 32,
      "outputs": [
        {
          "output_type": "stream",
          "name": "stdout",
          "text": [
            "Files already downloaded and verified\n",
            "Files already downloaded and verified\n"
          ]
        }
      ]
    },
    {
      "cell_type": "code",
      "source": [
        "# define network for training\n",
        "net = Net1().to(device)"
      ],
      "metadata": {
        "id": "YM8HpVvpkO_b"
      },
      "execution_count": 40,
      "outputs": []
    },
    {
      "cell_type": "code",
      "source": [
        "# Loss function & optimizer\n",
        "import torch.optim as optim\n",
        "criterion = nn.CrossEntropyLoss()\n",
        "optimizer = optim.SGD(net.parameters(), lr=lr, momentum = momentum)"
      ],
      "metadata": {
        "id": "zI_k9XaMlESG"
      },
      "execution_count": 41,
      "outputs": []
    },
    {
      "cell_type": "code",
      "source": [
        "net, losses, acc, val_losses, val_acc = train(train_loader,val_loader,net,n_epochs,criterion,optimizer,device)"
      ],
      "metadata": {
        "colab": {
          "base_uri": "https://localhost:8080/"
        },
        "id": "Rey816A6ljJN",
        "outputId": "d4b572fe-9596-4451-9af2-f772d586ec55"
      },
      "execution_count": 42,
      "outputs": [
        {
          "output_type": "stream",
          "name": "stdout",
          "text": [
            "[Epoch: 1]     train loss: 2.287; val loss: 2.194     train accuracy: 13.62%; test accuracy: 19.19%\n",
            "[Epoch: 2]     train loss: 1.926; val loss: 1.712     train accuracy: 28.91%; test accuracy: 36.41%\n",
            "[Epoch: 3]     train loss: 1.631; val loss: 1.538     train accuracy: 39.79%; test accuracy: 43.45%\n",
            "[Epoch: 4]     train loss: 1.507; val loss: 1.439     train accuracy: 45.03%; test accuracy: 47.25%\n",
            "[Epoch: 5]     train loss: 1.408; val loss: 1.357     train accuracy: 48.66%; test accuracy: 51.12%\n",
            "[Epoch: 6]     train loss: 1.336; val loss: 1.331     train accuracy: 51.73%; test accuracy: 52.24%\n",
            "[Epoch: 7]     train loss: 1.271; val loss: 1.265     train accuracy: 54.39%; test accuracy: 54.60%\n",
            "[Epoch: 8]     train loss: 1.212; val loss: 1.206     train accuracy: 56.61%; test accuracy: 56.93%\n",
            "[Epoch: 9]     train loss: 1.164; val loss: 1.210     train accuracy: 58.55%; test accuracy: 57.18%\n",
            "[Epoch: 10]     train loss: 1.119; val loss: 1.140     train accuracy: 60.36%; test accuracy: 60.12%\n",
            "[Epoch: 11]     train loss: 1.083; val loss: 1.184     train accuracy: 61.73%; test accuracy: 58.96%\n",
            "[Epoch: 12]     train loss: 1.052; val loss: 1.107     train accuracy: 63.05%; test accuracy: 61.14%\n",
            "[Epoch: 13]     train loss: 1.021; val loss: 1.086     train accuracy: 63.93%; test accuracy: 62.10%\n",
            "[Epoch: 14]     train loss: 0.991; val loss: 1.066     train accuracy: 65.28%; test accuracy: 62.92%\n",
            "[Epoch: 15]     train loss: 0.965; val loss: 1.083     train accuracy: 65.98%; test accuracy: 62.77%\n",
            "[Epoch: 16]     train loss: 0.938; val loss: 1.052     train accuracy: 66.91%; test accuracy: 63.25%\n",
            "[Epoch: 17]     train loss: 0.913; val loss: 1.098     train accuracy: 67.91%; test accuracy: 62.51%\n",
            "[Epoch: 18]     train loss: 0.888; val loss: 1.050     train accuracy: 68.81%; test accuracy: 64.51%\n",
            "[Epoch: 19]     train loss: 0.865; val loss: 1.021     train accuracy: 69.78%; test accuracy: 64.78%\n",
            "[Epoch: 20]     train loss: 0.844; val loss: 1.028     train accuracy: 70.54%; test accuracy: 64.65%\n",
            "[Epoch: 21]     train loss: 0.825; val loss: 1.029     train accuracy: 71.08%; test accuracy: 64.71%\n",
            "[Epoch: 22]     train loss: 0.805; val loss: 1.018     train accuracy: 71.84%; test accuracy: 65.63%\n",
            "[Epoch: 23]     train loss: 0.781; val loss: 1.039     train accuracy: 72.65%; test accuracy: 64.74%\n",
            "[Epoch: 24]     train loss: 0.759; val loss: 1.029     train accuracy: 73.29%; test accuracy: 65.04%\n",
            "[Epoch: 25]     train loss: 0.741; val loss: 1.020     train accuracy: 73.89%; test accuracy: 66.41%\n",
            "[Epoch: 26]     train loss: 0.728; val loss: 1.056     train accuracy: 74.50%; test accuracy: 65.02%\n",
            "[Epoch: 27]     train loss: 0.706; val loss: 1.043     train accuracy: 75.09%; test accuracy: 65.67%\n",
            "[Epoch: 28]     train loss: 0.688; val loss: 1.042     train accuracy: 75.88%; test accuracy: 65.55%\n",
            "[Epoch: 29]     train loss: 0.674; val loss: 1.062     train accuracy: 76.40%; test accuracy: 65.41%\n",
            "[Epoch: 30]     train loss: 0.654; val loss: 1.111     train accuracy: 77.03%; test accuracy: 64.46%\n",
            "[Epoch: 31]     train loss: 0.637; val loss: 1.080     train accuracy: 77.52%; test accuracy: 65.57%\n",
            "[Epoch: 32]     train loss: 0.620; val loss: 1.128     train accuracy: 78.19%; test accuracy: 65.22%\n",
            "[Epoch: 33]     train loss: 0.605; val loss: 1.107     train accuracy: 78.61%; test accuracy: 65.77%\n",
            "[Epoch: 34]     train loss: 0.591; val loss: 1.124     train accuracy: 79.12%; test accuracy: 65.30%\n",
            "[Epoch: 35]     train loss: 0.572; val loss: 1.143     train accuracy: 79.87%; test accuracy: 65.26%\n",
            "[Epoch: 36]     train loss: 0.559; val loss: 1.180     train accuracy: 80.38%; test accuracy: 64.63%\n",
            "[Epoch: 37]     train loss: 0.544; val loss: 1.193     train accuracy: 80.60%; test accuracy: 64.70%\n",
            "[Epoch: 38]     train loss: 0.531; val loss: 1.226     train accuracy: 81.17%; test accuracy: 64.62%\n",
            "[Epoch: 39]     train loss: 0.517; val loss: 1.193     train accuracy: 81.57%; test accuracy: 64.89%\n",
            "[Epoch: 40]     train loss: 0.505; val loss: 1.223     train accuracy: 82.08%; test accuracy: 65.22%\n",
            "[Epoch: 41]     train loss: 0.490; val loss: 1.269     train accuracy: 82.55%; test accuracy: 64.16%\n",
            "[Epoch: 42]     train loss: 0.476; val loss: 1.261     train accuracy: 83.08%; test accuracy: 65.19%\n",
            "[Epoch: 43]     train loss: 0.464; val loss: 1.307     train accuracy: 83.53%; test accuracy: 63.85%\n",
            "[Epoch: 44]     train loss: 0.448; val loss: 1.337     train accuracy: 84.06%; test accuracy: 63.51%\n",
            "[Epoch: 45]     train loss: 0.438; val loss: 1.330     train accuracy: 84.55%; test accuracy: 64.52%\n",
            "[Epoch: 46]     train loss: 0.427; val loss: 1.393     train accuracy: 84.82%; test accuracy: 63.82%\n",
            "[Epoch: 47]     train loss: 0.411; val loss: 1.404     train accuracy: 85.33%; test accuracy: 64.20%\n",
            "[Epoch: 48]     train loss: 0.401; val loss: 1.433     train accuracy: 85.77%; test accuracy: 63.70%\n",
            "[Epoch: 49]     train loss: 0.394; val loss: 1.463     train accuracy: 85.93%; test accuracy: 63.43%\n",
            "[Epoch: 50]     train loss: 0.378; val loss: 1.497     train accuracy: 86.42%; test accuracy: 63.47%\n",
            "Finished Training\n"
          ]
        }
      ]
    },
    {
      "cell_type": "code",
      "source": [
        "# Plot loss\n",
        "import matplotlib.pyplot as plt\n",
        "def plot_losses(train_losses, val_losses, train_acc, val_acc):\n",
        "  plt.plot(train_losses,label='train loss')\n",
        "  plt.plot(val_losses,label='val loss')\n",
        "  plt.legend()\n",
        "  plt.grid()\n",
        "  plt.show()\n",
        "  plt.plot(train_acc, label='train acc')\n",
        "  plt.plot(val_acc, label='val acc')\n",
        "  plt.legend()\n",
        "  plt.grid()\n",
        "  plt.show()\n",
        "\n",
        "plot_losses(losses, val_losses, acc, val_acc)"
      ],
      "metadata": {
        "colab": {
          "base_uri": "https://localhost:8080/",
          "height": 517
        },
        "id": "TWKO5WfGoUxn",
        "outputId": "b28a0cf9-2179-4488-9962-430a8fcb5581"
      },
      "execution_count": 44,
      "outputs": [
        {
          "output_type": "display_data",
          "data": {
            "text/plain": [
              "<Figure size 432x288 with 1 Axes>"
            ],
            "image/png": "[encoded data removed]"
          },
          "metadata": {
            "needs_background": "light"
          }
        },
        {
          "output_type": "display_data",
          "data": {
            "text/plain": [
              "<Figure size 432x288 with 1 Axes>"
            ],
            "image/png": "[encoded data removed]"
          },
          "metadata": {
            "needs_background": "light"
          }
        }
      ]
    },
    {
      "cell_type": "markdown",
      "source": [
        "**Conclusion:** model is over-fitting to training set"
      ],
      "metadata": {
        "id": "XGKEpz4y1zrB"
      }
    },
    {
      "cell_type": "markdown",
      "source": [
        "# 2nd Training: Dropout"
      ],
      "metadata": {
        "id": "b7vHW9YE2BJt"
      }
    },
    {
      "cell_type": "code",
      "source": [
        "# choose gpu if available\n",
        "device = torch.device('cuda:0' if torch.cuda.is_available() else 'cpu')\n",
        "\n",
        "lr = 0.001\n",
        "momentum = 0.9\n",
        "batch_size = 32\n",
        "n_epochs = 50\n",
        "\n",
        "# Data loader\n",
        "train_loader,val_loader,classes = dataloader(batch_size)\n",
        "\n",
        "# define network for training\n",
        "net = Net2().to(device)\n",
        "\n",
        "# Loss function & optimizer\n",
        "import torch.optim as optim\n",
        "criterion = nn.CrossEntropyLoss()\n",
        "optimizer = optim.SGD(net.parameters(), lr=lr, momentum = momentum)\n",
        "\n",
        "# train\n",
        "net, losses, acc, val_losses, val_acc = train(train_loader,val_loader,net,n_epochs,criterion,optimizer,device)\n",
        "\n",
        "# plot loss\n",
        "plot_losses(losses, val_losses, acc, val_acc)"
      ],
      "metadata": {
        "colab": {
          "base_uri": "https://localhost:8080/",
          "height": 1000
        },
        "id": "GI0Qj8LI4Y0L",
        "outputId": "3cf17723-a4d2-4ac4-cc9e-32079b578b36"
      },
      "execution_count": 47,
      "outputs": [
        {
          "output_type": "stream",
          "name": "stdout",
          "text": [
            "Files already downloaded and verified\n",
            "Files already downloaded and verified\n",
            "[Epoch: 1]     train loss: 2.239; val loss: 2.011     train accuracy: 16.43%; test accuracy: 26.15%\n",
            "[Epoch: 2]     train loss: 1.876; val loss: 1.746     train accuracy: 30.32%; test accuracy: 34.92%\n",
            "[Epoch: 3]     train loss: 1.673; val loss: 1.603     train accuracy: 38.23%; test accuracy: 41.56%\n",
            "[Epoch: 4]     train loss: 1.572; val loss: 1.547     train accuracy: 42.62%; test accuracy: 44.17%\n",
            "[Epoch: 5]     train loss: 1.499; val loss: 1.488     train accuracy: 45.41%; test accuracy: 46.08%\n",
            "[Epoch: 6]     train loss: 1.441; val loss: 1.418     train accuracy: 47.46%; test accuracy: 48.21%\n",
            "[Epoch: 7]     train loss: 1.393; val loss: 1.396     train accuracy: 49.36%; test accuracy: 49.51%\n",
            "[Epoch: 8]     train loss: 1.349; val loss: 1.375     train accuracy: 51.08%; test accuracy: 50.56%\n",
            "[Epoch: 9]     train loss: 1.312; val loss: 1.323     train accuracy: 52.70%; test accuracy: 52.62%\n",
            "[Epoch: 10]     train loss: 1.278; val loss: 1.285     train accuracy: 54.01%; test accuracy: 53.94%\n",
            "[Epoch: 11]     train loss: 1.244; val loss: 1.304     train accuracy: 55.55%; test accuracy: 53.50%\n",
            "[Epoch: 12]     train loss: 1.208; val loss: 1.249     train accuracy: 56.71%; test accuracy: 56.18%\n",
            "[Epoch: 13]     train loss: 1.180; val loss: 1.227     train accuracy: 57.98%; test accuracy: 56.10%\n",
            "[Epoch: 14]     train loss: 1.151; val loss: 1.179     train accuracy: 59.24%; test accuracy: 58.59%\n",
            "[Epoch: 15]     train loss: 1.126; val loss: 1.169     train accuracy: 59.94%; test accuracy: 58.74%\n",
            "[Epoch: 16]     train loss: 1.104; val loss: 1.149     train accuracy: 60.70%; test accuracy: 59.56%\n",
            "[Epoch: 17]     train loss: 1.082; val loss: 1.154     train accuracy: 61.45%; test accuracy: 59.67%\n",
            "[Epoch: 18]     train loss: 1.064; val loss: 1.134     train accuracy: 62.28%; test accuracy: 59.77%\n",
            "[Epoch: 19]     train loss: 1.042; val loss: 1.125     train accuracy: 63.01%; test accuracy: 60.37%\n",
            "[Epoch: 20]     train loss: 1.026; val loss: 1.124     train accuracy: 63.73%; test accuracy: 60.77%\n",
            "[Epoch: 21]     train loss: 1.012; val loss: 1.115     train accuracy: 64.24%; test accuracy: 61.41%\n",
            "[Epoch: 22]     train loss: 0.996; val loss: 1.110     train accuracy: 64.64%; test accuracy: 61.13%\n",
            "[Epoch: 23]     train loss: 0.979; val loss: 1.117     train accuracy: 65.39%; test accuracy: 61.69%\n",
            "[Epoch: 24]     train loss: 0.967; val loss: 1.082     train accuracy: 65.66%; test accuracy: 62.35%\n",
            "[Epoch: 25]     train loss: 0.953; val loss: 1.076     train accuracy: 66.15%; test accuracy: 62.47%\n",
            "[Epoch: 26]     train loss: 0.943; val loss: 1.094     train accuracy: 66.51%; test accuracy: 61.75%\n",
            "[Epoch: 27]     train loss: 0.931; val loss: 1.088     train accuracy: 67.03%; test accuracy: 61.92%\n",
            "[Epoch: 28]     train loss: 0.922; val loss: 1.111     train accuracy: 67.30%; test accuracy: 61.43%\n",
            "[Epoch: 29]     train loss: 0.911; val loss: 1.073     train accuracy: 67.89%; test accuracy: 63.21%\n",
            "[Epoch: 30]     train loss: 0.894; val loss: 1.103     train accuracy: 68.62%; test accuracy: 61.70%\n",
            "[Epoch: 31]     train loss: 0.886; val loss: 1.089     train accuracy: 68.55%; test accuracy: 62.77%\n",
            "[Epoch: 32]     train loss: 0.884; val loss: 1.073     train accuracy: 68.82%; test accuracy: 63.17%\n",
            "[Epoch: 33]     train loss: 0.870; val loss: 1.079     train accuracy: 69.21%; test accuracy: 62.85%\n",
            "[Epoch: 34]     train loss: 0.861; val loss: 1.073     train accuracy: 69.36%; test accuracy: 63.56%\n",
            "[Epoch: 35]     train loss: 0.851; val loss: 1.078     train accuracy: 69.82%; test accuracy: 63.05%\n",
            "[Epoch: 36]     train loss: 0.842; val loss: 1.069     train accuracy: 70.25%; test accuracy: 63.37%\n",
            "[Epoch: 37]     train loss: 0.834; val loss: 1.085     train accuracy: 70.55%; test accuracy: 62.63%\n",
            "[Epoch: 38]     train loss: 0.829; val loss: 1.055     train accuracy: 70.67%; test accuracy: 64.05%\n",
            "[Epoch: 39]     train loss: 0.817; val loss: 1.092     train accuracy: 70.91%; test accuracy: 62.92%\n",
            "[Epoch: 40]     train loss: 0.820; val loss: 1.100     train accuracy: 70.89%; test accuracy: 62.43%\n",
            "[Epoch: 41]     train loss: 0.809; val loss: 1.075     train accuracy: 71.33%; test accuracy: 63.49%\n",
            "[Epoch: 42]     train loss: 0.804; val loss: 1.087     train accuracy: 71.34%; test accuracy: 63.44%\n",
            "[Epoch: 43]     train loss: 0.797; val loss: 1.097     train accuracy: 71.48%; test accuracy: 63.00%\n",
            "[Epoch: 44]     train loss: 0.791; val loss: 1.110     train accuracy: 71.83%; test accuracy: 62.91%\n",
            "[Epoch: 45]     train loss: 0.780; val loss: 1.092     train accuracy: 72.28%; test accuracy: 63.36%\n",
            "[Epoch: 46]     train loss: 0.773; val loss: 1.100     train accuracy: 72.61%; test accuracy: 63.47%\n",
            "[Epoch: 47]     train loss: 0.773; val loss: 1.091     train accuracy: 72.60%; test accuracy: 63.43%\n",
            "[Epoch: 48]     train loss: 0.768; val loss: 1.126     train accuracy: 72.52%; test accuracy: 62.96%\n",
            "[Epoch: 49]     train loss: 0.760; val loss: 1.094     train accuracy: 72.80%; test accuracy: 63.30%\n",
            "[Epoch: 50]     train loss: 0.757; val loss: 1.119     train accuracy: 72.88%; test accuracy: 62.74%\n",
            "Finished Training\n"
          ]
        },
        {
          "output_type": "display_data",
          "data": {
            "text/plain": [
              "<Figure size 432x288 with 1 Axes>"
            ],
            "image/png": "[encoded data removed]"
          },
          "metadata": {
            "needs_background": "light"
          }
        },
        {
          "output_type": "display_data",
          "data": {
            "text/plain": [
              "<Figure size 432x288 with 1 Axes>"
            ],
            "image/png": "[encoded data removed]"
          },
          "metadata": {
            "needs_background": "light"
          }
        }
      ]
    }
  ]
}