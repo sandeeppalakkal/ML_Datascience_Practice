{
  "nbformat": 4,
  "nbformat_minor": 0,
  "metadata": {
    "colab": {
      "name": "CIFAR10_Experiments.ipynb",
      "provenance": [],
      "collapsed_sections": [],
      "authorship_tag": "ABX9TyOEgTc1Urs4sbStZAgTCa2Q",
      "include_colab_link": true
    },
    "kernelspec": {
      "name": "python3",
      "display_name": "Python 3"
    },
    "language_info": {
      "name": "python"
    },
    "accelerator": "GPU",
    "gpuClass": "standard",
    "widgets": {
      "application/vnd.jupyter.widget-state+json": {
        "eaa210284c934b2e99738e8f1161f3be": {
          "model_module": "@jupyter-widgets/controls",
          "model_name": "HBoxModel",
          "model_module_version": "1.5.0",
          "state": {
            "_dom_classes": [],
            "_model_module": "@jupyter-widgets/controls",
            "_model_module_version": "1.5.0",
            "_model_name": "HBoxModel",
            "_view_count": null,
            "_view_module": "@jupyter-widgets/controls",
            "_view_module_version": "1.5.0",
            "_view_name": "HBoxView",
            "box_style": "",
            "children": [
              "IPY_MODEL_70c9dddf5f0f4c279e706b028fa1508c",
              "IPY_MODEL_e2768e5b507b47f28c943b1f380a56aa",
              "IPY_MODEL_b9304f79808d4e849021a65f7705b130"
            ],
            "layout": "IPY_MODEL_2c4c217822494e6d98fd54fd81c42d6a"
          }
        },
        "70c9dddf5f0f4c279e706b028fa1508c": {
          "model_module": "@jupyter-widgets/controls",
          "model_name": "HTMLModel",
          "model_module_version": "1.5.0",
          "state": {
            "_dom_classes": [],
            "_model_module": "@jupyter-widgets/controls",
            "_model_module_version": "1.5.0",
            "_model_name": "HTMLModel",
            "_view_count": null,
            "_view_module": "@jupyter-widgets/controls",
            "_view_module_version": "1.5.0",
            "_view_name": "HTMLView",
            "description": "",
            "description_tooltip": null,
            "layout": "IPY_MODEL_43c14607c7f648978f28e073258b7319",
            "placeholder": "​",
            "style": "IPY_MODEL_069922e5dc564b7ebb0c844eeab687e1",
            "value": ""
          }
        },
        "e2768e5b507b47f28c943b1f380a56aa": {
          "model_module": "@jupyter-widgets/controls",
          "model_name": "FloatProgressModel",
          "model_module_version": "1.5.0",
          "state": {
            "_dom_classes": [],
            "_model_module": "@jupyter-widgets/controls",
            "_model_module_version": "1.5.0",
            "_model_name": "FloatProgressModel",
            "_view_count": null,
            "_view_module": "@jupyter-widgets/controls",
            "_view_module_version": "1.5.0",
            "_view_name": "ProgressView",
            "bar_style": "success",
            "description": "",
            "description_tooltip": null,
            "layout": "IPY_MODEL_be2146008a76426f9f399e86ae1a2210",
            "max": 170498071,
            "min": 0,
            "orientation": "horizontal",
            "style": "IPY_MODEL_fa289a968e8d4218a85bada970b5443f",
            "value": 170498071
          }
        },
        "b9304f79808d4e849021a65f7705b130": {
          "model_module": "@jupyter-widgets/controls",
          "model_name": "HTMLModel",
          "model_module_version": "1.5.0",
          "state": {
            "_dom_classes": [],
            "_model_module": "@jupyter-widgets/controls",
            "_model_module_version": "1.5.0",
            "_model_name": "HTMLModel",
            "_view_count": null,
            "_view_module": "@jupyter-widgets/controls",
            "_view_module_version": "1.5.0",
            "_view_name": "HTMLView",
            "description": "",
            "description_tooltip": null,
            "layout": "IPY_MODEL_799cfa1e85724b3c988fbe07826b81a7",
            "placeholder": "​",
            "style": "IPY_MODEL_37ff776fc561476fa05f7641fb0f39c6",
            "value": " 170499072/? [00:13&lt;00:00, 14648372.78it/s]"
          }
        },
        "2c4c217822494e6d98fd54fd81c42d6a": {
          "model_module": "@jupyter-widgets/base",
          "model_name": "LayoutModel",
          "model_module_version": "1.2.0",
          "state": {
            "_model_module": "@jupyter-widgets/base",
            "_model_module_version": "1.2.0",
            "_model_name": "LayoutModel",
            "_view_count": null,
            "_view_module": "@jupyter-widgets/base",
            "_view_module_version": "1.2.0",
            "_view_name": "LayoutView",
            "align_content": null,
            "align_items": null,
            "align_self": null,
            "border": null,
            "bottom": null,
            "display": null,
            "flex": null,
            "flex_flow": null,
            "grid_area": null,
            "grid_auto_columns": null,
            "grid_auto_flow": null,
            "grid_auto_rows": null,
            "grid_column": null,
            "grid_gap": null,
            "grid_row": null,
            "grid_template_areas": null,
            "grid_template_columns": null,
            "grid_template_rows": null,
            "height": null,
            "justify_content": null,
            "justify_items": null,
            "left": null,
            "margin": null,
            "max_height": null,
            "max_width": null,
            "min_height": null,
            "min_width": null,
            "object_fit": null,
            "object_position": null,
            "order": null,
            "overflow": null,
            "overflow_x": null,
            "overflow_y": null,
            "padding": null,
            "right": null,
            "top": null,
            "visibility": null,
            "width": null
          }
        },
        "43c14607c7f648978f28e073258b7319": {
          "model_module": "@jupyter-widgets/base",
          "model_name": "LayoutModel",
          "model_module_version": "1.2.0",
          "state": {
            "_model_module": "@jupyter-widgets/base",
            "_model_module_version": "1.2.0",
            "_model_name": "LayoutModel",
            "_view_count": null,
            "_view_module": "@jupyter-widgets/base",
            "_view_module_version": "1.2.0",
            "_view_name": "LayoutView",
            "align_content": null,
            "align_items": null,
            "align_self": null,
            "border": null,
            "bottom": null,
            "display": null,
            "flex": null,
            "flex_flow": null,
            "grid_area": null,
            "grid_auto_columns": null,
            "grid_auto_flow": null,
            "grid_auto_rows": null,
            "grid_column": null,
            "grid_gap": null,
            "grid_row": null,
            "grid_template_areas": null,
            "grid_template_columns": null,
            "grid_template_rows": null,
            "height": null,
            "justify_content": null,
            "justify_items": null,
            "left": null,
            "margin": null,
            "max_height": null,
            "max_width": null,
            "min_height": null,
            "min_width": null,
            "object_fit": null,
            "object_position": null,
            "order": null,
            "overflow": null,
            "overflow_x": null,
            "overflow_y": null,
            "padding": null,
            "right": null,
            "top": null,
            "visibility": null,
            "width": null
          }
        },
        "069922e5dc564b7ebb0c844eeab687e1": {
          "model_module": "@jupyter-widgets/controls",
          "model_name": "DescriptionStyleModel",
          "model_module_version": "1.5.0",
          "state": {
            "_model_module": "@jupyter-widgets/controls",
            "_model_module_version": "1.5.0",
            "_model_name": "DescriptionStyleModel",
            "_view_count": null,
            "_view_module": "@jupyter-widgets/base",
            "_view_module_version": "1.2.0",
            "_view_name": "StyleView",
            "description_width": ""
          }
        },
        "be2146008a76426f9f399e86ae1a2210": {
          "model_module": "@jupyter-widgets/base",
          "model_name": "LayoutModel",
          "model_module_version": "1.2.0",
          "state": {
            "_model_module": "@jupyter-widgets/base",
            "_model_module_version": "1.2.0",
            "_model_name": "LayoutModel",
            "_view_count": null,
            "_view_module": "@jupyter-widgets/base",
            "_view_module_version": "1.2.0",
            "_view_name": "LayoutView",
            "align_content": null,
            "align_items": null,
            "align_self": null,
            "border": null,
            "bottom": null,
            "display": null,
            "flex": null,
            "flex_flow": null,
            "grid_area": null,
            "grid_auto_columns": null,
            "grid_auto_flow": null,
            "grid_auto_rows": null,
            "grid_column": null,
            "grid_gap": null,
            "grid_row": null,
            "grid_template_areas": null,
            "grid_template_columns": null,
            "grid_template_rows": null,
            "height": null,
            "justify_content": null,
            "justify_items": null,
            "left": null,
            "margin": null,
            "max_height": null,
            "max_width": null,
            "min_height": null,
            "min_width": null,
            "object_fit": null,
            "object_position": null,
            "order": null,
            "overflow": null,
            "overflow_x": null,
            "overflow_y": null,
            "padding": null,
            "right": null,
            "top": null,
            "visibility": null,
            "width": null
          }
        },
        "fa289a968e8d4218a85bada970b5443f": {
          "model_module": "@jupyter-widgets/controls",
          "model_name": "ProgressStyleModel",
          "model_module_version": "1.5.0",
          "state": {
            "_model_module": "@jupyter-widgets/controls",
            "_model_module_version": "1.5.0",
            "_model_name": "ProgressStyleModel",
            "_view_count": null,
            "_view_module": "@jupyter-widgets/base",
            "_view_module_version": "1.2.0",
            "_view_name": "StyleView",
            "bar_color": null,
            "description_width": ""
          }
        },
        "799cfa1e85724b3c988fbe07826b81a7": {
          "model_module": "@jupyter-widgets/base",
          "model_name": "LayoutModel",
          "model_module_version": "1.2.0",
          "state": {
            "_model_module": "@jupyter-widgets/base",
            "_model_module_version": "1.2.0",
            "_model_name": "LayoutModel",
            "_view_count": null,
            "_view_module": "@jupyter-widgets/base",
            "_view_module_version": "1.2.0",
            "_view_name": "LayoutView",
            "align_content": null,
            "align_items": null,
            "align_self": null,
            "border": null,
            "bottom": null,
            "display": null,
            "flex": null,
            "flex_flow": null,
            "grid_area": null,
            "grid_auto_columns": null,
            "grid_auto_flow": null,
            "grid_auto_rows": null,
            "grid_column": null,
            "grid_gap": null,
            "grid_row": null,
            "grid_template_areas": null,
            "grid_template_columns": null,
            "grid_template_rows": null,
            "height": null,
            "justify_content": null,
            "justify_items": null,
            "left": null,
            "margin": null,
            "max_height": null,
            "max_width": null,
            "min_height": null,
            "min_width": null,
            "object_fit": null,
            "object_position": null,
            "order": null,
            "overflow": null,
            "overflow_x": null,
            "overflow_y": null,
            "padding": null,
            "right": null,
            "top": null,
            "visibility": null,
            "width": null
          }
        },
        "37ff776fc561476fa05f7641fb0f39c6": {
          "model_module": "@jupyter-widgets/controls",
          "model_name": "DescriptionStyleModel",
          "model_module_version": "1.5.0",
          "state": {
            "_model_module": "@jupyter-widgets/controls",
            "_model_module_version": "1.5.0",
            "_model_name": "DescriptionStyleModel",
            "_view_count": null,
            "_view_module": "@jupyter-widgets/base",
            "_view_module_version": "1.2.0",
            "_view_name": "StyleView",
            "description_width": ""
          }
        },
        "aad908544a0c45288c747cdcc491d9cd": {
          "model_module": "@jupyter-widgets/controls",
          "model_name": "HBoxModel",
          "model_module_version": "1.5.0",
          "state": {
            "_dom_classes": [],
            "_model_module": "@jupyter-widgets/controls",
            "_model_module_version": "1.5.0",
            "_model_name": "HBoxModel",
            "_view_count": null,
            "_view_module": "@jupyter-widgets/controls",
            "_view_module_version": "1.5.0",
            "_view_name": "HBoxView",
            "box_style": "",
            "children": [
              "IPY_MODEL_29376bfe68af4ea2a698fe6d2f65c30f",
              "IPY_MODEL_e9ab4bc723ff4542bd5b8224273f3e57",
              "IPY_MODEL_895bc81a753242c69bf2c1d1a9335b97"
            ],
            "layout": "IPY_MODEL_c37451428fa44516b7f67205b1067545"
          }
        },
        "29376bfe68af4ea2a698fe6d2f65c30f": {
          "model_module": "@jupyter-widgets/controls",
          "model_name": "HTMLModel",
          "model_module_version": "1.5.0",
          "state": {
            "_dom_classes": [],
            "_model_module": "@jupyter-widgets/controls",
            "_model_module_version": "1.5.0",
            "_model_name": "HTMLModel",
            "_view_count": null,
            "_view_module": "@jupyter-widgets/controls",
            "_view_module_version": "1.5.0",
            "_view_name": "HTMLView",
            "description": "",
            "description_tooltip": null,
            "layout": "IPY_MODEL_4550fb6f72f54eac927195861321c5f7",
            "placeholder": "​",
            "style": "IPY_MODEL_c10440c1acbd4c4fa0ef19e387de08f0",
            "value": ""
          }
        },
        "e9ab4bc723ff4542bd5b8224273f3e57": {
          "model_module": "@jupyter-widgets/controls",
          "model_name": "FloatProgressModel",
          "model_module_version": "1.5.0",
          "state": {
            "_dom_classes": [],
            "_model_module": "@jupyter-widgets/controls",
            "_model_module_version": "1.5.0",
            "_model_name": "FloatProgressModel",
            "_view_count": null,
            "_view_module": "@jupyter-widgets/controls",
            "_view_module_version": "1.5.0",
            "_view_name": "ProgressView",
            "bar_style": "success",
            "description": "",
            "description_tooltip": null,
            "layout": "IPY_MODEL_8d78de3ad8fd400fb0af32ac2b68a535",
            "max": 170498071,
            "min": 0,
            "orientation": "horizontal",
            "style": "IPY_MODEL_48252cec40d04218a4a2f0ca10c98181",
            "value": 170498071
          }
        },
        "895bc81a753242c69bf2c1d1a9335b97": {
          "model_module": "@jupyter-widgets/controls",
          "model_name": "HTMLModel",
          "model_module_version": "1.5.0",
          "state": {
            "_dom_classes": [],
            "_model_module": "@jupyter-widgets/controls",
            "_model_module_version": "1.5.0",
            "_model_name": "HTMLModel",
            "_view_count": null,
            "_view_module": "@jupyter-widgets/controls",
            "_view_module_version": "1.5.0",
            "_view_name": "HTMLView",
            "description": "",
            "description_tooltip": null,
            "layout": "IPY_MODEL_18356be3df9c45a68f72da7285656440",
            "placeholder": "​",
            "style": "IPY_MODEL_d1fcaf548f2e43ea8c50bcac65e23b5e",
            "value": " 170499072/? [00:13&lt;00:00, 14338500.02it/s]"
          }
        },
        "c37451428fa44516b7f67205b1067545": {
          "model_module": "@jupyter-widgets/base",
          "model_name": "LayoutModel",
          "model_module_version": "1.2.0",
          "state": {
            "_model_module": "@jupyter-widgets/base",
            "_model_module_version": "1.2.0",
            "_model_name": "LayoutModel",
            "_view_count": null,
            "_view_module": "@jupyter-widgets/base",
            "_view_module_version": "1.2.0",
            "_view_name": "LayoutView",
            "align_content": null,
            "align_items": null,
            "align_self": null,
            "border": null,
            "bottom": null,
            "display": null,
            "flex": null,
            "flex_flow": null,
            "grid_area": null,
            "grid_auto_columns": null,
            "grid_auto_flow": null,
            "grid_auto_rows": null,
            "grid_column": null,
            "grid_gap": null,
            "grid_row": null,
            "grid_template_areas": null,
            "grid_template_columns": null,
            "grid_template_rows": null,
            "height": null,
            "justify_content": null,
            "justify_items": null,
            "left": null,
            "margin": null,
            "max_height": null,
            "max_width": null,
            "min_height": null,
            "min_width": null,
            "object_fit": null,
            "object_position": null,
            "order": null,
            "overflow": null,
            "overflow_x": null,
            "overflow_y": null,
            "padding": null,
            "right": null,
            "top": null,
            "visibility": null,
            "width": null
          }
        },
        "4550fb6f72f54eac927195861321c5f7": {
          "model_module": "@jupyter-widgets/base",
          "model_name": "LayoutModel",
          "model_module_version": "1.2.0",
          "state": {
            "_model_module": "@jupyter-widgets/base",
            "_model_module_version": "1.2.0",
            "_model_name": "LayoutModel",
            "_view_count": null,
            "_view_module": "@jupyter-widgets/base",
            "_view_module_version": "1.2.0",
            "_view_name": "LayoutView",
            "align_content": null,
            "align_items": null,
            "align_self": null,
            "border": null,
            "bottom": null,
            "display": null,
            "flex": null,
            "flex_flow": null,
            "grid_area": null,
            "grid_auto_columns": null,
            "grid_auto_flow": null,
            "grid_auto_rows": null,
            "grid_column": null,
            "grid_gap": null,
            "grid_row": null,
            "grid_template_areas": null,
            "grid_template_columns": null,
            "grid_template_rows": null,
            "height": null,
            "justify_content": null,
            "justify_items": null,
            "left": null,
            "margin": null,
            "max_height": null,
            "max_width": null,
            "min_height": null,
            "min_width": null,
            "object_fit": null,
            "object_position": null,
            "order": null,
            "overflow": null,
            "overflow_x": null,
            "overflow_y": null,
            "padding": null,
            "right": null,
            "top": null,
            "visibility": null,
            "width": null
          }
        },
        "c10440c1acbd4c4fa0ef19e387de08f0": {
          "model_module": "@jupyter-widgets/controls",
          "model_name": "DescriptionStyleModel",
          "model_module_version": "1.5.0",
          "state": {
            "_model_module": "@jupyter-widgets/controls",
            "_model_module_version": "1.5.0",
            "_model_name": "DescriptionStyleModel",
            "_view_count": null,
            "_view_module": "@jupyter-widgets/base",
            "_view_module_version": "1.2.0",
            "_view_name": "StyleView",
            "description_width": ""
          }
        },
        "8d78de3ad8fd400fb0af32ac2b68a535": {
          "model_module": "@jupyter-widgets/base",
          "model_name": "LayoutModel",
          "model_module_version": "1.2.0",
          "state": {
            "_model_module": "@jupyter-widgets/base",
            "_model_module_version": "1.2.0",
            "_model_name": "LayoutModel",
            "_view_count": null,
            "_view_module": "@jupyter-widgets/base",
            "_view_module_version": "1.2.0",
            "_view_name": "LayoutView",
            "align_content": null,
            "align_items": null,
            "align_self": null,
            "border": null,
            "bottom": null,
            "display": null,
            "flex": null,
            "flex_flow": null,
            "grid_area": null,
            "grid_auto_columns": null,
            "grid_auto_flow": null,
            "grid_auto_rows": null,
            "grid_column": null,
            "grid_gap": null,
            "grid_row": null,
            "grid_template_areas": null,
            "grid_template_columns": null,
            "grid_template_rows": null,
            "height": null,
            "justify_content": null,
            "justify_items": null,
            "left": null,
            "margin": null,
            "max_height": null,
            "max_width": null,
            "min_height": null,
            "min_width": null,
            "object_fit": null,
            "object_position": null,
            "order": null,
            "overflow": null,
            "overflow_x": null,
            "overflow_y": null,
            "padding": null,
            "right": null,
            "top": null,
            "visibility": null,
            "width": null
          }
        },
        "48252cec40d04218a4a2f0ca10c98181": {
          "model_module": "@jupyter-widgets/controls",
          "model_name": "ProgressStyleModel",
          "model_module_version": "1.5.0",
          "state": {
            "_model_module": "@jupyter-widgets/controls",
            "_model_module_version": "1.5.0",
            "_model_name": "ProgressStyleModel",
            "_view_count": null,
            "_view_module": "@jupyter-widgets/base",
            "_view_module_version": "1.2.0",
            "_view_name": "StyleView",
            "bar_color": null,
            "description_width": ""
          }
        },
        "18356be3df9c45a68f72da7285656440": {
          "model_module": "@jupyter-widgets/base",
          "model_name": "LayoutModel",
          "model_module_version": "1.2.0",
          "state": {
            "_model_module": "@jupyter-widgets/base",
            "_model_module_version": "1.2.0",
            "_model_name": "LayoutModel",
            "_view_count": null,
            "_view_module": "@jupyter-widgets/base",
            "_view_module_version": "1.2.0",
            "_view_name": "LayoutView",
            "align_content": null,
            "align_items": null,
            "align_self": null,
            "border": null,
            "bottom": null,
            "display": null,
            "flex": null,
            "flex_flow": null,
            "grid_area": null,
            "grid_auto_columns": null,
            "grid_auto_flow": null,
            "grid_auto_rows": null,
            "grid_column": null,
            "grid_gap": null,
            "grid_row": null,
            "grid_template_areas": null,
            "grid_template_columns": null,
            "grid_template_rows": null,
            "height": null,
            "justify_content": null,
            "justify_items": null,
            "left": null,
            "margin": null,
            "max_height": null,
            "max_width": null,
            "min_height": null,
            "min_width": null,
            "object_fit": null,
            "object_position": null,
            "order": null,
            "overflow": null,
            "overflow_x": null,
            "overflow_y": null,
            "padding": null,
            "right": null,
            "top": null,
            "visibility": null,
            "width": null
          }
        },
        "d1fcaf548f2e43ea8c50bcac65e23b5e": {
          "model_module": "@jupyter-widgets/controls",
          "model_name": "DescriptionStyleModel",
          "model_module_version": "1.5.0",
          "state": {
            "_model_module": "@jupyter-widgets/controls",
            "_model_module_version": "1.5.0",
            "_model_name": "DescriptionStyleModel",
            "_view_count": null,
            "_view_module": "@jupyter-widgets/base",
            "_view_module_version": "1.2.0",
            "_view_name": "StyleView",
            "description_width": ""
          }
        }
      }
    }
  },
  "cells": [
    {
      "cell_type": "markdown",
      "metadata": {
        "id": "view-in-github",
        "colab_type": "text"
      },
      "source": [
        "<a href=\"https://colab.research.google.com/github/sandeeppalakkal/ML_Datascience_Practice/blob/master/CIFAR10_Experiments.ipynb\" target=\"_parent\"><img src=\"https://colab.research.google.com/assets/colab-badge.svg\" alt=\"Open In Colab\"/></a>"
      ]
    },
    {
      "cell_type": "markdown",
      "source": [
        "# Get Data"
      ],
      "metadata": {
        "id": "IZH_4VgZVfiK"
      }
    },
    {
      "cell_type": "code",
      "execution_count": 1,
      "metadata": {
        "id": "8a720a2_VK-i"
      },
      "outputs": [],
      "source": [
        "import torch\n",
        "import torchvision\n",
        "import torchvision.transforms as transforms"
      ]
    },
    {
      "cell_type": "code",
      "source": [
        "# Get CIFAR10 data\n",
        "def get_cifar10(transform=None):\n",
        "  trainset = torchvision.datasets.CIFAR10(root='./data',train=True,download=True,transform=transform)\n",
        "  valset = torchvision.datasets.CIFAR10(root='./data',train=False,download=True,transform=transform)\n",
        "  classes = ('plane', 'car', 'bird', 'cat', 'deer', 'dog', 'frog', 'horse', 'ship', 'truck')\n",
        "  return trainset, valset, classes"
      ],
      "metadata": {
        "id": "lYtO0YI_bJqK"
      },
      "execution_count": 2,
      "outputs": []
    },
    {
      "cell_type": "code",
      "source": [
        "def dataloader(batch_size):\n",
        "  transform = transforms.Compose([transforms.ToTensor(), transforms.Normalize(3*[0.5], 3*[0.5])])\n",
        "  trainset,valset, classes = get_cifar10(transform)\n",
        "  train_loader = torch.utils.data.DataLoader(trainset, batch_size=batch_size, shuffle=True, num_workers=2)\n",
        "  val_loader = torch.utils.data.DataLoader(valset, batch_size=batch_size, num_workers=2)\n",
        "  return train_loader, val_loader, classes"
      ],
      "metadata": {
        "id": "fPWWUd_FaDGw"
      },
      "execution_count": 3,
      "outputs": []
    },
    {
      "cell_type": "markdown",
      "source": [
        "# Training Module"
      ],
      "metadata": {
        "id": "xnl226Efb8aJ"
      }
    },
    {
      "cell_type": "code",
      "source": [
        "def train(train_loader,val_loader,net,n_epochs,criterion,optimizer,device):\n",
        "\n",
        "  # start training\n",
        "  losses = []\n",
        "  acc = []\n",
        "  val_losses = []\n",
        "  val_acc = []\n",
        "  for epoch in range(n_epochs):\n",
        "    running_loss = 0\n",
        "    correct = 0\n",
        "    total = 0\n",
        "    for i, data in enumerate(train_loader):\n",
        "        images,labels = data[0].to(device),data[1].to(device)\n",
        "\n",
        "        optimizer.zero_grad()\n",
        "\n",
        "        outputs = net(images)\n",
        "        loss = criterion(outputs, labels)\n",
        "        loss.backward()\n",
        "        optimizer.step()\n",
        "\n",
        "        running_loss += loss.item()\n",
        "        predictions = torch.argmax(outputs.data, 1)\n",
        "        correct += (predictions == labels).float().sum().item()\n",
        "        total += labels.size(0)\n",
        "    \n",
        "    losses.append(running_loss / len(train_loader))\n",
        "    acc.append(correct / total * 100)\n",
        "\n",
        "    # Test model\n",
        "    # since we're not training, we don't need to calculate the gradients for our outputs\n",
        "    with torch.no_grad():\n",
        "      correct = 0\n",
        "      running_loss = 0\n",
        "      total = 0\n",
        "      for data in val_loader:\n",
        "        images, labels = data[0].to(device), data[1].to(device)\n",
        "        # calculate outputs by running images through the network\n",
        "        outputs = net(images)\n",
        "        running_loss += criterion(outputs, labels).item()\n",
        "        # the class with the highest energy is what we choose as prediction\n",
        "        predicted = torch.argmax(outputs.data, 1)\n",
        "        total += labels.size(0)\n",
        "        correct += (predicted == labels).sum().item()\n",
        "\n",
        "      val_acc.append(100 * correct / total)\n",
        "      val_losses.append(running_loss/len(val_loader))\n",
        "\n",
        "    print(f'[Epoch: {epoch + 1}] \\\n",
        "    train loss: {losses[-1]:.3f}; val loss: {val_losses[-1]:.3f}; \\\n",
        "    train accuracy: {acc[-1]:.2f}%; test accuracy: {val_acc[-1]:.2f}%') \n",
        "\n",
        "  print('Finished Training')\n",
        "  return net, losses, acc, val_losses, val_acc"
      ],
      "metadata": {
        "id": "WpEJqAj5cMXy"
      },
      "execution_count": 4,
      "outputs": []
    },
    {
      "cell_type": "markdown",
      "source": [
        "# Plot Loss"
      ],
      "metadata": {
        "id": "qD8fEV1tbA6M"
      }
    },
    {
      "cell_type": "code",
      "source": [
        "# Plot loss\n",
        "import matplotlib.pyplot as plt\n",
        "def plot_losses(train_losses, val_losses, train_acc, val_acc):\n",
        "  plt.plot(train_losses,label='train loss')\n",
        "  plt.plot(val_losses,label='val loss')\n",
        "  plt.legend()\n",
        "  plt.grid()\n",
        "  plt.show()\n",
        "  plt.plot(train_acc, label='train acc')\n",
        "  plt.plot(val_acc, label='val acc')\n",
        "  plt.legend()\n",
        "  plt.grid()\n",
        "  plt.show()"
      ],
      "metadata": {
        "id": "n7DPBk1SaP7e"
      },
      "execution_count": 5,
      "outputs": []
    },
    {
      "cell_type": "markdown",
      "source": [
        "# Define Model"
      ],
      "metadata": {
        "id": "z_EF2kVOkXP0"
      }
    },
    {
      "cell_type": "code",
      "source": [
        "import torch.nn as nn\n",
        "import torch.nn.functional as F"
      ],
      "metadata": {
        "id": "lcxpZOLYkZuq"
      },
      "execution_count": 6,
      "outputs": []
    },
    {
      "cell_type": "code",
      "source": [
        "class Net1(nn.Module):\n",
        "  def __init__(self):\n",
        "    super().__init__()\n",
        "    self.conv1 = nn.Conv2d(3,6,5)\n",
        "    self.pool = nn.MaxPool2d(2,2)\n",
        "    self.conv2 = nn.Conv2d(6,16,5)\n",
        "    self.fc1 = nn.Linear(16*5*5,120)\n",
        "    self.fc2 = nn.Linear(120,84)\n",
        "    self.fc3 = nn.Linear(84,10)\n",
        "\n",
        "  def forward(self, x):\n",
        "    x = self.pool(F.relu(self.conv1(x)))\n",
        "    x = self.pool(F.relu(self.conv2(x)))\n",
        "    x = torch.flatten(x, 1)\n",
        "    x = F.relu(self.fc1(x))\n",
        "    x = F.relu(self.fc2(x))\n",
        "    x = self.fc3(x)\n",
        "    return x"
      ],
      "metadata": {
        "id": "yRbFcemdkrN6"
      },
      "execution_count": null,
      "outputs": []
    },
    {
      "cell_type": "code",
      "source": [
        "class Net2(nn.Module):\n",
        "  def __init__(self):\n",
        "    super().__init__()\n",
        "    self.conv1 = nn.Conv2d(3,6,5)\n",
        "    self.pool = nn.MaxPool2d(2,2)\n",
        "    self.conv2 = nn.Conv2d(6,16,5)\n",
        "    self.fc1 = nn.Linear(16*5*5,120)\n",
        "    self.fc2 = nn.Linear(120,84)\n",
        "    self.fc3 = nn.Linear(84,10)\n",
        "    self.dropout = nn.Dropout(p=0.3)\n",
        "\n",
        "  def forward(self, x):\n",
        "    x = self.pool(F.relu(self.conv1(x)))\n",
        "    x = self.pool(F.relu(self.conv2(x)))\n",
        "    x = torch.flatten(x, 1)\n",
        "    x = F.relu(self.fc1(x))\n",
        "    x = self.dropout(x)\n",
        "    x = F.relu(self.fc2(x))\n",
        "    x = self.fc3(x)\n",
        "    return x"
      ],
      "metadata": {
        "id": "miygzas63Zxs"
      },
      "execution_count": 7,
      "outputs": []
    },
    {
      "cell_type": "code",
      "source": [
        "class Net3(nn.Module):\n",
        "  def __init__(self):\n",
        "    super().__init__()\n",
        "    self.conv1 = nn.Conv2d(3,16,3,padding='same')\n",
        "    self.pool = nn.MaxPool2d(2,2)\n",
        "    self.conv2 = nn.Conv2d(16,16,3,padding='same')\n",
        "    self.conv3 = nn.Conv2d(16,16,3,padding='same')\n",
        "    self.fc1 = nn.Linear(16*4*4,256)\n",
        "    self.fc2 = nn.Linear(256,64)\n",
        "    self.fc3 = nn.Linear(64,10)\n",
        "    self.dropout = nn.Dropout(p=0.3)\n",
        "\n",
        "  def forward(self, x):\n",
        "    x = self.pool(F.relu(self.conv1(x)))\n",
        "    x = self.pool(F.relu(self.conv2(x)))\n",
        "    x = self.pool(F.relu(self.conv3(x)))\n",
        "    x = torch.flatten(x, 1)\n",
        "    x = F.relu(self.fc1(x))\n",
        "    x = self.dropout(x)\n",
        "    x = F.relu(self.fc2(x))\n",
        "    x = self.dropout(x)\n",
        "    x = self.fc3(x)\n",
        "    return x"
      ],
      "metadata": {
        "id": "-0dMCTipeiR_"
      },
      "execution_count": 9,
      "outputs": []
    },
    {
      "cell_type": "markdown",
      "source": [
        "# Train Model"
      ],
      "metadata": {
        "id": "8FXc8VR4kC8f"
      }
    },
    {
      "cell_type": "code",
      "source": [
        "# choose gpu if available\n",
        "device = torch.device('cuda:0' if torch.cuda.is_available() else 'cpu')"
      ],
      "metadata": {
        "id": "KjFfy9I8hkxH"
      },
      "execution_count": null,
      "outputs": []
    },
    {
      "cell_type": "code",
      "source": [
        "lr = 0.001\n",
        "momentum = 0.9\n",
        "batch_size = 32\n",
        "n_epochs = 50"
      ],
      "metadata": {
        "id": "OgIidtZHmrBo"
      },
      "execution_count": null,
      "outputs": []
    },
    {
      "cell_type": "code",
      "source": [
        "# Data loader\n",
        "train_loader,val_loader,classes = dataloader(batch_size)"
      ],
      "metadata": {
        "colab": {
          "base_uri": "https://localhost:8080/"
        },
        "id": "SCd8WgiemC3D",
        "outputId": "52b394c1-4299-494e-800b-19f0424b8b7b"
      },
      "execution_count": null,
      "outputs": [
        {
          "output_type": "stream",
          "name": "stdout",
          "text": [
            "Files already downloaded and verified\n",
            "Files already downloaded and verified\n"
          ]
        }
      ]
    },
    {
      "cell_type": "code",
      "source": [
        "# define network for training\n",
        "net = Net1().to(device)"
      ],
      "metadata": {
        "id": "YM8HpVvpkO_b"
      },
      "execution_count": null,
      "outputs": []
    },
    {
      "cell_type": "code",
      "source": [
        "# Loss function & optimizer\n",
        "import torch.optim as optim\n",
        "criterion = nn.CrossEntropyLoss()\n",
        "optimizer = optim.SGD(net.parameters(), lr=lr, momentum = momentum)"
      ],
      "metadata": {
        "id": "zI_k9XaMlESG"
      },
      "execution_count": null,
      "outputs": []
    },
    {
      "cell_type": "code",
      "source": [
        "net, losses, acc, val_losses, val_acc = train(train_loader,val_loader,net,n_epochs,criterion,optimizer,device)"
      ],
      "metadata": {
        "colab": {
          "base_uri": "https://localhost:8080/"
        },
        "id": "Rey816A6ljJN",
        "outputId": "d4b572fe-9596-4451-9af2-f772d586ec55"
      },
      "execution_count": null,
      "outputs": [
        {
          "output_type": "stream",
          "name": "stdout",
          "text": [
            "[Epoch: 1]     train loss: 2.287; val loss: 2.194     train accuracy: 13.62%; test accuracy: 19.19%\n",
            "[Epoch: 2]     train loss: 1.926; val loss: 1.712     train accuracy: 28.91%; test accuracy: 36.41%\n",
            "[Epoch: 3]     train loss: 1.631; val loss: 1.538     train accuracy: 39.79%; test accuracy: 43.45%\n",
            "[Epoch: 4]     train loss: 1.507; val loss: 1.439     train accuracy: 45.03%; test accuracy: 47.25%\n",
            "[Epoch: 5]     train loss: 1.408; val loss: 1.357     train accuracy: 48.66%; test accuracy: 51.12%\n",
            "[Epoch: 6]     train loss: 1.336; val loss: 1.331     train accuracy: 51.73%; test accuracy: 52.24%\n",
            "[Epoch: 7]     train loss: 1.271; val loss: 1.265     train accuracy: 54.39%; test accuracy: 54.60%\n",
            "[Epoch: 8]     train loss: 1.212; val loss: 1.206     train accuracy: 56.61%; test accuracy: 56.93%\n",
            "[Epoch: 9]     train loss: 1.164; val loss: 1.210     train accuracy: 58.55%; test accuracy: 57.18%\n",
            "[Epoch: 10]     train loss: 1.119; val loss: 1.140     train accuracy: 60.36%; test accuracy: 60.12%\n",
            "[Epoch: 11]     train loss: 1.083; val loss: 1.184     train accuracy: 61.73%; test accuracy: 58.96%\n",
            "[Epoch: 12]     train loss: 1.052; val loss: 1.107     train accuracy: 63.05%; test accuracy: 61.14%\n",
            "[Epoch: 13]     train loss: 1.021; val loss: 1.086     train accuracy: 63.93%; test accuracy: 62.10%\n",
            "[Epoch: 14]     train loss: 0.991; val loss: 1.066     train accuracy: 65.28%; test accuracy: 62.92%\n",
            "[Epoch: 15]     train loss: 0.965; val loss: 1.083     train accuracy: 65.98%; test accuracy: 62.77%\n",
            "[Epoch: 16]     train loss: 0.938; val loss: 1.052     train accuracy: 66.91%; test accuracy: 63.25%\n",
            "[Epoch: 17]     train loss: 0.913; val loss: 1.098     train accuracy: 67.91%; test accuracy: 62.51%\n",
            "[Epoch: 18]     train loss: 0.888; val loss: 1.050     train accuracy: 68.81%; test accuracy: 64.51%\n",
            "[Epoch: 19]     train loss: 0.865; val loss: 1.021     train accuracy: 69.78%; test accuracy: 64.78%\n",
            "[Epoch: 20]     train loss: 0.844; val loss: 1.028     train accuracy: 70.54%; test accuracy: 64.65%\n",
            "[Epoch: 21]     train loss: 0.825; val loss: 1.029     train accuracy: 71.08%; test accuracy: 64.71%\n",
            "[Epoch: 22]     train loss: 0.805; val loss: 1.018     train accuracy: 71.84%; test accuracy: 65.63%\n",
            "[Epoch: 23]     train loss: 0.781; val loss: 1.039     train accuracy: 72.65%; test accuracy: 64.74%\n",
            "[Epoch: 24]     train loss: 0.759; val loss: 1.029     train accuracy: 73.29%; test accuracy: 65.04%\n",
            "[Epoch: 25]     train loss: 0.741; val loss: 1.020     train accuracy: 73.89%; test accuracy: 66.41%\n",
            "[Epoch: 26]     train loss: 0.728; val loss: 1.056     train accuracy: 74.50%; test accuracy: 65.02%\n",
            "[Epoch: 27]     train loss: 0.706; val loss: 1.043     train accuracy: 75.09%; test accuracy: 65.67%\n",
            "[Epoch: 28]     train loss: 0.688; val loss: 1.042     train accuracy: 75.88%; test accuracy: 65.55%\n",
            "[Epoch: 29]     train loss: 0.674; val loss: 1.062     train accuracy: 76.40%; test accuracy: 65.41%\n",
            "[Epoch: 30]     train loss: 0.654; val loss: 1.111     train accuracy: 77.03%; test accuracy: 64.46%\n",
            "[Epoch: 31]     train loss: 0.637; val loss: 1.080     train accuracy: 77.52%; test accuracy: 65.57%\n",
            "[Epoch: 32]     train loss: 0.620; val loss: 1.128     train accuracy: 78.19%; test accuracy: 65.22%\n",
            "[Epoch: 33]     train loss: 0.605; val loss: 1.107     train accuracy: 78.61%; test accuracy: 65.77%\n",
            "[Epoch: 34]     train loss: 0.591; val loss: 1.124     train accuracy: 79.12%; test accuracy: 65.30%\n",
            "[Epoch: 35]     train loss: 0.572; val loss: 1.143     train accuracy: 79.87%; test accuracy: 65.26%\n",
            "[Epoch: 36]     train loss: 0.559; val loss: 1.180     train accuracy: 80.38%; test accuracy: 64.63%\n",
            "[Epoch: 37]     train loss: 0.544; val loss: 1.193     train accuracy: 80.60%; test accuracy: 64.70%\n",
            "[Epoch: 38]     train loss: 0.531; val loss: 1.226     train accuracy: 81.17%; test accuracy: 64.62%\n",
            "[Epoch: 39]     train loss: 0.517; val loss: 1.193     train accuracy: 81.57%; test accuracy: 64.89%\n",
            "[Epoch: 40]     train loss: 0.505; val loss: 1.223     train accuracy: 82.08%; test accuracy: 65.22%\n",
            "[Epoch: 41]     train loss: 0.490; val loss: 1.269     train accuracy: 82.55%; test accuracy: 64.16%\n",
            "[Epoch: 42]     train loss: 0.476; val loss: 1.261     train accuracy: 83.08%; test accuracy: 65.19%\n",
            "[Epoch: 43]     train loss: 0.464; val loss: 1.307     train accuracy: 83.53%; test accuracy: 63.85%\n",
            "[Epoch: 44]     train loss: 0.448; val loss: 1.337     train accuracy: 84.06%; test accuracy: 63.51%\n",
            "[Epoch: 45]     train loss: 0.438; val loss: 1.330     train accuracy: 84.55%; test accuracy: 64.52%\n",
            "[Epoch: 46]     train loss: 0.427; val loss: 1.393     train accuracy: 84.82%; test accuracy: 63.82%\n",
            "[Epoch: 47]     train loss: 0.411; val loss: 1.404     train accuracy: 85.33%; test accuracy: 64.20%\n",
            "[Epoch: 48]     train loss: 0.401; val loss: 1.433     train accuracy: 85.77%; test accuracy: 63.70%\n",
            "[Epoch: 49]     train loss: 0.394; val loss: 1.463     train accuracy: 85.93%; test accuracy: 63.43%\n",
            "[Epoch: 50]     train loss: 0.378; val loss: 1.497     train accuracy: 86.42%; test accuracy: 63.47%\n",
            "Finished Training\n"
          ]
        }
      ]
    },
    {
      "cell_type": "code",
      "source": [
        "plot_losses(losses, val_losses, acc, val_acc)"
      ],
      "metadata": {
        "colab": {
          "base_uri": "https://localhost:8080/",
          "height": 517
        },
        "id": "TWKO5WfGoUxn",
        "outputId": "b28a0cf9-2179-4488-9962-430a8fcb5581"
      },
      "execution_count": null,
      "outputs": [
        {
          "output_type": "display_data",
          "data": {
            "text/plain": [
              "<Figure size 432x288 with 1 Axes>"
            ],
            "image/png": "[encoded data removed]"
          },
          "metadata": {
            "needs_background": "light"
          }
        },
        {
          "output_type": "display_data",
          "data": {
            "text/plain": [
              "<Figure size 432x288 with 1 Axes>"
            ],
            "image/png": "[encoded data removed]"
          },
          "metadata": {
            "needs_background": "light"
          }
        }
      ]
    },
    {
      "cell_type": "markdown",
      "source": [
        "**Conclusion:** model is over-fitting to training set"
      ],
      "metadata": {
        "id": "XGKEpz4y1zrB"
      }
    },
    {
      "cell_type": "markdown",
      "source": [
        "# 2nd Training: Dropout"
      ],
      "metadata": {
        "id": "b7vHW9YE2BJt"
      }
    },
    {
      "cell_type": "code",
      "source": [
        "# choose gpu if available\n",
        "device = torch.device('cuda:0' if torch.cuda.is_available() else 'cpu')\n",
        "\n",
        "lr = 0.001\n",
        "momentum = 0.9\n",
        "batch_size = 32\n",
        "n_epochs = 100\n",
        "\n",
        "# Data loader\n",
        "train_loader,val_loader,classes = dataloader(batch_size)\n",
        "\n",
        "# define network for training\n",
        "net = Net2().to(device)\n",
        "\n",
        "# Loss function & optimizer\n",
        "import torch.optim as optim\n",
        "criterion = nn.CrossEntropyLoss()\n",
        "optimizer = optim.SGD(net.parameters(), lr=lr, momentum = momentum)\n",
        "\n",
        "# train\n",
        "net, losses, acc, val_losses, val_acc = train(train_loader,val_loader,net,n_epochs,criterion,optimizer,device)\n",
        "\n",
        "# plot loss\n",
        "plot_losses(losses, val_losses, acc, val_acc)"
      ],
      "metadata": {
        "colab": {
          "base_uri": "https://localhost:8080/",
          "height": 1000,
          "referenced_widgets": [
            "eaa210284c934b2e99738e8f1161f3be",
            "70c9dddf5f0f4c279e706b028fa1508c",
            "e2768e5b507b47f28c943b1f380a56aa",
            "b9304f79808d4e849021a65f7705b130",
            "2c4c217822494e6d98fd54fd81c42d6a",
            "43c14607c7f648978f28e073258b7319",
            "069922e5dc564b7ebb0c844eeab687e1",
            "be2146008a76426f9f399e86ae1a2210",
            "fa289a968e8d4218a85bada970b5443f",
            "799cfa1e85724b3c988fbe07826b81a7",
            "37ff776fc561476fa05f7641fb0f39c6",
            "aad908544a0c45288c747cdcc491d9cd",
            "29376bfe68af4ea2a698fe6d2f65c30f",
            "e9ab4bc723ff4542bd5b8224273f3e57",
            "895bc81a753242c69bf2c1d1a9335b97",
            "c37451428fa44516b7f67205b1067545",
            "4550fb6f72f54eac927195861321c5f7",
            "c10440c1acbd4c4fa0ef19e387de08f0",
            "8d78de3ad8fd400fb0af32ac2b68a535",
            "48252cec40d04218a4a2f0ca10c98181",
            "18356be3df9c45a68f72da7285656440",
            "d1fcaf548f2e43ea8c50bcac65e23b5e"
          ]
        },
        "id": "GI0Qj8LI4Y0L",
        "outputId": "c9c5b5f3-d2c1-4a91-8b74-076c6b96e0e0"
      },
      "execution_count": 8,
      "outputs": [
        {
          "output_type": "stream",
          "name": "stdout",
          "text": [
            "Downloading https://www.cs.toronto.edu/~kriz/cifar-10-python.tar.gz to ./root/cifar-10-python.tar.gz\n"
          ]
        },
        {
          "output_type": "display_data",
          "data": {
            "text/plain": [
              "  0%|          | 0/170498071 [00:00<?, ?it/s]"
            ],
            "application/vnd.jupyter.widget-view+json": {
              "version_major": 2,
              "version_minor": 0,
              "model_id": "eaa210284c934b2e99738e8f1161f3be"
            }
          },
          "metadata": {}
        },
        {
          "output_type": "stream",
          "name": "stdout",
          "text": [
            "Extracting ./root/cifar-10-python.tar.gz to ./root\n",
            "Downloading https://www.cs.toronto.edu/~kriz/cifar-10-python.tar.gz to ./data/cifar-10-python.tar.gz\n"
          ]
        },
        {
          "output_type": "display_data",
          "data": {
            "text/plain": [
              "  0%|          | 0/170498071 [00:00<?, ?it/s]"
            ],
            "application/vnd.jupyter.widget-view+json": {
              "version_major": 2,
              "version_minor": 0,
              "model_id": "aad908544a0c45288c747cdcc491d9cd"
            }
          },
          "metadata": {}
        },
        {
          "output_type": "stream",
          "name": "stdout",
          "text": [
            "Extracting ./data/cifar-10-python.tar.gz to ./data\n",
            "[Epoch: 1]     train loss: 2.219; val loss: 2.010;     train accuracy: 16.90%; test accuracy: 25.22%\n",
            "[Epoch: 2]     train loss: 1.893; val loss: 1.750;     train accuracy: 29.73%; test accuracy: 35.53%\n",
            "[Epoch: 3]     train loss: 1.670; val loss: 1.599;     train accuracy: 38.59%; test accuracy: 41.80%\n",
            "[Epoch: 4]     train loss: 1.555; val loss: 1.505;     train accuracy: 43.14%; test accuracy: 44.87%\n",
            "[Epoch: 5]     train loss: 1.481; val loss: 1.442;     train accuracy: 45.96%; test accuracy: 48.01%\n",
            "[Epoch: 6]     train loss: 1.417; val loss: 1.398;     train accuracy: 48.47%; test accuracy: 49.00%\n",
            "[Epoch: 7]     train loss: 1.357; val loss: 1.332;     train accuracy: 50.95%; test accuracy: 51.67%\n",
            "[Epoch: 8]     train loss: 1.308; val loss: 1.309;     train accuracy: 53.02%; test accuracy: 53.04%\n",
            "[Epoch: 9]     train loss: 1.268; val loss: 1.301;     train accuracy: 54.28%; test accuracy: 52.84%\n",
            "[Epoch: 10]     train loss: 1.230; val loss: 1.254;     train accuracy: 55.92%; test accuracy: 55.86%\n",
            "[Epoch: 11]     train loss: 1.201; val loss: 1.242;     train accuracy: 57.08%; test accuracy: 55.91%\n",
            "[Epoch: 12]     train loss: 1.171; val loss: 1.224;     train accuracy: 58.44%; test accuracy: 56.51%\n",
            "[Epoch: 13]     train loss: 1.143; val loss: 1.185;     train accuracy: 59.30%; test accuracy: 57.72%\n",
            "[Epoch: 14]     train loss: 1.122; val loss: 1.182;     train accuracy: 60.22%; test accuracy: 58.23%\n",
            "[Epoch: 15]     train loss: 1.097; val loss: 1.191;     train accuracy: 61.11%; test accuracy: 58.54%\n",
            "[Epoch: 16]     train loss: 1.076; val loss: 1.147;     train accuracy: 61.90%; test accuracy: 59.74%\n",
            "[Epoch: 17]     train loss: 1.059; val loss: 1.157;     train accuracy: 62.69%; test accuracy: 59.24%\n",
            "[Epoch: 18]     train loss: 1.042; val loss: 1.166;     train accuracy: 63.22%; test accuracy: 59.12%\n",
            "[Epoch: 19]     train loss: 1.027; val loss: 1.132;     train accuracy: 63.57%; test accuracy: 59.85%\n",
            "[Epoch: 20]     train loss: 1.010; val loss: 1.146;     train accuracy: 64.42%; test accuracy: 60.65%\n",
            "[Epoch: 21]     train loss: 0.994; val loss: 1.137;     train accuracy: 64.64%; test accuracy: 60.81%\n",
            "[Epoch: 22]     train loss: 0.983; val loss: 1.172;     train accuracy: 65.23%; test accuracy: 59.86%\n",
            "[Epoch: 23]     train loss: 0.966; val loss: 1.143;     train accuracy: 65.70%; test accuracy: 60.56%\n",
            "[Epoch: 24]     train loss: 0.956; val loss: 1.129;     train accuracy: 66.22%; test accuracy: 60.94%\n",
            "[Epoch: 25]     train loss: 0.945; val loss: 1.153;     train accuracy: 66.61%; test accuracy: 60.64%\n",
            "[Epoch: 26]     train loss: 0.933; val loss: 1.119;     train accuracy: 67.04%; test accuracy: 61.51%\n",
            "[Epoch: 27]     train loss: 0.925; val loss: 1.147;     train accuracy: 67.16%; test accuracy: 61.28%\n",
            "[Epoch: 28]     train loss: 0.914; val loss: 1.132;     train accuracy: 67.56%; test accuracy: 60.90%\n",
            "[Epoch: 29]     train loss: 0.901; val loss: 1.129;     train accuracy: 68.07%; test accuracy: 61.73%\n",
            "[Epoch: 30]     train loss: 0.893; val loss: 1.136;     train accuracy: 68.37%; test accuracy: 61.40%\n",
            "[Epoch: 31]     train loss: 0.883; val loss: 1.114;     train accuracy: 68.63%; test accuracy: 61.99%\n",
            "[Epoch: 32]     train loss: 0.872; val loss: 1.123;     train accuracy: 69.04%; test accuracy: 62.02%\n",
            "[Epoch: 33]     train loss: 0.862; val loss: 1.134;     train accuracy: 69.52%; test accuracy: 61.33%\n",
            "[Epoch: 34]     train loss: 0.858; val loss: 1.133;     train accuracy: 69.51%; test accuracy: 62.31%\n",
            "[Epoch: 35]     train loss: 0.843; val loss: 1.147;     train accuracy: 69.85%; test accuracy: 61.28%\n",
            "[Epoch: 36]     train loss: 0.842; val loss: 1.143;     train accuracy: 69.72%; test accuracy: 62.22%\n",
            "[Epoch: 37]     train loss: 0.835; val loss: 1.129;     train accuracy: 69.94%; test accuracy: 62.07%\n",
            "[Epoch: 38]     train loss: 0.828; val loss: 1.130;     train accuracy: 70.40%; test accuracy: 61.79%\n",
            "[Epoch: 39]     train loss: 0.817; val loss: 1.172;     train accuracy: 70.80%; test accuracy: 60.78%\n",
            "[Epoch: 40]     train loss: 0.809; val loss: 1.189;     train accuracy: 71.11%; test accuracy: 61.12%\n",
            "[Epoch: 41]     train loss: 0.805; val loss: 1.161;     train accuracy: 71.13%; test accuracy: 61.38%\n",
            "[Epoch: 42]     train loss: 0.796; val loss: 1.180;     train accuracy: 71.50%; test accuracy: 60.86%\n",
            "[Epoch: 43]     train loss: 0.793; val loss: 1.178;     train accuracy: 71.50%; test accuracy: 61.75%\n",
            "[Epoch: 44]     train loss: 0.780; val loss: 1.214;     train accuracy: 72.03%; test accuracy: 61.17%\n",
            "[Epoch: 45]     train loss: 0.778; val loss: 1.194;     train accuracy: 72.18%; test accuracy: 61.03%\n",
            "[Epoch: 46]     train loss: 0.777; val loss: 1.170;     train accuracy: 72.10%; test accuracy: 61.09%\n",
            "[Epoch: 47]     train loss: 0.764; val loss: 1.183;     train accuracy: 72.58%; test accuracy: 61.09%\n",
            "[Epoch: 48]     train loss: 0.760; val loss: 1.210;     train accuracy: 72.70%; test accuracy: 60.79%\n",
            "[Epoch: 49]     train loss: 0.759; val loss: 1.168;     train accuracy: 72.78%; test accuracy: 62.14%\n",
            "[Epoch: 50]     train loss: 0.752; val loss: 1.184;     train accuracy: 73.00%; test accuracy: 61.85%\n",
            "[Epoch: 51]     train loss: 0.747; val loss: 1.211;     train accuracy: 73.00%; test accuracy: 61.57%\n",
            "[Epoch: 52]     train loss: 0.740; val loss: 1.204;     train accuracy: 73.22%; test accuracy: 60.72%\n",
            "[Epoch: 53]     train loss: 0.737; val loss: 1.194;     train accuracy: 73.29%; test accuracy: 61.03%\n",
            "[Epoch: 54]     train loss: 0.730; val loss: 1.203;     train accuracy: 73.66%; test accuracy: 60.95%\n",
            "[Epoch: 55]     train loss: 0.723; val loss: 1.226;     train accuracy: 73.96%; test accuracy: 60.93%\n",
            "[Epoch: 56]     train loss: 0.719; val loss: 1.240;     train accuracy: 74.16%; test accuracy: 61.04%\n",
            "[Epoch: 57]     train loss: 0.719; val loss: 1.236;     train accuracy: 73.92%; test accuracy: 61.40%\n",
            "[Epoch: 58]     train loss: 0.712; val loss: 1.251;     train accuracy: 74.05%; test accuracy: 60.44%\n",
            "[Epoch: 59]     train loss: 0.712; val loss: 1.219;     train accuracy: 74.21%; test accuracy: 60.61%\n",
            "[Epoch: 60]     train loss: 0.707; val loss: 1.222;     train accuracy: 74.51%; test accuracy: 61.37%\n",
            "[Epoch: 61]     train loss: 0.700; val loss: 1.249;     train accuracy: 74.66%; test accuracy: 60.67%\n",
            "[Epoch: 62]     train loss: 0.698; val loss: 1.245;     train accuracy: 74.60%; test accuracy: 61.21%\n",
            "[Epoch: 63]     train loss: 0.692; val loss: 1.254;     train accuracy: 74.81%; test accuracy: 60.65%\n",
            "[Epoch: 64]     train loss: 0.686; val loss: 1.286;     train accuracy: 75.24%; test accuracy: 60.30%\n",
            "[Epoch: 65]     train loss: 0.684; val loss: 1.260;     train accuracy: 75.30%; test accuracy: 61.11%\n",
            "[Epoch: 66]     train loss: 0.678; val loss: 1.266;     train accuracy: 75.55%; test accuracy: 60.65%\n",
            "[Epoch: 67]     train loss: 0.678; val loss: 1.314;     train accuracy: 75.53%; test accuracy: 59.62%\n",
            "[Epoch: 68]     train loss: 0.673; val loss: 1.256;     train accuracy: 75.55%; test accuracy: 61.23%\n",
            "[Epoch: 69]     train loss: 0.667; val loss: 1.323;     train accuracy: 75.77%; test accuracy: 59.56%\n",
            "[Epoch: 70]     train loss: 0.669; val loss: 1.292;     train accuracy: 75.46%; test accuracy: 60.98%\n",
            "[Epoch: 71]     train loss: 0.665; val loss: 1.325;     train accuracy: 75.82%; test accuracy: 60.89%\n",
            "[Epoch: 72]     train loss: 0.659; val loss: 1.280;     train accuracy: 76.06%; test accuracy: 61.66%\n",
            "[Epoch: 73]     train loss: 0.660; val loss: 1.312;     train accuracy: 75.69%; test accuracy: 60.49%\n",
            "[Epoch: 74]     train loss: 0.654; val loss: 1.277;     train accuracy: 76.08%; test accuracy: 61.04%\n",
            "[Epoch: 75]     train loss: 0.655; val loss: 1.305;     train accuracy: 76.02%; test accuracy: 59.68%\n",
            "[Epoch: 76]     train loss: 0.650; val loss: 1.296;     train accuracy: 76.42%; test accuracy: 60.62%\n",
            "[Epoch: 77]     train loss: 0.647; val loss: 1.309;     train accuracy: 76.32%; test accuracy: 60.93%\n",
            "[Epoch: 78]     train loss: 0.645; val loss: 1.330;     train accuracy: 76.36%; test accuracy: 61.14%\n",
            "[Epoch: 79]     train loss: 0.642; val loss: 1.325;     train accuracy: 76.49%; test accuracy: 60.57%\n",
            "[Epoch: 80]     train loss: 0.643; val loss: 1.314;     train accuracy: 76.61%; test accuracy: 60.74%\n",
            "[Epoch: 81]     train loss: 0.639; val loss: 1.331;     train accuracy: 76.47%; test accuracy: 60.31%\n",
            "[Epoch: 82]     train loss: 0.632; val loss: 1.378;     train accuracy: 76.96%; test accuracy: 60.45%\n",
            "[Epoch: 83]     train loss: 0.630; val loss: 1.331;     train accuracy: 76.96%; test accuracy: 60.27%\n",
            "[Epoch: 84]     train loss: 0.627; val loss: 1.360;     train accuracy: 76.97%; test accuracy: 60.79%\n",
            "[Epoch: 85]     train loss: 0.624; val loss: 1.344;     train accuracy: 77.35%; test accuracy: 60.44%\n",
            "[Epoch: 86]     train loss: 0.615; val loss: 1.384;     train accuracy: 77.54%; test accuracy: 59.96%\n",
            "[Epoch: 87]     train loss: 0.625; val loss: 1.385;     train accuracy: 77.15%; test accuracy: 60.03%\n",
            "[Epoch: 88]     train loss: 0.618; val loss: 1.383;     train accuracy: 77.52%; test accuracy: 60.46%\n",
            "[Epoch: 89]     train loss: 0.610; val loss: 1.416;     train accuracy: 77.58%; test accuracy: 60.84%\n",
            "[Epoch: 90]     train loss: 0.611; val loss: 1.438;     train accuracy: 77.64%; test accuracy: 59.57%\n",
            "[Epoch: 91]     train loss: 0.617; val loss: 1.372;     train accuracy: 77.52%; test accuracy: 60.22%\n",
            "[Epoch: 92]     train loss: 0.611; val loss: 1.419;     train accuracy: 77.45%; test accuracy: 60.74%\n",
            "[Epoch: 93]     train loss: 0.608; val loss: 1.413;     train accuracy: 77.62%; test accuracy: 59.81%\n",
            "[Epoch: 94]     train loss: 0.603; val loss: 1.368;     train accuracy: 77.90%; test accuracy: 60.62%\n",
            "[Epoch: 95]     train loss: 0.601; val loss: 1.416;     train accuracy: 77.94%; test accuracy: 59.96%\n",
            "[Epoch: 96]     train loss: 0.598; val loss: 1.401;     train accuracy: 78.11%; test accuracy: 60.18%\n",
            "[Epoch: 97]     train loss: 0.599; val loss: 1.391;     train accuracy: 78.07%; test accuracy: 60.63%\n",
            "[Epoch: 98]     train loss: 0.593; val loss: 1.421;     train accuracy: 78.17%; test accuracy: 60.04%\n",
            "[Epoch: 99]     train loss: 0.594; val loss: 1.432;     train accuracy: 78.00%; test accuracy: 59.59%\n",
            "[Epoch: 100]     train loss: 0.598; val loss: 1.417;     train accuracy: 78.06%; test accuracy: 60.11%\n",
            "Finished Training\n"
          ]
        },
        {
          "output_type": "display_data",
          "data": {
            "text/plain": [
              "<Figure size 432x288 with 1 Axes>"
            ],
            "image/png": "[encoded data removed]"
          },
          "metadata": {
            "needs_background": "light"
          }
        },
        {
          "output_type": "display_data",
          "data": {
            "text/plain": [
              "<Figure size 432x288 with 1 Axes>"
            ],
            "image/png": "[encoded data removed]"
          },
          "metadata": {
            "needs_background": "light"
          }
        }
      ]
    },
    {
      "cell_type": "markdown",
      "source": [
        "**Conclusion:** Though over-fitting reduced, the test accuracy went down. Hyper-param tuning (lr, etc.) may be required to improve accuracy further."
      ],
      "metadata": {
        "id": "fLA77UrCivHa"
      }
    },
    {
      "cell_type": "markdown",
      "source": [
        "# Experiment 3: Better Model"
      ],
      "metadata": {
        "id": "ZrJqi-6ai9EE"
      }
    },
    {
      "cell_type": "code",
      "source": [
        "# choose gpu if available\n",
        "device = torch.device('cuda:0' if torch.cuda.is_available() else 'cpu')\n",
        "\n",
        "lr = 0.001\n",
        "momentum = 0.9\n",
        "batch_size = 32\n",
        "n_epochs = 100\n",
        "\n",
        "# Data loader\n",
        "train_loader,val_loader,classes = dataloader(batch_size)\n",
        "\n",
        "# define network for training\n",
        "net = Net3().to(device)\n",
        "\n",
        "# Loss function & optimizer\n",
        "import torch.optim as optim\n",
        "criterion = nn.CrossEntropyLoss()\n",
        "optimizer = optim.SGD(net.parameters(), lr=lr, momentum = momentum)\n",
        "\n",
        "# train\n",
        "net, losses, acc, val_losses, val_acc = train(train_loader,val_loader,net,n_epochs,criterion,optimizer,device)\n",
        "\n",
        "# plot loss\n",
        "plot_losses(losses, val_losses, acc, val_acc)\n",
        "\n",
        "# accuracy\n",
        "print(f'max train acc: {max(acc)}\\t max test acc: {max(val_acc)}')"
      ],
      "metadata": {
        "colab": {
          "base_uri": "https://localhost:8080/"
        },
        "id": "LWcqXophjDLB",
        "outputId": "6e0c296b-c3f5-4c51-d85b-c967c07ae0b4"
      },
      "execution_count": null,
      "outputs": [
        {
          "output_type": "stream",
          "name": "stdout",
          "text": [
            "Files already downloaded and verified\n",
            "Files already downloaded and verified\n",
            "[Epoch: 1]     train loss: 2.302; val loss: 2.299;     train accuracy: 10.62%; test accuracy: 13.21%\n",
            "[Epoch: 2]     train loss: 2.211; val loss: 2.031;     train accuracy: 18.39%; test accuracy: 25.23%\n",
            "[Epoch: 3]     train loss: 1.923; val loss: 1.782;     train accuracy: 28.80%; test accuracy: 34.09%\n",
            "[Epoch: 4]     train loss: 1.721; val loss: 1.636;     train accuracy: 36.25%; test accuracy: 39.41%\n",
            "[Epoch: 5]     train loss: 1.609; val loss: 1.569;     train accuracy: 40.71%; test accuracy: 41.73%\n",
            "[Epoch: 6]     train loss: 1.537; val loss: 1.494;     train accuracy: 43.51%; test accuracy: 45.24%\n",
            "[Epoch: 7]     train loss: 1.470; val loss: 1.442;     train accuracy: 46.34%; test accuracy: 47.20%\n",
            "[Epoch: 8]     train loss: 1.409; val loss: 1.404;     train accuracy: 48.77%; test accuracy: 49.41%\n",
            "[Epoch: 9]     train loss: 1.358; val loss: 1.338;     train accuracy: 50.68%; test accuracy: 51.43%\n",
            "[Epoch: 10]     train loss: 1.311; val loss: 1.280;     train accuracy: 52.73%; test accuracy: 53.33%\n",
            "[Epoch: 11]     train loss: 1.267; val loss: 1.252;     train accuracy: 54.62%; test accuracy: 55.36%\n",
            "[Epoch: 12]     train loss: 1.229; val loss: 1.218;     train accuracy: 56.21%; test accuracy: 56.25%\n",
            "[Epoch: 13]     train loss: 1.190; val loss: 1.183;     train accuracy: 57.48%; test accuracy: 58.27%\n",
            "[Epoch: 14]     train loss: 1.158; val loss: 1.161;     train accuracy: 58.94%; test accuracy: 58.64%\n",
            "[Epoch: 15]     train loss: 1.127; val loss: 1.159;     train accuracy: 60.09%; test accuracy: 59.47%\n",
            "[Epoch: 16]     train loss: 1.101; val loss: 1.115;     train accuracy: 61.19%; test accuracy: 61.11%\n",
            "[Epoch: 17]     train loss: 1.068; val loss: 1.121;     train accuracy: 62.48%; test accuracy: 60.50%\n",
            "[Epoch: 18]     train loss: 1.044; val loss: 1.115;     train accuracy: 63.29%; test accuracy: 61.28%\n",
            "[Epoch: 19]     train loss: 1.021; val loss: 1.066;     train accuracy: 64.29%; test accuracy: 63.02%\n",
            "[Epoch: 20]     train loss: 1.003; val loss: 1.051;     train accuracy: 64.77%; test accuracy: 63.53%\n",
            "[Epoch: 21]     train loss: 0.972; val loss: 1.034;     train accuracy: 66.11%; test accuracy: 64.39%\n",
            "[Epoch: 22]     train loss: 0.955; val loss: 1.020;     train accuracy: 66.80%; test accuracy: 64.84%\n",
            "[Epoch: 23]     train loss: 0.936; val loss: 1.010;     train accuracy: 67.42%; test accuracy: 65.05%\n",
            "[Epoch: 24]     train loss: 0.920; val loss: 0.990;     train accuracy: 67.90%; test accuracy: 66.03%\n",
            "[Epoch: 25]     train loss: 0.896; val loss: 1.019;     train accuracy: 68.58%; test accuracy: 64.95%\n",
            "[Epoch: 26]     train loss: 0.885; val loss: 0.983;     train accuracy: 69.01%; test accuracy: 66.37%\n",
            "[Epoch: 27]     train loss: 0.870; val loss: 0.972;     train accuracy: 69.61%; test accuracy: 66.25%\n",
            "[Epoch: 28]     train loss: 0.853; val loss: 0.957;     train accuracy: 70.16%; test accuracy: 66.87%\n",
            "[Epoch: 29]     train loss: 0.840; val loss: 0.959;     train accuracy: 70.67%; test accuracy: 66.90%\n",
            "[Epoch: 30]     train loss: 0.826; val loss: 0.971;     train accuracy: 71.25%; test accuracy: 67.45%\n",
            "[Epoch: 31]     train loss: 0.813; val loss: 0.961;     train accuracy: 71.54%; test accuracy: 67.65%\n",
            "[Epoch: 32]     train loss: 0.795; val loss: 0.939;     train accuracy: 72.39%; test accuracy: 68.61%\n",
            "[Epoch: 33]     train loss: 0.791; val loss: 0.968;     train accuracy: 72.57%; test accuracy: 67.49%\n",
            "[Epoch: 34]     train loss: 0.776; val loss: 0.943;     train accuracy: 72.89%; test accuracy: 68.07%\n",
            "[Epoch: 35]     train loss: 0.764; val loss: 0.960;     train accuracy: 73.47%; test accuracy: 68.52%\n",
            "[Epoch: 36]     train loss: 0.757; val loss: 0.976;     train accuracy: 73.52%; test accuracy: 67.47%\n",
            "[Epoch: 37]     train loss: 0.745; val loss: 0.959;     train accuracy: 73.86%; test accuracy: 68.26%\n",
            "[Epoch: 38]     train loss: 0.732; val loss: 0.956;     train accuracy: 74.59%; test accuracy: 68.89%\n",
            "[Epoch: 39]     train loss: 0.718; val loss: 0.937;     train accuracy: 75.02%; test accuracy: 68.50%\n",
            "[Epoch: 40]     train loss: 0.718; val loss: 0.910;     train accuracy: 75.14%; test accuracy: 69.42%\n",
            "[Epoch: 41]     train loss: 0.706; val loss: 0.973;     train accuracy: 75.37%; test accuracy: 68.29%\n",
            "[Epoch: 42]     train loss: 0.698; val loss: 0.947;     train accuracy: 75.73%; test accuracy: 68.84%\n",
            "[Epoch: 43]     train loss: 0.682; val loss: 0.969;     train accuracy: 76.13%; test accuracy: 68.23%\n",
            "[Epoch: 44]     train loss: 0.682; val loss: 0.942;     train accuracy: 76.04%; test accuracy: 68.96%\n",
            "[Epoch: 45]     train loss: 0.670; val loss: 0.933;     train accuracy: 76.50%; test accuracy: 69.40%\n",
            "[Epoch: 46]     train loss: 0.662; val loss: 0.938;     train accuracy: 76.91%; test accuracy: 69.15%\n",
            "[Epoch: 47]     train loss: 0.651; val loss: 0.948;     train accuracy: 77.18%; test accuracy: 69.81%\n",
            "[Epoch: 48]     train loss: 0.646; val loss: 0.930;     train accuracy: 77.32%; test accuracy: 69.98%\n",
            "[Epoch: 49]     train loss: 0.641; val loss: 0.960;     train accuracy: 77.65%; test accuracy: 69.19%\n",
            "[Epoch: 50]     train loss: 0.633; val loss: 0.937;     train accuracy: 77.90%; test accuracy: 69.79%\n",
            "[Epoch: 51]     train loss: 0.620; val loss: 0.973;     train accuracy: 78.16%; test accuracy: 68.67%\n",
            "[Epoch: 52]     train loss: 0.621; val loss: 0.935;     train accuracy: 78.19%; test accuracy: 69.35%\n",
            "[Epoch: 53]     train loss: 0.608; val loss: 0.947;     train accuracy: 78.51%; test accuracy: 69.77%\n",
            "[Epoch: 54]     train loss: 0.605; val loss: 0.945;     train accuracy: 78.67%; test accuracy: 69.93%\n",
            "[Epoch: 55]     train loss: 0.593; val loss: 0.935;     train accuracy: 78.93%; test accuracy: 69.60%\n"
          ]
        }
      ]
    }
  ]
}