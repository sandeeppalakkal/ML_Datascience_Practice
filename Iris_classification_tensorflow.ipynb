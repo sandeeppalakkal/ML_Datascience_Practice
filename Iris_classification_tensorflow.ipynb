{
  "nbformat": 4,
  "nbformat_minor": 0,
  "metadata": {
    "colab": {
      "name": "Iris classification tensorflow.ipynb",
      "version": "0.3.2",
      "provenance": [],
      "include_colab_link": true
    },
    "kernelspec": {
      "name": "python3",
      "display_name": "Python 3"
    }
  },
  "cells": [
    {
      "cell_type": "markdown",
      "metadata": {
        "id": "view-in-github",
        "colab_type": "text"
      },
      "source": [
        "<a href=\"https://colab.research.google.com/github/sandeeppalakkal/ML_Datascience_Practice/blob/master/Iris_classification_tensorflow.ipynb\" target=\"_parent\"><img src=\"https://colab.research.google.com/assets/colab-badge.svg\" alt=\"Open In Colab\"/></a>"
      ]
    },
    {
      "cell_type": "code",
      "metadata": {
        "id": "EpTXx-JdVo9B",
        "colab_type": "code",
        "colab": {}
      },
      "source": [
        "import tensorflow as tf\n",
        "tf.enable_eager_execution()"
      ],
      "execution_count": 0,
      "outputs": []
    },
    {
      "cell_type": "code",
      "metadata": {
        "id": "fVA-xz0sVxKH",
        "colab_type": "code",
        "colab": {}
      },
      "source": [
        "import os\n",
        "import matplotlib.pyplot as plt\n",
        "%matplotlib inline"
      ],
      "execution_count": 0,
      "outputs": []
    },
    {
      "cell_type": "markdown",
      "metadata": {
        "id": "zuSlcVREV7RY",
        "colab_type": "text"
      },
      "source": [
        "### Get data"
      ]
    },
    {
      "cell_type": "code",
      "metadata": {
        "id": "2xfrQJ1VWCeR",
        "colab_type": "code",
        "colab": {
          "base_uri": "https://localhost:8080/",
          "height": 34
        },
        "outputId": "d49c2e9b-e1d6-4f95-9700-4a4426c47bfe"
      },
      "source": [
        "train_dataset_url = \"https://storage.googleapis.com/download.tensorflow.org/data/iris_training.csv\"\n",
        "train_dataset_fp = tf.keras.utils.get_file(fname=os.path.basename(train_dataset_url),\n",
        "                                          origin=train_dataset_url)\n",
        "print(\"Downloaded to: {:s}\".format(train_dataset_fp))"
      ],
      "execution_count": 6,
      "outputs": [
        {
          "output_type": "stream",
          "text": [
            "Downloaded to: /root/.keras/datasets/iris_training.csv\n"
          ],
          "name": "stdout"
        }
      ]
    },
    {
      "cell_type": "code",
      "metadata": {
        "id": "vcheEQ4XWhT2",
        "colab_type": "code",
        "colab": {
          "base_uri": "https://localhost:8080/",
          "height": 102
        },
        "outputId": "104f75d1-d01a-4d15-ed40-d6010f613464"
      },
      "source": [
        "!head -n5 {train_dataset_fp}"
      ],
      "execution_count": 8,
      "outputs": [
        {
          "output_type": "stream",
          "text": [
            "120,4,setosa,versicolor,virginica\n",
            "6.4,2.8,5.6,2.2,2\n",
            "5.0,2.3,3.3,1.0,1\n",
            "4.9,2.5,4.5,1.7,2\n",
            "4.9,3.1,1.5,0.1,0\n"
          ],
          "name": "stdout"
        }
      ]
    },
    {
      "cell_type": "code",
      "metadata": {
        "id": "lm5mbQZcW-yV",
        "colab_type": "code",
        "colab": {}
      },
      "source": [
        "# Labels\n",
        "column_names = ['sepal_length', 'sepal_width', 'petal_length', 'petal_width', 'species']\n",
        "\n",
        "feature_names = column_names[:-1]\n",
        "label_name = column_names[-1]\n",
        "class_names = ['Iris setosa', 'Iris versicolor', 'Iris virginica']"
      ],
      "execution_count": 0,
      "outputs": []
    },
    {
      "cell_type": "code",
      "metadata": {
        "id": "2AP1PU6xXuNY",
        "colab_type": "code",
        "colab": {
          "base_uri": "https://localhost:8080/",
          "height": 139
        },
        "outputId": "f3c6f6b1-0a23-4ec2-9aa5-6937ca14706f"
      },
      "source": [
        "# make training dataset\n",
        "batch_size = 32\n",
        "\n",
        "train_dataset = tf.contrib.data.make_csv_dataset(\n",
        "    train_dataset_fp,\n",
        "    batch_size,\n",
        "    column_names = column_names,\n",
        "    label_name = label_name,\n",
        "    num_epochs=1)"
      ],
      "execution_count": 10,
      "outputs": [
        {
          "output_type": "stream",
          "text": [
            "W0621 00:12:53.197151 139973603018624 deprecation.py:323] From <ipython-input-10-cb6a874b790c>:8: make_csv_dataset (from tensorflow.contrib.data.python.ops.readers) is deprecated and will be removed in a future version.\n",
            "Instructions for updating:\n",
            "Use `tf.data.experimental.make_csv_dataset(...)`.\n",
            "W0621 00:12:53.342396 139973603018624 deprecation.py:323] From /usr/local/lib/python3.6/dist-packages/tensorflow/python/data/experimental/ops/readers.py:499: parallel_interleave (from tensorflow.python.data.experimental.ops.interleave_ops) is deprecated and will be removed in a future version.\n",
            "Instructions for updating:\n",
            "Use `tf.data.Dataset.interleave(map_func, cycle_length, block_length, num_parallel_calls=tf.data.experimental.AUTOTUNE)` instead. If sloppy execution is desired, use `tf.data.Options.experimental_determinstic`.\n"
          ],
          "name": "stderr"
        }
      ]
    },
    {
      "cell_type": "code",
      "metadata": {
        "id": "D1ElogMSYPs2",
        "colab_type": "code",
        "colab": {
          "base_uri": "https://localhost:8080/",
          "height": 34
        },
        "outputId": "5357f2d4-0f3f-4a0b-9016-ef116166f44e"
      },
      "source": [
        "print(type(train_dataset))"
      ],
      "execution_count": 11,
      "outputs": [
        {
          "output_type": "stream",
          "text": [
            "<class 'tensorflow.python.data.ops.dataset_ops.DatasetV1Adapter'>\n"
          ],
          "name": "stdout"
        }
      ]
    },
    {
      "cell_type": "code",
      "metadata": {
        "id": "s5NHvjDGYk3n",
        "colab_type": "code",
        "colab": {
          "base_uri": "https://localhost:8080/",
          "height": 255
        },
        "outputId": "2c3838f8-dd82-413d-bdbb-792ac4f7dc68"
      },
      "source": [
        "# Iterate over batches\n",
        "features,labels = next(iter(train_dataset))\n",
        "print(labels)\n",
        "print(features)"
      ],
      "execution_count": 13,
      "outputs": [
        {
          "output_type": "stream",
          "text": [
            "tf.Tensor([2 2 2 0 1 0 1 1 0 0 2 0 2 0 1 0 0 1 1 2 1 0 0 2 1 1 2 2 1 2 2 0], shape=(32,), dtype=int32)\n",
            "OrderedDict([('sepal_length', <tf.Tensor: id=65, shape=(32,), dtype=float32, numpy=\n",
            "array([6.7, 6.8, 6.3, 5.2, 5.8, 5.4, 5.8, 6. , 4.6, 5.4, 6.7, 5.7, 6.4,\n",
            "       5.1, 6.7, 4.9, 4.6, 5.6, 5.2, 6.2, 5.5, 5.7, 5.3, 7.2, 4.9, 5.7,\n",
            "       6.4, 6.9, 5.7, 7.3, 5.8, 4.9], dtype=float32)>), ('sepal_width', <tf.Tensor: id=66, shape=(32,), dtype=float32, numpy=\n",
            "array([3. , 3.2, 3.4, 3.4, 2.6, 3.7, 2.7, 2.9, 3.1, 3.9, 3.1, 4.4, 3.1,\n",
            "       3.7, 3.1, 3.1, 3.4, 2.7, 2.7, 3.4, 2.4, 3.8, 3.7, 3. , 2.4, 3. ,\n",
            "       2.8, 3.1, 2.8, 2.9, 2.8, 3.1], dtype=float32)>), ('petal_length', <tf.Tensor: id=63, shape=(32,), dtype=float32, numpy=\n",
            "array([5.2, 5.9, 5.6, 1.4, 4. , 1.5, 4.1, 4.5, 1.5, 1.3, 5.6, 1.5, 5.5,\n",
            "       1.5, 4.4, 1.5, 1.4, 4.2, 3.9, 5.4, 3.7, 1.7, 1.5, 5.8, 3.3, 4.2,\n",
            "       5.6, 5.1, 4.5, 6.3, 5.1, 1.5], dtype=float32)>), ('petal_width', <tf.Tensor: id=64, shape=(32,), dtype=float32, numpy=\n",
            "array([2.3, 2.3, 2.4, 0.2, 1.2, 0.2, 1. , 1.5, 0.2, 0.4, 2.4, 0.4, 1.8,\n",
            "       0.4, 1.4, 0.1, 0.3, 1.3, 1.4, 2.3, 1. , 0.3, 0.2, 1.6, 1. , 1.2,\n",
            "       2.2, 2.3, 1.3, 1.8, 2.4, 0.1], dtype=float32)>)])\n"
          ],
          "name": "stdout"
        }
      ]
    },
    {
      "cell_type": "code",
      "metadata": {
        "id": "8Dc-YDFIY34s",
        "colab_type": "code",
        "colab": {
          "base_uri": "https://localhost:8080/",
          "height": 255
        },
        "outputId": "b159035f-6b2a-481e-a524-c1d7d99e3032"
      },
      "source": [
        "# Iterate over batches\n",
        "features,labels = next(iter(train_dataset))\n",
        "print(labels)\n",
        "print(features)"
      ],
      "execution_count": 14,
      "outputs": [
        {
          "output_type": "stream",
          "text": [
            "tf.Tensor([2 2 2 0 1 0 1 1 0 0 2 0 2 0 1 0 0 1 1 2 1 0 0 2 1 1 2 2 1 2 2 0], shape=(32,), dtype=int32)\n",
            "OrderedDict([('sepal_length', <tf.Tensor: id=80, shape=(32,), dtype=float32, numpy=\n",
            "array([6.7, 6.8, 6.3, 5.2, 5.8, 5.4, 5.8, 6. , 4.6, 5.4, 6.7, 5.7, 6.4,\n",
            "       5.1, 6.7, 4.9, 4.6, 5.6, 5.2, 6.2, 5.5, 5.7, 5.3, 7.2, 4.9, 5.7,\n",
            "       6.4, 6.9, 5.7, 7.3, 5.8, 4.9], dtype=float32)>), ('sepal_width', <tf.Tensor: id=81, shape=(32,), dtype=float32, numpy=\n",
            "array([3. , 3.2, 3.4, 3.4, 2.6, 3.7, 2.7, 2.9, 3.1, 3.9, 3.1, 4.4, 3.1,\n",
            "       3.7, 3.1, 3.1, 3.4, 2.7, 2.7, 3.4, 2.4, 3.8, 3.7, 3. , 2.4, 3. ,\n",
            "       2.8, 3.1, 2.8, 2.9, 2.8, 3.1], dtype=float32)>), ('petal_length', <tf.Tensor: id=78, shape=(32,), dtype=float32, numpy=\n",
            "array([5.2, 5.9, 5.6, 1.4, 4. , 1.5, 4.1, 4.5, 1.5, 1.3, 5.6, 1.5, 5.5,\n",
            "       1.5, 4.4, 1.5, 1.4, 4.2, 3.9, 5.4, 3.7, 1.7, 1.5, 5.8, 3.3, 4.2,\n",
            "       5.6, 5.1, 4.5, 6.3, 5.1, 1.5], dtype=float32)>), ('petal_width', <tf.Tensor: id=79, shape=(32,), dtype=float32, numpy=\n",
            "array([2.3, 2.3, 2.4, 0.2, 1.2, 0.2, 1. , 1.5, 0.2, 0.4, 2.4, 0.4, 1.8,\n",
            "       0.4, 1.4, 0.1, 0.3, 1.3, 1.4, 2.3, 1. , 0.3, 0.2, 1.6, 1. , 1.2,\n",
            "       2.2, 2.3, 1.3, 1.8, 2.4, 0.1], dtype=float32)>)])\n"
          ],
          "name": "stdout"
        }
      ]
    },
    {
      "cell_type": "code",
      "metadata": {
        "id": "jR5_wgakaMur",
        "colab_type": "code",
        "colab": {
          "base_uri": "https://localhost:8080/",
          "height": 283
        },
        "outputId": "7e5b920b-26f2-428f-d33c-7bd2a6d6bf35"
      },
      "source": [
        "# Feature visualization\n",
        "\n",
        "plt.scatter(features['petal_length'].numpy(),\n",
        "            features['sepal_length'].numpy(),\n",
        "            c=labels.numpy(),\n",
        "            cmap='viridis')\n",
        "\n",
        "plt.xlabel(\"Petal length\")\n",
        "plt.ylabel(\"Sepal length\");"
      ],
      "execution_count": 15,
      "outputs": [
        {
          "output_type": "display_data",
          "data": {
            "image/png": "[encoded data removed]",
            "text/plain": [
              "<Figure size 432x288 with 1 Axes>"
            ]
          },
          "metadata": {
            "tags": []
          }
        }
      ]
    },
    {
      "cell_type": "code",
      "metadata": {
        "id": "HneoDk1WaW75",
        "colab_type": "code",
        "colab": {}
      },
      "source": [
        "# Create data tensor from training dataset for training\n",
        "def pack_features_vector(features, labels):\n",
        "  \"\"\"Pack the features into a single array.\"\"\"\n",
        "  features = tf.stack(list(features.values()), axis=1)\n",
        "  return features, labels"
      ],
      "execution_count": 0,
      "outputs": []
    },
    {
      "cell_type": "code",
      "metadata": {
        "id": "rDE_Nt0waqtz",
        "colab_type": "code",
        "colab": {
          "base_uri": "https://localhost:8080/",
          "height": 136
        },
        "outputId": "e27bed56-fb0c-4c91-92fe-572badead099"
      },
      "source": [
        "print(pack_features_vector(features,labels)[0][:5])\n",
        "print(pack_features_vector(features,labels)[1][:5])"
      ],
      "execution_count": 19,
      "outputs": [
        {
          "output_type": "stream",
          "text": [
            "tf.Tensor(\n",
            "[[6.7 3.  5.2 2.3]\n",
            " [6.8 3.2 5.9 2.3]\n",
            " [6.3 3.4 5.6 2.4]\n",
            " [5.2 3.4 1.4 0.2]\n",
            " [5.8 2.6 4.  1.2]], shape=(5, 4), dtype=float32)\n",
            "tf.Tensor([2 2 2 0 1], shape=(5,), dtype=int32)\n"
          ],
          "name": "stdout"
        }
      ]
    },
    {
      "cell_type": "code",
      "metadata": {
        "id": "rprvAEcabMmF",
        "colab_type": "code",
        "colab": {}
      },
      "source": [
        "# pack both features & labels into pair of training samples\n",
        "train_dataset = train_dataset.map(pack_features_vector)"
      ],
      "execution_count": 0,
      "outputs": []
    },
    {
      "cell_type": "code",
      "metadata": {
        "id": "0KJtXbxqbiQ0",
        "colab_type": "code",
        "colab": {
          "base_uri": "https://localhost:8080/",
          "height": 153
        },
        "outputId": "8067f77c-b437-47d7-d7b9-0a3b5f05fbd8"
      },
      "source": [
        "features, labels = next(iter(train_dataset))\n",
        "\n",
        "print(features[:5])\n",
        "print(labels[:5])\n",
        "print(features.shape)"
      ],
      "execution_count": 22,
      "outputs": [
        {
          "output_type": "stream",
          "text": [
            "tf.Tensor(\n",
            "[[6.7 3.  5.2 2.3]\n",
            " [6.8 3.2 5.9 2.3]\n",
            " [6.3 3.4 5.6 2.4]\n",
            " [5.2 3.4 1.4 0.2]\n",
            " [5.8 2.6 4.  1.2]], shape=(5, 4), dtype=float32)\n",
            "tf.Tensor([2 2 2 0 1], shape=(5,), dtype=int32)\n",
            "(32, 4)\n"
          ],
          "name": "stdout"
        }
      ]
    },
    {
      "cell_type": "markdown",
      "metadata": {
        "id": "XPCthZk7dFkX",
        "colab_type": "text"
      },
      "source": [
        "### Model"
      ]
    },
    {
      "cell_type": "code",
      "metadata": {
        "id": "QG2n1NMudHuS",
        "colab_type": "code",
        "colab": {}
      },
      "source": [
        "# using keras\n",
        "model = tf.keras.Sequential([\n",
        "    tf.keras.layers.Dense(10,activation=tf.nn.relu,input_shape=(4,)),\n",
        "    tf.keras.layers.Dense(10,activation=tf.nn.relu),\n",
        "    tf.keras.layers.Dense(3)\n",
        "])"
      ],
      "execution_count": 0,
      "outputs": []
    },
    {
      "cell_type": "code",
      "metadata": {
        "id": "nCxitdsFdl6w",
        "colab_type": "code",
        "colab": {
          "base_uri": "https://localhost:8080/",
          "height": 289
        },
        "outputId": "9435370c-e096-4ec1-eb26-6f87e986ebb3"
      },
      "source": [
        "# predicting with above model\n",
        "predictions = model(features[:5])\n",
        "print(\"Model output\")\n",
        "print(predictions)\n",
        "print(\"Softmax output\")\n",
        "print(tf.nn.softmax(predictions))\n",
        "print(\"Argmax of softmax output\")\n",
        "print(tf.argmax(tf.nn.softmax(predictions),axis=1))"
      ],
      "execution_count": 31,
      "outputs": [
        {
          "output_type": "stream",
          "text": [
            "Model output\n",
            "tf.Tensor(\n",
            "[[-1.2204016   1.4775428  -3.4498956 ]\n",
            " [-1.3046824   1.536958   -3.3713946 ]\n",
            " [-1.3187455   1.4565195  -3.0827146 ]\n",
            " [-0.93213165  1.4983323  -3.533815  ]\n",
            " [-0.9817296   1.4050457  -3.2383776 ]], shape=(5, 3), dtype=float32)\n",
            "Softmax output\n",
            "tf.Tensor(\n",
            "[[0.06266936 0.9305884  0.00674215]\n",
            " [0.05473313 0.9383375  0.00692929]\n",
            " [0.05809143 0.9319537  0.00995474]\n",
            " [0.08039684 0.9136418  0.00596132]\n",
            " [0.08345113 0.90781146 0.00873741]], shape=(5, 3), dtype=float32)\n",
            "Argmax of softmax output\n",
            "tf.Tensor([1 1 1 1 1], shape=(5,), dtype=int64)\n"
          ],
          "name": "stdout"
        }
      ]
    },
    {
      "cell_type": "markdown",
      "metadata": {
        "id": "WULJyQIUdhN-",
        "colab_type": "text"
      },
      "source": [
        "### Model Training"
      ]
    },
    {
      "cell_type": "code",
      "metadata": {
        "id": "FxP5XG9vejTr",
        "colab_type": "code",
        "colab": {}
      },
      "source": [
        "# Loss\n",
        "def loss(model,x,y):\n",
        "  y_ = model(x)\n",
        "  return tf.losses.sparse_softmax_cross_entropy(labels=y,logits=y_)"
      ],
      "execution_count": 0,
      "outputs": []
    },
    {
      "cell_type": "code",
      "metadata": {
        "id": "Tqgvuicye2fa",
        "colab_type": "code",
        "colab": {
          "base_uri": "https://localhost:8080/",
          "height": 34
        },
        "outputId": "49b70255-9f4e-4769-c1ec-2514004a00c6"
      },
      "source": [
        "print(loss(model,features,labels))"
      ],
      "execution_count": 34,
      "outputs": [
        {
          "output_type": "stream",
          "text": [
            "tf.Tensor(2.5965037, shape=(), dtype=float32)\n"
          ],
          "name": "stdout"
        }
      ]
    },
    {
      "cell_type": "code",
      "metadata": {
        "id": "bCsIxBM7e7_x",
        "colab_type": "code",
        "colab": {}
      },
      "source": [
        "# gradient calculation\n",
        "def grad(model,inputs,targets):\n",
        "  with tf.GradientTape() as tape:\n",
        "    loss_value = loss(model,inputs,targets)\n",
        "  return loss_value, tape.gradient(loss_value,model.trainable_variables)"
      ],
      "execution_count": 0,
      "outputs": []
    },
    {
      "cell_type": "code",
      "metadata": {
        "id": "GaGsbLA8febQ",
        "colab_type": "code",
        "colab": {}
      },
      "source": [
        "# Optimizer\n",
        "optimizer = tf.train.GradientDescentOptimizer(learning_rate=0.01)\n",
        "global_step = tf.Variable(0)"
      ],
      "execution_count": 0,
      "outputs": []
    },
    {
      "cell_type": "code",
      "metadata": {
        "id": "UL7ehvakft4x",
        "colab_type": "code",
        "colab": {
          "base_uri": "https://localhost:8080/",
          "height": 68
        },
        "outputId": "93a2a7cd-139a-4409-f3e5-6ab05e38d151"
      },
      "source": [
        "# Single optimization step for illustration\n",
        "loss_value, grads = grad(model, features, labels)\n",
        "\n",
        "print(\"Step: {}, Initial Loss: {}\".format(global_step.numpy(),\n",
        "                                          loss_value.numpy()))\n",
        "\n",
        "optimizer.apply_gradients(zip(grads, model.trainable_variables), global_step)\n",
        "\n",
        "print(\"Step: {},         Loss: {}\".format(global_step.numpy(),\n",
        "                                          loss(model, features, labels).numpy()))\n",
        "print(\"Gradient should be reducing\")"
      ],
      "execution_count": 42,
      "outputs": [
        {
          "output_type": "stream",
          "text": [
            "Step: 1, Initial Loss: 2.0247108936309814\n",
            "Step: 2,         Loss: 1.6634857654571533\n",
            "Gradient should be reducing\n"
          ],
          "name": "stdout"
        }
      ]
    },
    {
      "cell_type": "code",
      "metadata": {
        "id": "-6G_85uGf1Ji",
        "colab_type": "code",
        "colab": {
          "base_uri": "https://localhost:8080/",
          "height": 102
        },
        "outputId": "1de5c0ee-19f1-4119-9c78-2ad718d6254e"
      },
      "source": [
        "# Train in a loop\n",
        "from tensorflow import contrib\n",
        "tfe = contrib.eager\n",
        "\n",
        "# keep results for plotting\n",
        "train_loss_results = []\n",
        "train_accuracy_results = []\n",
        "\n",
        "num_epochs = 201\n",
        "\n",
        "for epoch in range(num_epochs):\n",
        "  epoch_loss_avg = tfe.metrics.Mean()\n",
        "  epoch_accuracy = tfe.metrics.Accuracy()\n",
        "\n",
        "  # Training loop - using batches of 32\n",
        "  for x, y in train_dataset:\n",
        "    # Optimize the model\n",
        "    loss_value, grads = grad(model, x, y)\n",
        "    optimizer.apply_gradients(zip(grads, model.trainable_variables),\n",
        "                              global_step)\n",
        "\n",
        "    # Track progress\n",
        "    epoch_loss_avg(loss_value)  # add current batch loss\n",
        "    # compare predicted label to actual label\n",
        "    epoch_accuracy(tf.argmax(model(x), axis=1, output_type=tf.int32), y)\n",
        "\n",
        "  # end epoch\n",
        "  train_loss_results.append(epoch_loss_avg.result())\n",
        "  train_accuracy_results.append(epoch_accuracy.result())\n",
        "  \n",
        "  if epoch % 50 == 0:\n",
        "    print(\"Epoch {:03d}: Loss: {:.3f}, Accuracy: {:.3%}\".format(epoch,\n",
        "                                                                epoch_loss_avg.result(),\n",
        "                                                                epoch_accuracy.result()))\n"
      ],
      "execution_count": 43,
      "outputs": [
        {
          "output_type": "stream",
          "text": [
            "Epoch 000: Loss: 1.391, Accuracy: 30.000%\n",
            "Epoch 050: Loss: 0.356, Accuracy: 92.500%\n",
            "Epoch 100: Loss: 0.227, Accuracy: 97.500%\n",
            "Epoch 150: Loss: 0.165, Accuracy: 96.667%\n",
            "Epoch 200: Loss: 0.136, Accuracy: 96.667%\n"
          ],
          "name": "stdout"
        }
      ]
    },
    {
      "cell_type": "code",
      "metadata": {
        "id": "rgZaavB7gYFB",
        "colab_type": "code",
        "colab": {
          "base_uri": "https://localhost:8080/",
          "height": 558
        },
        "outputId": "41dfac5c-43a2-4e1f-cb15-9023a69ab0f2"
      },
      "source": [
        "# Visualization of training\n",
        "fig, axes = plt.subplots(2, sharex=True, figsize=(12, 8))\n",
        "fig.suptitle('Training Metrics')\n",
        "\n",
        "axes[0].set_ylabel(\"Loss\", fontsize=14)\n",
        "axes[0].plot(train_loss_results)\n",
        "\n",
        "axes[1].set_ylabel(\"Accuracy\", fontsize=14)\n",
        "axes[1].set_xlabel(\"Epoch\", fontsize=14)\n",
        "axes[1].plot(train_accuracy_results);"
      ],
      "execution_count": 44,
      "outputs": [
        {
          "output_type": "display_data",
          "data": {
            "image/png": "[encoded data removed]",
            "text/plain": [
              "<Figure size 864x576 with 2 Axes>"
            ]
          },
          "metadata": {
            "tags": []
          }
        }
      ]
    },
    {
      "cell_type": "markdown",
      "metadata": {
        "id": "ni2iwaxiggjL",
        "colab_type": "text"
      },
      "source": [
        "### Model Evaluation"
      ]
    },
    {
      "cell_type": "code",
      "metadata": {
        "id": "v3NRgNlwgpyj",
        "colab_type": "code",
        "colab": {
          "base_uri": "https://localhost:8080/",
          "height": 71
        },
        "outputId": "db93e442-3867-451a-90fd-08e466507958"
      },
      "source": [
        "# download test data\n",
        "test_url = \"https://storage.googleapis.com/download.tensorflow.org/data/iris_test.csv\"\n",
        "\n",
        "test_fp = tf.keras.utils.get_file(fname=os.path.basename(test_url),\n",
        "                                  origin=test_url)"
      ],
      "execution_count": 45,
      "outputs": [
        {
          "output_type": "stream",
          "text": [
            "Downloading data from https://storage.googleapis.com/download.tensorflow.org/data/iris_test.csv\n",
            "\r8192/573 [============================================================================================================================================================================================================================================================================================================================================================================================================================================] - 0s 0us/step\n"
          ],
          "name": "stdout"
        }
      ]
    },
    {
      "cell_type": "code",
      "metadata": {
        "id": "JimvJpn5gtAl",
        "colab_type": "code",
        "colab": {}
      },
      "source": [
        "# Set up\n",
        "test_dataset = tf.contrib.data.make_csv_dataset(\n",
        "    test_fp,\n",
        "    batch_size, \n",
        "    column_names=column_names,\n",
        "    label_name='species',\n",
        "    num_epochs=1,\n",
        "    shuffle=False)\n",
        "\n",
        "test_dataset = test_dataset.map(pack_features_vector)"
      ],
      "execution_count": 0,
      "outputs": []
    },
    {
      "cell_type": "code",
      "metadata": {
        "id": "vJOEwSoogwo3",
        "colab_type": "code",
        "colab": {
          "base_uri": "https://localhost:8080/",
          "height": 34
        },
        "outputId": "7ff0d853-e78a-411e-cd8d-f7f0d2181153"
      },
      "source": [
        "# Evaluation\n",
        "test_accuracy = tfe.metrics.Accuracy()\n",
        "\n",
        "for (x, y) in test_dataset:\n",
        "  logits = model(x)\n",
        "  prediction = tf.argmax(logits, axis=1, output_type=tf.int32)\n",
        "  test_accuracy(prediction, y)\n",
        "\n",
        "print(\"Test set accuracy: {:.3%}\".format(test_accuracy.result()))"
      ],
      "execution_count": 47,
      "outputs": [
        {
          "output_type": "stream",
          "text": [
            "Test set accuracy: 96.667%\n"
          ],
          "name": "stdout"
        }
      ]
    },
    {
      "cell_type": "code",
      "metadata": {
        "id": "tgRl4v5Gg0az",
        "colab_type": "code",
        "colab": {
          "base_uri": "https://localhost:8080/",
          "height": 544
        },
        "outputId": "8c4a80bb-24af-4c0b-df90-4093247cd1b2"
      },
      "source": [
        "tf.stack([y,prediction],axis=1)"
      ],
      "execution_count": 48,
      "outputs": [
        {
          "output_type": "execute_result",
          "data": {
            "text/plain": [
              "<tf.Tensor: id=106184, shape=(30, 2), dtype=int32, numpy=\n",
              "array([[1, 1],\n",
              "       [2, 2],\n",
              "       [0, 0],\n",
              "       [1, 1],\n",
              "       [1, 1],\n",
              "       [1, 1],\n",
              "       [0, 0],\n",
              "       [2, 2],\n",
              "       [1, 1],\n",
              "       [2, 2],\n",
              "       [2, 2],\n",
              "       [0, 0],\n",
              "       [2, 2],\n",
              "       [1, 1],\n",
              "       [1, 1],\n",
              "       [0, 0],\n",
              "       [1, 1],\n",
              "       [0, 0],\n",
              "       [0, 0],\n",
              "       [2, 2],\n",
              "       [0, 0],\n",
              "       [1, 1],\n",
              "       [2, 2],\n",
              "       [1, 2],\n",
              "       [1, 1],\n",
              "       [1, 1],\n",
              "       [0, 0],\n",
              "       [1, 1],\n",
              "       [2, 2],\n",
              "       [1, 1]], dtype=int32)>"
            ]
          },
          "metadata": {
            "tags": []
          },
          "execution_count": 48
        }
      ]
    },
    {
      "cell_type": "code",
      "metadata": {
        "id": "JJr5GBqBhPg9",
        "colab_type": "code",
        "colab": {
          "base_uri": "https://localhost:8080/",
          "height": 85
        },
        "outputId": "698579ad-1a3f-41b0-bd3b-df5694d4a26b"
      },
      "source": [
        "# confusion matrix\n",
        "conf_mat = tf.math.confusion_matrix(y,prediction)\n",
        "print(conf_mat)"
      ],
      "execution_count": 53,
      "outputs": [
        {
          "output_type": "stream",
          "text": [
            "tf.Tensor(\n",
            "[[ 8  0  0]\n",
            " [ 0 13  1]\n",
            " [ 0  0  8]], shape=(3, 3), dtype=int32)\n"
          ],
          "name": "stdout"
        }
      ]
    },
    {
      "cell_type": "markdown",
      "metadata": {
        "id": "GLliSixVg5vC",
        "colab_type": "text"
      },
      "source": [
        "### Prediction using Model"
      ]
    },
    {
      "cell_type": "code",
      "metadata": {
        "id": "-FgFgR2nhDtr",
        "colab_type": "code",
        "colab": {
          "base_uri": "https://localhost:8080/",
          "height": 68
        },
        "outputId": "11c04475-7eea-4caf-bc05-6c1849243f86"
      },
      "source": [
        "predict_dataset = tf.convert_to_tensor([\n",
        "    [5.1, 3.3, 1.7, 0.5,],\n",
        "    [5.9, 3.0, 4.2, 1.5,],\n",
        "    [6.9, 3.1, 5.4, 2.1]\n",
        "])\n",
        "\n",
        "predictions = model(predict_dataset)\n",
        "\n",
        "for i, logits in enumerate(predictions):\n",
        "  class_idx = tf.argmax(logits).numpy()\n",
        "  p = tf.nn.softmax(logits)[class_idx]\n",
        "  name = class_names[class_idx]\n",
        "  print(\"Example {} prediction: {} ({:4.1f}%)\".format(i, name, 100*p))"
      ],
      "execution_count": 49,
      "outputs": [
        {
          "output_type": "stream",
          "text": [
            "Example 0 prediction: Iris setosa (97.7%)\n",
            "Example 1 prediction: Iris versicolor (91.4%)\n",
            "Example 2 prediction: Iris virginica (77.4%)\n"
          ],
          "name": "stdout"
        }
      ]
    },
    {
      "cell_type": "code",
      "metadata": {
        "id": "QXPYBmcZhGAt",
        "colab_type": "code",
        "colab": {}
      },
      "source": [
        ""
      ],
      "execution_count": 0,
      "outputs": []
    }
  ]
}