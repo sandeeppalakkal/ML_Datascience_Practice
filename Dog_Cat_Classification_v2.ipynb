{
  "nbformat": 4,
  "nbformat_minor": 0,
  "metadata": {
    "colab": {
      "name": "Dog_Cat_Classification_v2.ipynb",
      "version": "0.3.2",
      "provenance": [],
      "collapsed_sections": [],
      "include_colab_link": true
    },
    "kernelspec": {
      "name": "python3",
      "display_name": "Python 3"
    },
    "accelerator": "GPU"
  },
  "cells": [
    {
      "cell_type": "markdown",
      "metadata": {
        "id": "view-in-github",
        "colab_type": "text"
      },
      "source": [
        "<a href=\"https://colab.research.google.com/github/sandeeppalakkal/ML_Datascience_Practice/blob/master/Dog_Cat_Classification_v2.ipynb\" target=\"_parent\"><img src=\"https://colab.research.google.com/assets/colab-badge.svg\" alt=\"Open In Colab\"/></a>"
      ]
    },
    {
      "cell_type": "markdown",
      "metadata": {
        "id": "JDy83IcLCUgY",
        "colab_type": "text"
      },
      "source": [
        "## Get & Prepare Data"
      ]
    },
    {
      "cell_type": "code",
      "metadata": {
        "id": "oRFQUZz2iNuZ",
        "colab_type": "code",
        "colab": {}
      },
      "source": [
        "import tensorflow as tf\n",
        "tf.enable_eager_execution\n",
        "import pdb"
      ],
      "execution_count": 0,
      "outputs": []
    },
    {
      "cell_type": "code",
      "metadata": {
        "id": "OktrIQX1Cc35",
        "colab_type": "code",
        "outputId": "d5ae7170-90d4-4792-fdc6-40fd2591db77",
        "colab": {
          "base_uri": "https://localhost:8080/",
          "height": 122
        }
      },
      "source": [
        "# Get data from google drive\n",
        "from google.colab import drive\n",
        "drive.mount('/content/gdrive')"
      ],
      "execution_count": 2,
      "outputs": [
        {
          "output_type": "stream",
          "text": [
            "Go to this URL in a browser: https://accounts.google.com/o/oauth2/auth?client_id=947318989803-6bn6qk8qdgf4n4g3pfee6491hc0brc4i.apps.googleusercontent.com&redirect_uri=urn%3Aietf%3Awg%3Aoauth%3A2.0%3Aoob&scope=email%20https%3A%2F%2Fwww.googleapis.com%2Fauth%2Fdocs.test%20https%3A%2F%2Fwww.googleapis.com%2Fauth%2Fdrive%20https%3A%2F%2Fwww.googleapis.com%2Fauth%2Fdrive.photos.readonly%20https%3A%2F%2Fwww.googleapis.com%2Fauth%2Fpeopleapi.readonly&response_type=code\n",
            "\n",
            "Enter your authorization code:\n",
            "··········\n",
            "Mounted at /content/gdrive\n"
          ],
          "name": "stdout"
        }
      ]
    },
    {
      "cell_type": "code",
      "metadata": {
        "id": "N1SUK10CeYUz",
        "colab_type": "code",
        "colab": {}
      },
      "source": [
        "# data paths\n",
        "train_data_path = '/content/gdrive/My Drive/Datasets/DogCat/train'\n",
        "test_data_path = '/content/gdrive/My Drive/Datasets/DogCat/test1'"
      ],
      "execution_count": 0,
      "outputs": []
    },
    {
      "cell_type": "code",
      "metadata": {
        "id": "0w1k0daxM9of",
        "colab_type": "code",
        "outputId": "2cc6edae-e818-4724-b26b-f1ad507a656d",
        "colab": {
          "base_uri": "https://localhost:8080/",
          "height": 51
        }
      },
      "source": [
        " # Get data size\n",
        "import glob\n",
        "train_data_imgs = sorted(glob.glob(train_data_path+'/*.jpg'))\n",
        "test_data_imgs = sorted(glob.glob(test_data_path+'/*.jpg'))\n",
        "train_data_size = len(train_data_imgs)\n",
        "test_data_size = len(test_data_imgs)\n",
        "print('Training data size = %d' % train_data_size)\n",
        "print('Test data size = %d' % test_data_size)"
      ],
      "execution_count": 4,
      "outputs": [
        {
          "output_type": "stream",
          "text": [
            "Training data size = 0\n",
            "Test data size = 0\n"
          ],
          "name": "stdout"
        }
      ]
    },
    {
      "cell_type": "code",
      "metadata": {
        "id": "nmHPM1YozQAZ",
        "colab_type": "code",
        "colab": {}
      },
      "source": [
        "# Annotation\n",
        "import os\n",
        "train_data_imgs = list(map(os.path.basename,train_data_imgs))\n",
        "train_data_annot = list(map(lambda x: int(x[:3] != 'cat'),train_data_imgs))\n",
        "data_dict = dict(zip(train_data_imgs,train_data_annot))"
      ],
      "execution_count": 0,
      "outputs": []
    },
    {
      "cell_type": "code",
      "metadata": {
        "id": "vKUrpIGZ39fP",
        "colab_type": "code",
        "colab": {}
      },
      "source": [
        "#data_dict.items()"
      ],
      "execution_count": 0,
      "outputs": []
    },
    {
      "cell_type": "markdown",
      "metadata": {
        "id": "QwKBQvYIw7Cr",
        "colab_type": "text"
      },
      "source": [
        "### Train-Validation Data Split"
      ]
    },
    {
      "cell_type": "code",
      "metadata": {
        "id": "ICoZk0gQxCC8",
        "colab_type": "code",
        "colab": {}
      },
      "source": [
        "from sklearn.model_selection import train_test_split"
      ],
      "execution_count": 0,
      "outputs": []
    },
    {
      "cell_type": "code",
      "metadata": {
        "id": "IyUO6nCNxuiH",
        "colab_type": "code",
        "colab": {}
      },
      "source": [
        "train_x,test_x,train_y,test_y = train_test_split(list(data_dict.keys()),list(data_dict.values()),train_size = 0.6,random_state=33)\n",
        "test_x,val_x,test_y,val_y = train_test_split(test_x,test_y,train_size = 0.5,random_state=65)"
      ],
      "execution_count": 0,
      "outputs": []
    },
    {
      "cell_type": "code",
      "metadata": {
        "id": "dd8vYNwf71nG",
        "colab_type": "code",
        "outputId": "06a1c4a7-b0c7-4886-aef3-5919e6e3de67",
        "colab": {
          "base_uri": "https://localhost:8080/",
          "height": 34
        }
      },
      "source": [
        "print(len(data_dict.keys()))\n",
        "#print(len(train_y),len(val_y),len(test_y))"
      ],
      "execution_count": 0,
      "outputs": [
        {
          "output_type": "stream",
          "text": [
            "25000\n"
          ],
          "name": "stdout"
        }
      ]
    },
    {
      "cell_type": "code",
      "metadata": {
        "id": "UX9bNbLx88Zc",
        "colab_type": "code",
        "colab": {}
      },
      "source": [
        "import json"
      ],
      "execution_count": 0,
      "outputs": []
    },
    {
      "cell_type": "code",
      "metadata": {
        "id": "2tKfZ-n8VPiV",
        "colab_type": "code",
        "colab": {}
      },
      "source": [
        "# data details\n",
        "data_path = '/content/gdrive/My Drive/Datasets/DogCat/train'\n",
        "train_json = '/content/gdrive/My Drive/Datasets/DogCat/train.json'\n",
        "val_json = '/content/gdrive/My Drive/Datasets/DogCat/validation.json'\n",
        "test_json = '/content/gdrive/My Drive/Datasets/DogCat/test.json'"
      ],
      "execution_count": 0,
      "outputs": []
    },
    {
      "cell_type": "code",
      "metadata": {
        "id": "R_jemaZRUoGJ",
        "colab_type": "code",
        "colab": {}
      },
      "source": [
        "def json_write(data,json_file):\n",
        "  json.dump(data,open(json_file,'w'))"
      ],
      "execution_count": 0,
      "outputs": []
    },
    {
      "cell_type": "code",
      "metadata": {
        "id": "mjwQ-EKcUzkp",
        "colab_type": "code",
        "colab": {}
      },
      "source": [
        "json_write(dict(zip(train_x,train_y)),train_json)\n",
        "json_write(dict(zip(val_x,val_y)),val_json)\n",
        "json_write(dict(zip(test_x,test_y)),test_json)"
      ],
      "execution_count": 0,
      "outputs": []
    },
    {
      "cell_type": "markdown",
      "metadata": {
        "id": "pvXNq88oOPLT",
        "colab_type": "text"
      },
      "source": [
        "## Image Preprocessing Functions"
      ]
    },
    {
      "cell_type": "code",
      "metadata": {
        "id": "hd6AC7hnLt8g",
        "colab_type": "code",
        "colab": {}
      },
      "source": [
        "# Image preprocessing\n",
        "def preprocess_image(image,size=(224,224)):\n",
        "  image = tf.image.decode_jpeg(image,channels=3)\n",
        "  image = tf.image.resize_images(image,list(size))\n",
        "  image /= 255.0\n",
        "  return image"
      ],
      "execution_count": 0,
      "outputs": []
    },
    {
      "cell_type": "code",
      "metadata": {
        "id": "5Qk-gF1sMZ2y",
        "colab_type": "code",
        "colab": {}
      },
      "source": [
        "# load & preprocess\n",
        "def load_and_preprocess_image(path):\n",
        "  image = tf.read_file(path)\n",
        "  image = preprocess_image(image)\n",
        "  return image"
      ],
      "execution_count": 0,
      "outputs": []
    },
    {
      "cell_type": "markdown",
      "metadata": {
        "id": "FHvv0uA9MvVT",
        "colab_type": "text"
      },
      "source": [
        "## TF Dataset"
      ]
    },
    {
      "cell_type": "code",
      "metadata": {
        "id": "BuAt2oytNJXd",
        "colab_type": "code",
        "colab": {}
      },
      "source": [
        "# create tf dataset\n",
        "def create_tf_image_dataset(img_paths,img_labels):  \n",
        "  # load & preprocess image & label\n",
        "  def _load_and_preprocess_from_path_label(path,label):\n",
        "    return load_and_preprocess_image(path), label\n",
        "  \n",
        "  ds = tf.data.Dataset.from_tensor_slices((img_paths,img_labels))\n",
        "  ds = ds.map(_load_and_preprocess_from_path_label)\n",
        "  return ds"
      ],
      "execution_count": 0,
      "outputs": []
    },
    {
      "cell_type": "markdown",
      "metadata": {
        "id": "xl0Vd1B4NvMb",
        "colab_type": "text"
      },
      "source": [
        "## Model Training"
      ]
    },
    {
      "cell_type": "markdown",
      "metadata": {
        "id": "mNKHmGVZS2Bw",
        "colab_type": "text"
      },
      "source": [
        "### TF Data Input Pipeline"
      ]
    },
    {
      "cell_type": "code",
      "metadata": {
        "id": "e41gWO4lUQ_d",
        "colab_type": "code",
        "colab": {}
      },
      "source": [
        "# get data annotations\n",
        "def json_load(json_file):\n",
        "  return json.load(open(json_file,'r'))\n",
        "\n",
        "#val_list = json_load(val_json)\n",
        "train_list,val_list,test_list = map(json_load,[train_json,val_json,test_json])"
      ],
      "execution_count": 0,
      "outputs": []
    },
    {
      "cell_type": "code",
      "metadata": {
        "id": "-XTU-1Ykd_-q",
        "colab_type": "code",
        "colab": {}
      },
      "source": [
        "import os"
      ],
      "execution_count": 0,
      "outputs": []
    },
    {
      "cell_type": "code",
      "metadata": {
        "id": "AZySxs5ySxGq",
        "colab_type": "code",
        "colab": {}
      },
      "source": [
        "def join_path(path,file):\n",
        "  return os.path.join(path,file)\n",
        "\n",
        "train_list = {join_path(data_path,k):v for k,v in train_list.items()}\n",
        "val_list = {join_path(data_path,k):v for k,v in val_list.items()}\n",
        "test_list = {join_path(data_path,k):v for k,v in test_list.items()}"
      ],
      "execution_count": 0,
      "outputs": []
    },
    {
      "cell_type": "code",
      "metadata": {
        "id": "U8mgbxZmuvnI",
        "colab_type": "code",
        "colab": {}
      },
      "source": [
        "import itertools"
      ],
      "execution_count": 0,
      "outputs": []
    },
    {
      "cell_type": "code",
      "metadata": {
        "id": "Yf1p7Q14uysm",
        "colab_type": "code",
        "colab": {}
      },
      "source": [
        "train_list = dict(itertools.islice(train_list.items(),1000))\n",
        "val_list = dict(itertools.islice(val_list.items(),500))\n",
        "test_list = dict(itertools.islice(test_list.items(),500))"
      ],
      "execution_count": 0,
      "outputs": []
    },
    {
      "cell_type": "code",
      "metadata": {
        "id": "K1XD_9SXdFem",
        "colab_type": "code",
        "outputId": "77e0d5d5-7ca7-49f9-f24f-eed2e1e7a17a",
        "colab": {
          "base_uri": "https://localhost:8080/",
          "height": 34
        }
      },
      "source": [
        "print(len(train_list),len(val_list),len(test_list))"
      ],
      "execution_count": 17,
      "outputs": [
        {
          "output_type": "stream",
          "text": [
            "1000 500 500\n"
          ],
          "name": "stdout"
        }
      ]
    },
    {
      "cell_type": "code",
      "metadata": {
        "id": "V1-v6-f-fo1N",
        "colab_type": "code",
        "colab": {}
      },
      "source": [
        "def create_tf_image_dataset_from_dict(data_dict):\n",
        "  return create_tf_image_dataset(list(data_dict.keys()),list(data_dict.values()))\n",
        "\n",
        "train_ds,val_ds,test_ds = map(create_tf_image_dataset_from_dict,[train_list,val_list,test_list])"
      ],
      "execution_count": 0,
      "outputs": []
    },
    {
      "cell_type": "code",
      "metadata": {
        "id": "OLJKeJKZeI3e",
        "colab_type": "code",
        "colab": {
          "base_uri": "https://localhost:8080/",
          "height": 34
        },
        "outputId": "dbbb51f1-c4b0-4cbe-9efc-cc182f604986"
      },
      "source": [
        "type(train_ds)"
      ],
      "execution_count": 19,
      "outputs": [
        {
          "output_type": "execute_result",
          "data": {
            "text/plain": [
              "tensorflow.python.data.ops.dataset_ops.DatasetV1Adapter"
            ]
          },
          "metadata": {
            "tags": []
          },
          "execution_count": 19
        }
      ]
    },
    {
      "cell_type": "code",
      "metadata": {
        "id": "br1cM4ZQgisg",
        "colab_type": "code",
        "colab": {}
      },
      "source": [
        "AUTOTUNE = tf.data.experimental.AUTOTUNE\n",
        "def data_pipeline(ds,data_size,batch_size):\n",
        "  ds = train_ds.apply(\n",
        "    tf.data.experimental.shuffle_and_repeat(buffer_size=data_size))\n",
        "  ds = ds.batch(batch_size)\n",
        "  ds = ds.prefetch(buffer_size=AUTOTUNE)\n",
        "  return ds"
      ],
      "execution_count": 0,
      "outputs": []
    },
    {
      "cell_type": "code",
      "metadata": {
        "id": "GSpv6JaZq9FP",
        "colab_type": "code",
        "colab": {}
      },
      "source": [
        "BATCH_SIZE = 32\n",
        "train_ds_ = data_pipeline(train_ds,len(train_list),BATCH_SIZE)\n",
        "val_ds_ = data_pipeline(val_ds,len(val_list),BATCH_SIZE)\n",
        "test_ds_ = data_pipeline(test_ds,len(test_list),BATCH_SIZE)"
      ],
      "execution_count": 0,
      "outputs": []
    },
    {
      "cell_type": "markdown",
      "metadata": {
        "id": "aWoRe4dqriwZ",
        "colab_type": "text"
      },
      "source": [
        "## Training in Keras"
      ]
    },
    {
      "cell_type": "code",
      "metadata": {
        "id": "5hkn5TtfwYG2",
        "colab_type": "code",
        "colab": {}
      },
      "source": [
        "mobile_net = tf.keras.applications.MobileNetV2(input_shape=(224,224,3),include_top=False)\n",
        "mobile_net.trainable = False"
      ],
      "execution_count": 0,
      "outputs": []
    },
    {
      "cell_type": "code",
      "metadata": {
        "id": "qeXSou62U5g-",
        "colab_type": "code",
        "outputId": "838f3c57-b846-471b-cb66-709ad450763a",
        "colab": {
          "base_uri": "https://localhost:8080/",
          "height": 71
        }
      },
      "source": [
        "resnet50 = tf.keras.applications.ResNet50(input_shape=(224,224,3),include_top=False)\n",
        "resnet50.trainable = False"
      ],
      "execution_count": 0,
      "outputs": [
        {
          "output_type": "stream",
          "text": [
            "/usr/local/lib/python3.6/dist-packages/keras_applications/resnet50.py:265: UserWarning: The output shape of `ResNet50(include_top=False)` has been changed since Keras 2.2.0.\n",
            "  warnings.warn('The output shape of `ResNet50(include_top=False)` '\n"
          ],
          "name": "stderr"
        }
      ]
    },
    {
      "cell_type": "code",
      "metadata": {
        "id": "eBJvDH6IxGMY",
        "colab_type": "code",
        "colab": {}
      },
      "source": [
        "def change_range(image,label):\n",
        "  return 2*image-1, label\n",
        "\n",
        "keras_train_ds = train_ds_.map(change_range)\n",
        "keras_val_ds = val_ds_.map(change_range)\n",
        "keras_test_ds = test_ds_.map(change_range)"
      ],
      "execution_count": 0,
      "outputs": []
    },
    {
      "cell_type": "code",
      "metadata": {
        "id": "bZej5LpFxw6p",
        "colab_type": "code",
        "colab": {}
      },
      "source": [
        "image_batch, label_batch = next(iter(keras_train_ds))"
      ],
      "execution_count": 0,
      "outputs": []
    },
    {
      "cell_type": "code",
      "metadata": {
        "id": "0hy-Yom9x8tJ",
        "colab_type": "code",
        "outputId": "de808062-933f-4089-b188-5c0f21db9840",
        "colab": {
          "base_uri": "https://localhost:8080/",
          "height": 34
        }
      },
      "source": [
        "feature_map_batch = mobile_net(image_batch)\n",
        "print(feature_map_batch.shape)"
      ],
      "execution_count": 0,
      "outputs": [
        {
          "output_type": "stream",
          "text": [
            "(?, 7, 7, 1280)\n"
          ],
          "name": "stdout"
        }
      ]
    },
    {
      "cell_type": "code",
      "metadata": {
        "id": "020afGCsx-56",
        "colab_type": "code",
        "colab": {}
      },
      "source": [
        "label_names = ['cat','dog']\n",
        "model = tf.keras.Sequential([\n",
        "  mobile_net,\n",
        "  tf.keras.layers.GlobalAveragePooling2D(),\n",
        "  tf.keras.layers.Dense(len(label_names),\n",
        "                       kernel_regularizer=tf.keras.regularizers.l2(0.0001))])"
      ],
      "execution_count": 0,
      "outputs": []
    },
    {
      "cell_type": "code",
      "metadata": {
        "id": "X6I0e5foyGHY",
        "colab_type": "code",
        "colab": {}
      },
      "source": [
        "model.compile(optimizer=tf.train.AdamOptimizer(learning_rate=0.0001), \n",
        "              loss=tf.keras.losses.sparse_categorical_crossentropy,\n",
        "              metrics=[\"accuracy\"])"
      ],
      "execution_count": 0,
      "outputs": []
    },
    {
      "cell_type": "code",
      "metadata": {
        "id": "seK1qZkmzb-N",
        "colab_type": "code",
        "outputId": "60b1c5f8-1e91-4f66-c4cc-2a24bcde4e4c",
        "colab": {
          "base_uri": "https://localhost:8080/",
          "height": 34
        }
      },
      "source": [
        "len(model.trainable_variables) "
      ],
      "execution_count": 0,
      "outputs": [
        {
          "output_type": "execute_result",
          "data": {
            "text/plain": [
              "2"
            ]
          },
          "metadata": {
            "tags": []
          },
          "execution_count": 50
        }
      ]
    },
    {
      "cell_type": "code",
      "metadata": {
        "id": "Bq58Qo5Hzdq6",
        "colab_type": "code",
        "outputId": "66ba7f45-3e83-4178-9289-8f9bcdc95f11",
        "colab": {
          "base_uri": "https://localhost:8080/",
          "height": 255
        }
      },
      "source": [
        "model.summary()"
      ],
      "execution_count": 0,
      "outputs": [
        {
          "output_type": "stream",
          "text": [
            "Model: \"sequential_1\"\n",
            "_________________________________________________________________\n",
            "Layer (type)                 Output Shape              Param #   \n",
            "=================================================================\n",
            "mobilenetv2_1.00_224 (Model) (None, 7, 7, 1280)        2257984   \n",
            "_________________________________________________________________\n",
            "global_average_pooling2d_1 ( (None, 1280)              0         \n",
            "_________________________________________________________________\n",
            "dense_1 (Dense)              (None, 2)                 2562      \n",
            "=================================================================\n",
            "Total params: 2,260,546\n",
            "Trainable params: 2,562\n",
            "Non-trainable params: 2,257,984\n",
            "_________________________________________________________________\n"
          ],
          "name": "stdout"
        }
      ]
    },
    {
      "cell_type": "code",
      "metadata": {
        "id": "ixSgwvuaze_7",
        "colab_type": "code",
        "outputId": "5e564e64-f720-40c6-9236-f9fa00b79b34",
        "colab": {
          "base_uri": "https://localhost:8080/",
          "height": 357
        }
      },
      "source": [
        "history = model.fit(keras_train_ds, validation_data=keras_train_ds,validation_steps=10,\n",
        "          validation_freq=1, epochs=10, steps_per_epoch=len(train_list)//BATCH_SIZE)"
      ],
      "execution_count": 0,
      "outputs": [
        {
          "output_type": "stream",
          "text": [
            "Epoch 1/10\n",
            "31/31 [==============================] - 19s 613ms/step - loss: 0.6127 - acc: 0.7046 - val_loss: 0.5981 - val_acc: 0.7000\n",
            "Epoch 2/10\n",
            "31/31 [==============================] - 12s 377ms/step - loss: 0.6009 - acc: 0.7127 - val_loss: 0.5163 - val_acc: 0.7281\n",
            "Epoch 3/10\n",
            "31/31 [==============================] - 12s 382ms/step - loss: 0.5850 - acc: 0.7087 - val_loss: 0.6714 - val_acc: 0.7063\n",
            "Epoch 4/10\n",
            "31/31 [==============================] - 12s 401ms/step - loss: 0.6015 - acc: 0.7107 - val_loss: 0.5700 - val_acc: 0.7125\n",
            "Epoch 5/10\n",
            "31/31 [==============================] - 13s 425ms/step - loss: 0.5692 - acc: 0.7127 - val_loss: 0.5420 - val_acc: 0.7312\n",
            "Epoch 6/10\n",
            "31/31 [==============================] - 11s 350ms/step - loss: 0.5763 - acc: 0.7228 - val_loss: 0.5591 - val_acc: 0.7250\n",
            "Epoch 7/10\n",
            "31/31 [==============================] - 11s 345ms/step - loss: 0.5459 - acc: 0.7379 - val_loss: 0.5635 - val_acc: 0.7000\n",
            "Epoch 8/10\n",
            "31/31 [==============================] - 10s 338ms/step - loss: 0.5938 - acc: 0.7389 - val_loss: 0.4017 - val_acc: 0.7594\n",
            "Epoch 9/10\n",
            "31/31 [==============================] - 10s 339ms/step - loss: 0.5471 - acc: 0.7550 - val_loss: 0.5342 - val_acc: 0.7437\n",
            "Epoch 10/10\n",
            "31/31 [==============================] - 10s 334ms/step - loss: 0.5535 - acc: 0.7530 - val_loss: 0.6341 - val_acc: 0.7750\n"
          ],
          "name": "stdout"
        }
      ]
    },
    {
      "cell_type": "code",
      "metadata": {
        "id": "VPNhTQaaBlZS",
        "colab_type": "code",
        "outputId": "301310dc-3306-4eca-de50-2b296f74d6c7",
        "colab": {
          "base_uri": "https://localhost:8080/",
          "height": 590
        }
      },
      "source": [
        "import matplotlib.pyplot as plt\n",
        "# list all data in history\n",
        "print(history.history.keys())\n",
        "# summarize history for accuracy\n",
        "plt.plot(history.history['acc'])\n",
        "plt.plot(history.history['val_acc'])\n",
        "plt.title('model accuracy')\n",
        "plt.ylabel('accuracy')\n",
        "plt.xlabel('epoch')\n",
        "plt.legend(['train', 'val'], loc='upper left')\n",
        "plt.show()\n",
        "# summarize history for loss\n",
        "plt.plot(history.history['loss'])\n",
        "plt.plot(history.history['val_loss'])\n",
        "plt.title('model loss')\n",
        "plt.ylabel('loss')\n",
        "plt.xlabel('epoch')\n",
        "plt.legend(['train', 'val'], loc='upper left')\n",
        "plt.show()"
      ],
      "execution_count": 0,
      "outputs": [
        {
          "output_type": "stream",
          "text": [
            "dict_keys(['loss', 'acc', 'val_loss', 'val_acc'])\n"
          ],
          "name": "stdout"
        },
        {
          "output_type": "display_data",
          "data": {
            "image/png": "[encoded data removed]",
            "text/plain": [
              "<Figure size 432x288 with 1 Axes>"
            ]
          },
          "metadata": {
            "tags": []
          }
        },
        {
          "output_type": "display_data",
          "data": {
            "image/png": "[encoded data removed]",
            "text/plain": [
              "<Figure size 432x288 with 1 Axes>"
            ]
          },
          "metadata": {
            "tags": []
          }
        }
      ]
    },
    {
      "cell_type": "code",
      "metadata": {
        "id": "pzWTM8Jz1I8x",
        "colab_type": "code",
        "outputId": "33eb212c-7d05-431c-9e63-a26a36158dbe",
        "colab": {
          "base_uri": "https://localhost:8080/",
          "height": 34
        }
      },
      "source": [
        "# serialize model to JSON\n",
        "model_path = '/content/gdrive/My Drive/Datasets/DogCat/'\n",
        "model_json = model.to_json()\n",
        "with open(os.path.join(model_path,\"model.json\"), \"w\") as json_file:\n",
        "    json_file.write(model_json)\n",
        "# serialize weights to HDF5\n",
        "model.save_weights(os.path.join(model_path,\"model.h5\"))\n",
        "print(\"Saved model to disk\")"
      ],
      "execution_count": 0,
      "outputs": [
        {
          "output_type": "stream",
          "text": [
            "Saved model to disk\n"
          ],
          "name": "stdout"
        }
      ]
    }
  ]
}