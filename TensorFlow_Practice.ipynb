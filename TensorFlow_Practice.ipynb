{
  "nbformat": 4,
  "nbformat_minor": 0,
  "metadata": {
    "colab": {
      "name": "TensorFlow_Practice.ipynb",
      "version": "0.3.2",
      "provenance": [],
      "collapsed_sections": [],
      "include_colab_link": true
    },
    "kernelspec": {
      "name": "python3",
      "display_name": "Python 3"
    },
    "accelerator": "GPU"
  },
  "cells": [
    {
      "cell_type": "markdown",
      "metadata": {
        "id": "view-in-github",
        "colab_type": "text"
      },
      "source": [
        "<a href=\"https://colab.research.google.com/github/sandeeppalakkal/ML_Datascience_Practice/blob/master/TensorFlow_Practice.ipynb\" target=\"_parent\"><img src=\"https://colab.research.google.com/assets/colab-badge.svg\" alt=\"Open In Colab\"/></a>"
      ]
    },
    {
      "metadata": {
        "id": "MFFV0qYZXt7-",
        "colab_type": "text"
      },
      "cell_type": "markdown",
      "source": [
        "# TensorFlow Practice\n",
        "\n",
        "Reference: Introduction to TensorFlow, Google Cloud, [Coursera](https://www.coursera.org/learn/intro-tensorflow/home/welcome)"
      ]
    },
    {
      "metadata": {
        "id": "vFs8Bq_WiFoe",
        "colab_type": "code",
        "colab": {}
      },
      "cell_type": "code",
      "source": [
        "import tensorflow as tf"
      ],
      "execution_count": 0,
      "outputs": []
    },
    {
      "metadata": {
        "id": "GwxoBcbCiv8Z",
        "colab_type": "text"
      },
      "cell_type": "markdown",
      "source": [
        "### Defining a DAG"
      ]
    },
    {
      "metadata": {
        "id": "rHpdKEeyiOfg",
        "colab_type": "code",
        "outputId": "507d856d-94b7-4c37-80b8-94e5008f0f39",
        "colab": {
          "base_uri": "https://localhost:8080/",
          "height": 34
        }
      },
      "cell_type": "code",
      "source": [
        "a = tf.constant([1,3,4])\n",
        "b = tf.constant([4,3,2])\n",
        "c = tf.add(a,b)\n",
        "print(c)"
      ],
      "execution_count": 14,
      "outputs": [
        {
          "output_type": "stream",
          "text": [
            "Tensor(\"Add_1:0\", shape=(3,), dtype=int32)\n"
          ],
          "name": "stdout"
        }
      ]
    },
    {
      "metadata": {
        "id": "By6h-ZFdjADc",
        "colab_type": "text"
      },
      "cell_type": "markdown",
      "source": [
        "### Running a Session"
      ]
    },
    {
      "metadata": {
        "id": "Lt1yNEgrii6r",
        "colab_type": "code",
        "outputId": "202f895f-2678-4be2-fdad-a5226ae56b35",
        "colab": {
          "base_uri": "https://localhost:8080/",
          "height": 34
        }
      },
      "cell_type": "code",
      "source": [
        "with tf.Session() as sess:\n",
        "  result = sess.run(c)\n",
        "  print(result)"
      ],
      "execution_count": 15,
      "outputs": [
        {
          "output_type": "stream",
          "text": [
            "[5 6 6]\n"
          ],
          "name": "stdout"
        }
      ]
    },
    {
      "metadata": {
        "id": "hvd5-qy9isqE",
        "colab_type": "code",
        "outputId": "f7c1834f-49b4-418d-fee8-e33c6e64e129",
        "colab": {
          "base_uri": "https://localhost:8080/",
          "height": 51
        }
      },
      "cell_type": "code",
      "source": [
        "print(result)\n",
        "print(type(result))"
      ],
      "execution_count": 16,
      "outputs": [
        {
          "output_type": "stream",
          "text": [
            "[5 6 6]\n",
            "<class 'numpy.ndarray'>\n"
          ],
          "name": "stdout"
        }
      ]
    },
    {
      "metadata": {
        "id": "fDA_OCY-Xjmc",
        "colab_type": "text"
      },
      "cell_type": "markdown",
      "source": [
        "### Different Ways of Running a Session & Printing Results"
      ]
    },
    {
      "metadata": {
        "id": "91WrBXTQWkE2",
        "colab_type": "code",
        "colab": {}
      },
      "cell_type": "code",
      "source": [
        "x = tf.constant([3,5,7])\n",
        "y = tf.constant([1,2,3])\n",
        "z1 = tf.add(x,y)\n",
        "z2 = x * y\n",
        "z3 = z2 - z1"
      ],
      "execution_count": 0,
      "outputs": []
    },
    {
      "metadata": {
        "id": "gGGAtoNkW0Cf",
        "colab_type": "code",
        "colab": {
          "base_uri": "https://localhost:8080/",
          "height": 34
        },
        "outputId": "f87daa28-354a-4b56-dc11-cd438a3d70a9"
      },
      "cell_type": "code",
      "source": [
        "print(z2)"
      ],
      "execution_count": 18,
      "outputs": [
        {
          "output_type": "stream",
          "text": [
            "Tensor(\"mul_1:0\", shape=(3,), dtype=int32)\n"
          ],
          "name": "stdout"
        }
      ]
    },
    {
      "metadata": {
        "id": "J8O8I-N7W2M0",
        "colab_type": "code",
        "colab": {
          "base_uri": "https://localhost:8080/",
          "height": 34
        },
        "outputId": "93eed37d-084a-4f73-8131-c9b048c9c657"
      },
      "cell_type": "code",
      "source": [
        "with tf.Session() as sess:\n",
        "  print(sess.run(z3))"
      ],
      "execution_count": 19,
      "outputs": [
        {
          "output_type": "stream",
          "text": [
            "[-1  3 11]\n"
          ],
          "name": "stdout"
        }
      ]
    },
    {
      "metadata": {
        "id": "JtAE8JRQXBZY",
        "colab_type": "code",
        "colab": {
          "base_uri": "https://localhost:8080/",
          "height": 34
        },
        "outputId": "4cd8afc5-c15a-4023-f692-c19865cdfe2a"
      },
      "cell_type": "code",
      "source": [
        "with tf.Session() as sess:\n",
        "  print(z3.eval())"
      ],
      "execution_count": 20,
      "outputs": [
        {
          "output_type": "stream",
          "text": [
            "[-1  3 11]\n"
          ],
          "name": "stdout"
        }
      ]
    },
    {
      "metadata": {
        "id": "QuPtOS5QXFi5",
        "colab_type": "code",
        "colab": {
          "base_uri": "https://localhost:8080/",
          "height": 51
        },
        "outputId": "ba3e1de7-38e0-406b-daee-455099024d97"
      },
      "cell_type": "code",
      "source": [
        "with tf.Session() as sess:\n",
        "  a1,a2 = sess.run([z1,z3])\n",
        "  print(a1)\n",
        "  print(a2)"
      ],
      "execution_count": 21,
      "outputs": [
        {
          "output_type": "stream",
          "text": [
            "[ 4  7 10]\n",
            "[-1  3 11]\n"
          ],
          "name": "stdout"
        }
      ]
    },
    {
      "metadata": {
        "id": "mQDPUGOUeZBz",
        "colab_type": "code",
        "colab": {
          "base_uri": "https://localhost:8080/",
          "height": 34
        },
        "outputId": "ddbb2b88-6b9b-425c-cc82-4a8345dc6d85"
      },
      "cell_type": "code",
      "source": [
        "with tf.Session() as sess:\n",
        "  print(sess.run([z1]))"
      ],
      "execution_count": 22,
      "outputs": [
        {
          "output_type": "stream",
          "text": [
            "[array([ 4,  7, 10], dtype=int32)]\n"
          ],
          "name": "stdout"
        }
      ]
    },
    {
      "metadata": {
        "id": "XfzhmC6SXSJW",
        "colab_type": "text"
      },
      "cell_type": "markdown",
      "source": [
        "### TensorFlow Eager Evaluation (Non-Lazy)"
      ]
    },
    {
      "metadata": {
        "id": "Iv2vu8hjY_RB",
        "colab_type": "code",
        "colab": {}
      },
      "cell_type": "code",
      "source": [
        "# Nead to restart the kernel to make this code working due to TF Eager\n",
        "import tensorflow as tf\n",
        "from tensorflow.contrib.eager.python import tfe"
      ],
      "execution_count": 0,
      "outputs": []
    },
    {
      "metadata": {
        "id": "h1XqGAIlZEgR",
        "colab_type": "code",
        "colab": {
          "base_uri": "https://localhost:8080/",
          "height": 34
        },
        "outputId": "c54a5856-a747-417d-8722-34823e35719a"
      },
      "cell_type": "code",
      "source": [
        "tfe.enable_eager_execution()\n",
        "x = tf.constant([3,5,7])\n",
        "y = tf.constant([1,2,3])\n",
        "x - y #printed due to Eager running"
      ],
      "execution_count": 2,
      "outputs": [
        {
          "output_type": "execute_result",
          "data": {
            "text/plain": [
              "<tf.Tensor: id=2, shape=(3,), dtype=int32, numpy=array([2, 3, 4], dtype=int32)>"
            ]
          },
          "metadata": {
            "tags": []
          },
          "execution_count": 2
        }
      ]
    },
    {
      "metadata": {
        "id": "I3ARPXUZZfrZ",
        "colab_type": "text"
      },
      "cell_type": "markdown",
      "source": [
        "### Visualizing Graph"
      ]
    },
    {
      "metadata": {
        "id": "AqwXooNZbAXx",
        "colab_type": "code",
        "colab": {}
      },
      "cell_type": "code",
      "source": [
        "import tensorflow as tf"
      ],
      "execution_count": 0,
      "outputs": []
    },
    {
      "metadata": {
        "id": "sJjP9jj3au9h",
        "colab_type": "code",
        "colab": {}
      },
      "cell_type": "code",
      "source": [
        "# Add 'name = \"x\"' to label nodes in TensorBoard visualization\n",
        "x = tf.constant([3,5,7],name=\"x\")\n",
        "y = tf.constant([1,2,3],name=\"y\")\n",
        "z1 = tf.add(x,y,name=\"z1\")\n",
        "z2 = x * y\n",
        "z3 = z2 - z1"
      ],
      "execution_count": 0,
      "outputs": []
    },
    {
      "metadata": {
        "id": "N6Rfvd-Ga1zn",
        "colab_type": "code",
        "colab": {}
      },
      "cell_type": "code",
      "source": [
        "with tf.Session() as sess:\n",
        "  # Write the session graph to summary directory\n",
        "  with tf.summary.FileWriter('summaries',sess.graph) as writer:\n",
        "    a1,a2 = sess.run([z1,z3])"
      ],
      "execution_count": 0,
      "outputs": []
    },
    {
      "metadata": {
        "id": "YC80rJlQa6UK",
        "colab_type": "code",
        "colab": {
          "base_uri": "https://localhost:8080/",
          "height": 85
        },
        "outputId": "ec8a4a68-ba96-40cc-bcbe-294ac11ec330"
      },
      "cell_type": "code",
      "source": [
        "!ls summaries"
      ],
      "execution_count": 10,
      "outputs": [
        {
          "output_type": "stream",
          "text": [
            "events.out.tfevents.1551144653.705d8b69932a\n",
            "events.out.tfevents.1551144700.705d8b69932a\n",
            "events.out.tfevents.1551144701.705d8b69932a\n",
            "events.out.tfevents.1551144704.705d8b69932a\n"
          ],
          "name": "stdout"
        }
      ]
    },
    {
      "metadata": {
        "id": "owuiUBhMbTTI",
        "colab_type": "code",
        "colab": {}
      },
      "cell_type": "code",
      "source": [
        "# Need ngrok tunnelling to run TensorBoard from Colab\n",
        "# Ref: https://www.dlology.com/blog/quick-guide-to-run-tensorboard-in-google-colab/\n",
        "from google.datalab.ml import TensorBoard\n",
        "TensorBoard().start('./summaries')"
      ],
      "execution_count": 0,
      "outputs": []
    },
    {
      "metadata": {
        "id": "0mNcB4UHb434",
        "colab_type": "text"
      },
      "cell_type": "markdown",
      "source": [
        "### Tensors in TF\n",
        "\n",
        "A TF graph consists of tensors and operations."
      ]
    },
    {
      "metadata": {
        "id": "Pa05GUvpfTzE",
        "colab_type": "code",
        "colab": {
          "base_uri": "https://localhost:8080/",
          "height": 34
        },
        "outputId": "eaad00c4-0b76-48e8-d2f7-10e8ec462c9d"
      },
      "cell_type": "code",
      "source": [
        "x = tf.constant([[[1,2,3],[4,5,6]]])\n",
        "print(x)"
      ],
      "execution_count": 25,
      "outputs": [
        {
          "output_type": "stream",
          "text": [
            "Tensor(\"Const_6:0\", shape=(1, 2, 3), dtype=int32)\n"
          ],
          "name": "stdout"
        }
      ]
    },
    {
      "metadata": {
        "id": "Fz7NjeNufWF3",
        "colab_type": "code",
        "colab": {
          "base_uri": "https://localhost:8080/",
          "height": 34
        },
        "outputId": "95db0b4c-d9d3-4834-b847-a43fc36e4b83"
      },
      "cell_type": "code",
      "source": [
        "print(x.shape)"
      ],
      "execution_count": 27,
      "outputs": [
        {
          "output_type": "stream",
          "text": [
            "(1, 2, 3)\n"
          ],
          "name": "stdout"
        }
      ]
    },
    {
      "metadata": {
        "id": "D9udSTQphVqg",
        "colab_type": "code",
        "colab": {
          "base_uri": "https://localhost:8080/",
          "height": 136
        },
        "outputId": "cd4d668a-1b57-48be-b203-f338008bd1ef"
      },
      "cell_type": "code",
      "source": [
        "x = tf.constant(10)\n",
        "print(x.shape)\n",
        "x = tf.constant([10])\n",
        "print(x.shape)\n",
        "x = tf.constant([10,10])\n",
        "print(x.shape)\n",
        "x = tf.constant([[10,10],[10,10]])\n",
        "print(x.shape)\n",
        "x = tf.constant([[[10,10,10],[10,10,10]]])\n",
        "print(x.shape)\n",
        "x = tf.constant([[[10,10,10],[10,10,10],[10,10,10]]])\n",
        "print(x.shape)\n",
        "x = tf.constant([[[10,10,10],[10,10,10],[10,10,10]],[[10,10,10],[10,10,10],[10,10,10]]])\n",
        "print(x.shape)"
      ],
      "execution_count": 53,
      "outputs": [
        {
          "output_type": "stream",
          "text": [
            "()\n",
            "(1,)\n",
            "(2,)\n",
            "(2, 2)\n",
            "(1, 2, 3)\n",
            "(1, 3, 3)\n",
            "(2, 3, 3)\n"
          ],
          "name": "stdout"
        }
      ]
    },
    {
      "metadata": {
        "id": "Viw3HGYOi7-s",
        "colab_type": "code",
        "colab": {
          "base_uri": "https://localhost:8080/",
          "height": 102
        },
        "outputId": "0bb8c0cd-91e6-4c7f-c0bd-12d02146cb54"
      },
      "cell_type": "code",
      "source": [
        "x = tf.constant(10)\n",
        "print(x.shape)\n",
        "x = tf.stack([x,x])\n",
        "print(x.shape)\n",
        "x = tf.stack([x,x,x])\n",
        "print(x.shape)\n",
        "x = tf.stack([x,x,x,x])\n",
        "print(x.shape)\n",
        "x = tf.stack([x,x])\n",
        "print(x.shape)"
      ],
      "execution_count": 55,
      "outputs": [
        {
          "output_type": "stream",
          "text": [
            "()\n",
            "(2,)\n",
            "(3, 2)\n",
            "(4, 3, 2)\n",
            "(2, 4, 3, 2)\n"
          ],
          "name": "stdout"
        }
      ]
    },
    {
      "metadata": {
        "id": "rmzHcKyiixsg",
        "colab_type": "code",
        "colab": {
          "base_uri": "https://localhost:8080/",
          "height": 34
        },
        "outputId": "3455e263-cdab-4e63-a5a2-57e148efcc83"
      },
      "cell_type": "code",
      "source": [
        "x = tf.constant([10,10])\n",
        "print(x.shape)"
      ],
      "execution_count": 56,
      "outputs": [
        {
          "output_type": "stream",
          "text": [
            "(2,)\n"
          ],
          "name": "stdout"
        }
      ]
    },
    {
      "metadata": {
        "id": "f3dKM3Z8mkBp",
        "colab_type": "text"
      },
      "cell_type": "markdown",
      "source": [
        "### Slicing of a Tensor"
      ]
    },
    {
      "metadata": {
        "id": "cpqhjbskkl79",
        "colab_type": "code",
        "colab": {
          "base_uri": "https://localhost:8080/",
          "height": 85
        },
        "outputId": "1c1605f3-e294-4d47-f7dc-83e7ea704a29"
      },
      "cell_type": "code",
      "source": [
        "x = tf.constant([[3,5,7],[4,6,8]])\n",
        "y = x[:,1]\n",
        "z = x[1,:]\n",
        "with tf.Session() as sess:\n",
        "  a1,a2,a3 = sess.run([x,y,z])\n",
        "  print(\"x = \", a1)\n",
        "  print(\"y = \",a2)\n",
        "  print(\"z = \",a3)"
      ],
      "execution_count": 61,
      "outputs": [
        {
          "output_type": "stream",
          "text": [
            "x =  [[3 5 7]\n",
            " [4 6 8]]\n",
            "y =  [5 6]\n",
            "z =  [4 6 8]\n"
          ],
          "name": "stdout"
        }
      ]
    },
    {
      "metadata": {
        "id": "JGhql8MOmpyk",
        "colab_type": "text"
      },
      "cell_type": "markdown",
      "source": [
        "### Reshaping a Tensor"
      ]
    },
    {
      "metadata": {
        "id": "YRg_eJw6ms5L",
        "colab_type": "code",
        "colab": {
          "base_uri": "https://localhost:8080/",
          "height": 34
        },
        "outputId": "1dd7872b-bc04-453a-a3a6-3e39f83b2782"
      },
      "cell_type": "code",
      "source": [
        "x = tf.constant([[3,5,7],[4,6,8]])\n",
        "y = tf.reshape(x,[3,2])\n",
        "z = tf.reshape(x,[3,2])[2,:]\n",
        "print(x.shape,y.shape)"
      ],
      "execution_count": 70,
      "outputs": [
        {
          "output_type": "stream",
          "text": [
            "(2, 3) (3, 2)\n"
          ],
          "name": "stdout"
        }
      ]
    },
    {
      "metadata": {
        "id": "wkybn-Nrm9s2",
        "colab_type": "code",
        "colab": {
          "base_uri": "https://localhost:8080/",
          "height": 119
        },
        "outputId": "10359c00-86e9-47c5-d198-9c567ac0bb62"
      },
      "cell_type": "code",
      "source": [
        "with tf.Session() as sess:\n",
        "  print('x = ', x.eval())\n",
        "  print('y = ', y.eval())\n",
        "  print('z = ', z.eval())"
      ],
      "execution_count": 71,
      "outputs": [
        {
          "output_type": "stream",
          "text": [
            "x =  [[3 5 7]\n",
            " [4 6 8]]\n",
            "y =  [[3 5]\n",
            " [7 4]\n",
            " [6 8]]\n",
            "z =  [6 8]\n"
          ],
          "name": "stdout"
        }
      ]
    },
    {
      "metadata": {
        "id": "EQwKkd1XoooQ",
        "colab_type": "text"
      },
      "cell_type": "markdown",
      "source": [
        "### Variables"
      ]
    },
    {
      "metadata": {
        "id": "aMuUn7ENor5a",
        "colab_type": "code",
        "colab": {}
      },
      "cell_type": "code",
      "source": [
        "def forward_pass(w,x):\n",
        "  return tf.matmul(w,x)\n",
        "\n",
        "def train_loop(x,n_iter=3):\n",
        "  # Defien scope for w and tell TF to reuse the w from previous definition\n",
        "  with tf.variable_scope(\"model\",reuse=tf.AUTO_REUSE):\n",
        "    # Define the variable, w\n",
        "    w = tf.get_variable(\"weights\",\n",
        "                       shape=(1,2), #shape 1x2\n",
        "                       initializer=tf.truncated_normal_initializer(), #init\n",
        "                       trainable=True) #trainable or not\n",
        "    preds = []\n",
        "    for k in range(n_iter):\n",
        "      preds.append(forward_pass(w,x))\n",
        "      w = w + 0.1\n",
        "    return preds"
      ],
      "execution_count": 0,
      "outputs": []
    },
    {
      "metadata": {
        "id": "pdZG6r4npYlG",
        "colab_type": "code",
        "colab": {
          "base_uri": "https://localhost:8080/",
          "height": 68
        },
        "outputId": "0267b07d-4438-484c-c71d-3812f5b1159b"
      },
      "cell_type": "code",
      "source": [
        "with tf.Session() as sess:\n",
        "  #preds = train_loop(tf.constant([[3.2,5.1,7.2],[4.3,6.2,8.3]])) #2x3 matrix\n",
        "  preds = train_loop(tf.constant([[1.,1.,1.,2.],[1.,1.,1.,2.]])) #2x4 matrix\n",
        "  # initialization of all the variables together\n",
        "  tf.global_variables_initializer().run()\n",
        "  for i in range(len(preds)):\n",
        "    print(\"{}:{}\".format(i,preds[i].eval()))"
      ],
      "execution_count": 89,
      "outputs": [
        {
          "output_type": "stream",
          "text": [
            "0:[[-2.6512108 -2.6512108 -2.6512108 -5.3024216]]\n",
            "1:[[-2.4512105 -2.4512105 -2.4512105 -4.902421 ]]\n",
            "2:[[-2.2512107 -2.2512107 -2.2512107 -4.5024214]]\n"
          ],
          "name": "stdout"
        }
      ]
    },
    {
      "metadata": {
        "id": "FhchHWg4su5f",
        "colab_type": "text"
      },
      "cell_type": "markdown",
      "source": [
        "### Placeholders\n",
        "\n",
        "Allow you to feed in values, such as by reading from a text file."
      ]
    },
    {
      "metadata": {
        "id": "76TIe2zJsuCe",
        "colab_type": "code",
        "colab": {
          "base_uri": "https://localhost:8080/",
          "height": 51
        },
        "outputId": "2f6b9ea7-4535-48d0-b082-8b0b7002c8eb"
      },
      "cell_type": "code",
      "source": [
        "a = tf.placeholder(\"float\",None)\n",
        "b = a * 4\n",
        "print(a)\n",
        "with tf.Session() as sess:\n",
        "  print(sess.run(b,feed_dict={a:[1,2,4]}))"
      ],
      "execution_count": 90,
      "outputs": [
        {
          "output_type": "stream",
          "text": [
            "Tensor(\"Placeholder:0\", dtype=float32)\n",
            "[ 4.  8. 16.]\n"
          ],
          "name": "stdout"
        }
      ]
    },
    {
      "metadata": {
        "id": "bflfzjVZqPEh",
        "colab_type": "code",
        "colab": {}
      },
      "cell_type": "code",
      "source": [
        ""
      ],
      "execution_count": 0,
      "outputs": []
    }
  ]
}