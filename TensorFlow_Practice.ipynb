{
  "nbformat": 4,
  "nbformat_minor": 0,
  "metadata": {
    "colab": {
      "name": "TensorFlow_Practice.ipynb",
      "version": "0.3.2",
      "provenance": [],
      "collapsed_sections": [],
      "include_colab_link": true
    },
    "kernelspec": {
      "name": "python3",
      "display_name": "Python 3"
    },
    "accelerator": "GPU"
  },
  "cells": [
    {
      "cell_type": "markdown",
      "metadata": {
        "id": "view-in-github",
        "colab_type": "text"
      },
      "source": [
        "<a href=\"https://colab.research.google.com/github/sandeeppalakkal/ML_Datascience_Practice/blob/master/TensorFlow_Practice.ipynb\" target=\"_parent\"><img src=\"https://colab.research.google.com/assets/colab-badge.svg\" alt=\"Open In Colab\"/></a>"
      ]
    },
    {
      "metadata": {
        "id": "MFFV0qYZXt7-",
        "colab_type": "text"
      },
      "cell_type": "markdown",
      "source": [
        "# TensorFlow Practice\n",
        "\n",
        "Reference: Introduction to TensorFlow, Google Cloud, [Coursera](https://www.coursera.org/learn/intro-tensorflow/home/welcome)"
      ]
    },
    {
      "metadata": {
        "id": "vFs8Bq_WiFoe",
        "colab_type": "code",
        "colab": {}
      },
      "cell_type": "code",
      "source": [
        "import tensorflow as tf"
      ],
      "execution_count": 0,
      "outputs": []
    },
    {
      "metadata": {
        "id": "GwxoBcbCiv8Z",
        "colab_type": "text"
      },
      "cell_type": "markdown",
      "source": [
        "### Defining a DAG"
      ]
    },
    {
      "metadata": {
        "id": "rHpdKEeyiOfg",
        "colab_type": "code",
        "outputId": "630c9911-4e91-40fa-e127-f4c6e12db08c",
        "colab": {
          "base_uri": "https://localhost:8080/",
          "height": 34
        }
      },
      "cell_type": "code",
      "source": [
        "a = tf.constant([1,3,4])\n",
        "b = tf.constant([4,3,2])\n",
        "c = tf.add(a,b)\n",
        "print(c)"
      ],
      "execution_count": 2,
      "outputs": [
        {
          "output_type": "stream",
          "text": [
            "Tensor(\"Add:0\", shape=(3,), dtype=int32)\n"
          ],
          "name": "stdout"
        }
      ]
    },
    {
      "metadata": {
        "id": "By6h-ZFdjADc",
        "colab_type": "text"
      },
      "cell_type": "markdown",
      "source": [
        "### Running a Session"
      ]
    },
    {
      "metadata": {
        "id": "Lt1yNEgrii6r",
        "colab_type": "code",
        "outputId": "cd7a53b2-425b-4f3b-a06e-340e58e0f66d",
        "colab": {
          "base_uri": "https://localhost:8080/",
          "height": 34
        }
      },
      "cell_type": "code",
      "source": [
        "with tf.Session() as sess:\n",
        "  result = sess.run(c)\n",
        "  print(result)"
      ],
      "execution_count": 3,
      "outputs": [
        {
          "output_type": "stream",
          "text": [
            "[5 6 6]\n"
          ],
          "name": "stdout"
        }
      ]
    },
    {
      "metadata": {
        "id": "hvd5-qy9isqE",
        "colab_type": "code",
        "outputId": "545a6ece-e2d8-440c-97e6-5f90e8d52d9f",
        "colab": {
          "base_uri": "https://localhost:8080/",
          "height": 51
        }
      },
      "cell_type": "code",
      "source": [
        "print(result)\n",
        "print(type(result))"
      ],
      "execution_count": 4,
      "outputs": [
        {
          "output_type": "stream",
          "text": [
            "[5 6 6]\n",
            "<class 'numpy.ndarray'>\n"
          ],
          "name": "stdout"
        }
      ]
    },
    {
      "metadata": {
        "id": "fDA_OCY-Xjmc",
        "colab_type": "text"
      },
      "cell_type": "markdown",
      "source": [
        "### Different Ways of Running a Session & Printing Results"
      ]
    },
    {
      "metadata": {
        "id": "91WrBXTQWkE2",
        "colab_type": "code",
        "colab": {}
      },
      "cell_type": "code",
      "source": [
        "x = tf.constant([3,5,7])\n",
        "y = tf.constant([1,2,3])\n",
        "z1 = tf.add(x,y)\n",
        "z2 = x * y\n",
        "z3 = z2 - z1"
      ],
      "execution_count": 0,
      "outputs": []
    },
    {
      "metadata": {
        "id": "gGGAtoNkW0Cf",
        "colab_type": "code",
        "outputId": "296d7b94-27da-45d4-e051-e658ef60241e",
        "colab": {
          "base_uri": "https://localhost:8080/",
          "height": 34
        }
      },
      "cell_type": "code",
      "source": [
        "print(z2)"
      ],
      "execution_count": 6,
      "outputs": [
        {
          "output_type": "stream",
          "text": [
            "Tensor(\"mul:0\", shape=(3,), dtype=int32)\n"
          ],
          "name": "stdout"
        }
      ]
    },
    {
      "metadata": {
        "id": "J8O8I-N7W2M0",
        "colab_type": "code",
        "outputId": "766b211a-dc4a-4649-b142-8862f17ae383",
        "colab": {
          "base_uri": "https://localhost:8080/",
          "height": 34
        }
      },
      "cell_type": "code",
      "source": [
        "with tf.Session() as sess:\n",
        "  print(sess.run(z3))"
      ],
      "execution_count": 7,
      "outputs": [
        {
          "output_type": "stream",
          "text": [
            "[-1  3 11]\n"
          ],
          "name": "stdout"
        }
      ]
    },
    {
      "metadata": {
        "id": "JtAE8JRQXBZY",
        "colab_type": "code",
        "outputId": "682d878f-69ae-4e59-e3e4-71fd27302a85",
        "colab": {
          "base_uri": "https://localhost:8080/",
          "height": 34
        }
      },
      "cell_type": "code",
      "source": [
        "with tf.Session() as sess:\n",
        "  print(z3.eval())"
      ],
      "execution_count": 8,
      "outputs": [
        {
          "output_type": "stream",
          "text": [
            "[-1  3 11]\n"
          ],
          "name": "stdout"
        }
      ]
    },
    {
      "metadata": {
        "id": "QuPtOS5QXFi5",
        "colab_type": "code",
        "outputId": "34ae891e-3789-4892-abac-f1b90e4c4ba8",
        "colab": {
          "base_uri": "https://localhost:8080/",
          "height": 51
        }
      },
      "cell_type": "code",
      "source": [
        "with tf.Session() as sess:\n",
        "  a1,a2 = sess.run([z1,z3])\n",
        "  print(a1)\n",
        "  print(a2)"
      ],
      "execution_count": 9,
      "outputs": [
        {
          "output_type": "stream",
          "text": [
            "[ 4  7 10]\n",
            "[-1  3 11]\n"
          ],
          "name": "stdout"
        }
      ]
    },
    {
      "metadata": {
        "id": "mQDPUGOUeZBz",
        "colab_type": "code",
        "outputId": "308b5914-4cdd-403f-feb6-5b3b09b7dfc4",
        "colab": {
          "base_uri": "https://localhost:8080/",
          "height": 34
        }
      },
      "cell_type": "code",
      "source": [
        "with tf.Session() as sess:\n",
        "  print(sess.run([z1]))"
      ],
      "execution_count": 10,
      "outputs": [
        {
          "output_type": "stream",
          "text": [
            "[array([ 4,  7, 10], dtype=int32)]\n"
          ],
          "name": "stdout"
        }
      ]
    },
    {
      "metadata": {
        "id": "XfzhmC6SXSJW",
        "colab_type": "text"
      },
      "cell_type": "markdown",
      "source": [
        "### TensorFlow Eager Evaluation (Non-Lazy)"
      ]
    },
    {
      "metadata": {
        "id": "Iv2vu8hjY_RB",
        "colab_type": "code",
        "colab": {}
      },
      "cell_type": "code",
      "source": [
        "# Nead to restart the kernel to make this code working due to TF Eager\n",
        "import tensorflow as tf\n",
        "from tensorflow.contrib.eager.python import tfe"
      ],
      "execution_count": 0,
      "outputs": []
    },
    {
      "metadata": {
        "id": "h1XqGAIlZEgR",
        "colab_type": "code",
        "outputId": "6bf6d395-ff9e-4481-eeff-fc8b79454035",
        "colab": {
          "base_uri": "https://localhost:8080/",
          "height": 472
        }
      },
      "cell_type": "code",
      "source": [
        "tfe.enable_eager_execution()\n",
        "x = tf.constant([3,5,7])\n",
        "y = tf.constant([1,2,3])\n",
        "x - y #printed due to Eager running"
      ],
      "execution_count": 12,
      "outputs": [
        {
          "output_type": "error",
          "ename": "ValueError",
          "evalue": "ignored",
          "traceback": [
            "\u001b[0;31m---------------------------------------------------------------------------\u001b[0m",
            "\u001b[0;31mValueError\u001b[0m                                Traceback (most recent call last)",
            "\u001b[0;32m<ipython-input-12-fc08e8083fb1>\u001b[0m in \u001b[0;36m<module>\u001b[0;34m()\u001b[0m\n\u001b[0;32m----> 1\u001b[0;31m \u001b[0mtfe\u001b[0m\u001b[0;34m.\u001b[0m\u001b[0menable_eager_execution\u001b[0m\u001b[0;34m(\u001b[0m\u001b[0;34m)\u001b[0m\u001b[0;34m\u001b[0m\u001b[0;34m\u001b[0m\u001b[0m\n\u001b[0m\u001b[1;32m      2\u001b[0m \u001b[0mx\u001b[0m \u001b[0;34m=\u001b[0m \u001b[0mtf\u001b[0m\u001b[0;34m.\u001b[0m\u001b[0mconstant\u001b[0m\u001b[0;34m(\u001b[0m\u001b[0;34m[\u001b[0m\u001b[0;36m3\u001b[0m\u001b[0;34m,\u001b[0m\u001b[0;36m5\u001b[0m\u001b[0;34m,\u001b[0m\u001b[0;36m7\u001b[0m\u001b[0;34m]\u001b[0m\u001b[0;34m)\u001b[0m\u001b[0;34m\u001b[0m\u001b[0;34m\u001b[0m\u001b[0m\n\u001b[1;32m      3\u001b[0m \u001b[0my\u001b[0m \u001b[0;34m=\u001b[0m \u001b[0mtf\u001b[0m\u001b[0;34m.\u001b[0m\u001b[0mconstant\u001b[0m\u001b[0;34m(\u001b[0m\u001b[0;34m[\u001b[0m\u001b[0;36m1\u001b[0m\u001b[0;34m,\u001b[0m\u001b[0;36m2\u001b[0m\u001b[0;34m,\u001b[0m\u001b[0;36m3\u001b[0m\u001b[0;34m]\u001b[0m\u001b[0;34m)\u001b[0m\u001b[0;34m\u001b[0m\u001b[0;34m\u001b[0m\u001b[0m\n\u001b[1;32m      4\u001b[0m \u001b[0mx\u001b[0m \u001b[0;34m-\u001b[0m \u001b[0my\u001b[0m \u001b[0;31m#printed due to Eager running\u001b[0m\u001b[0;34m\u001b[0m\u001b[0;34m\u001b[0m\u001b[0m\n",
            "\u001b[0;32m/usr/local/lib/python3.6/dist-packages/tensorflow/python/framework/ops.py\u001b[0m in \u001b[0;36menable_eager_execution\u001b[0;34m(config, device_policy, execution_mode)\u001b[0m\n\u001b[1;32m   5459\u001b[0m         \u001b[0mdevice_policy\u001b[0m\u001b[0;34m=\u001b[0m\u001b[0mdevice_policy\u001b[0m\u001b[0;34m,\u001b[0m\u001b[0;34m\u001b[0m\u001b[0;34m\u001b[0m\u001b[0m\n\u001b[1;32m   5460\u001b[0m         \u001b[0mexecution_mode\u001b[0m\u001b[0;34m=\u001b[0m\u001b[0mexecution_mode\u001b[0m\u001b[0;34m,\u001b[0m\u001b[0;34m\u001b[0m\u001b[0;34m\u001b[0m\u001b[0m\n\u001b[0;32m-> 5461\u001b[0;31m         server_def=None)\n\u001b[0m\u001b[1;32m   5462\u001b[0m \u001b[0;34m\u001b[0m\u001b[0m\n\u001b[1;32m   5463\u001b[0m \u001b[0;34m\u001b[0m\u001b[0m\n",
            "\u001b[0;32m/usr/local/lib/python3.6/dist-packages/tensorflow/python/framework/ops.py\u001b[0m in \u001b[0;36menable_eager_execution_internal\u001b[0;34m(config, device_policy, execution_mode, server_def)\u001b[0m\n\u001b[1;32m   5514\u001b[0m     \u001b[0;32mif\u001b[0m \u001b[0mgraph_mode_has_been_used\u001b[0m\u001b[0;34m:\u001b[0m\u001b[0;34m\u001b[0m\u001b[0;34m\u001b[0m\u001b[0m\n\u001b[1;32m   5515\u001b[0m       raise ValueError(\n\u001b[0;32m-> 5516\u001b[0;31m           \"tf.enable_eager_execution must be called at program startup.\")\n\u001b[0m\u001b[1;32m   5517\u001b[0m   \u001b[0mcontext\u001b[0m\u001b[0;34m.\u001b[0m\u001b[0mdefault_execution_mode\u001b[0m \u001b[0;34m=\u001b[0m \u001b[0mcontext\u001b[0m\u001b[0;34m.\u001b[0m\u001b[0mEAGER_MODE\u001b[0m\u001b[0;34m\u001b[0m\u001b[0;34m\u001b[0m\u001b[0m\n\u001b[1;32m   5518\u001b[0m   \u001b[0;31m# pylint: disable=protected-access\u001b[0m\u001b[0;34m\u001b[0m\u001b[0;34m\u001b[0m\u001b[0;34m\u001b[0m\u001b[0m\n",
            "\u001b[0;31mValueError\u001b[0m: tf.enable_eager_execution must be called at program startup."
          ]
        }
      ]
    },
    {
      "metadata": {
        "id": "I3ARPXUZZfrZ",
        "colab_type": "text"
      },
      "cell_type": "markdown",
      "source": [
        "### Visualizing Graph"
      ]
    },
    {
      "metadata": {
        "id": "AqwXooNZbAXx",
        "colab_type": "code",
        "colab": {}
      },
      "cell_type": "code",
      "source": [
        "import tensorflow as tf"
      ],
      "execution_count": 0,
      "outputs": []
    },
    {
      "metadata": {
        "id": "sJjP9jj3au9h",
        "colab_type": "code",
        "colab": {}
      },
      "cell_type": "code",
      "source": [
        "# Add 'name = \"x\"' to label nodes in TensorBoard visualization\n",
        "x = tf.constant([3,5,7],name=\"x\")\n",
        "y = tf.constant([1,2,3],name=\"y\")\n",
        "z1 = tf.add(x,y,name=\"z1\")\n",
        "z2 = x * y\n",
        "z3 = z2 - z1"
      ],
      "execution_count": 0,
      "outputs": []
    },
    {
      "metadata": {
        "id": "N6Rfvd-Ga1zn",
        "colab_type": "code",
        "colab": {}
      },
      "cell_type": "code",
      "source": [
        "with tf.Session() as sess:\n",
        "  # Write the session graph to summary directory\n",
        "  with tf.summary.FileWriter('summaries',sess.graph) as writer:\n",
        "    a1,a2 = sess.run([z1,z3])"
      ],
      "execution_count": 0,
      "outputs": []
    },
    {
      "metadata": {
        "id": "YC80rJlQa6UK",
        "colab_type": "code",
        "colab": {}
      },
      "cell_type": "code",
      "source": [
        "!ls summaries"
      ],
      "execution_count": 0,
      "outputs": []
    },
    {
      "metadata": {
        "id": "owuiUBhMbTTI",
        "colab_type": "code",
        "colab": {}
      },
      "cell_type": "code",
      "source": [
        "# Need ngrok tunnelling to run TensorBoard from Colab\n",
        "# Ref: https://www.dlology.com/blog/quick-guide-to-run-tensorboard-in-google-colab/\n",
        "from google.datalab.ml import TensorBoard\n",
        "TensorBoard().start('./summaries')"
      ],
      "execution_count": 0,
      "outputs": []
    },
    {
      "metadata": {
        "id": "0mNcB4UHb434",
        "colab_type": "text"
      },
      "cell_type": "markdown",
      "source": [
        "### Tensors in TF\n",
        "\n",
        "A TF graph consists of tensors and operations."
      ]
    },
    {
      "metadata": {
        "id": "Pa05GUvpfTzE",
        "colab_type": "code",
        "colab": {}
      },
      "cell_type": "code",
      "source": [
        "x = tf.constant([[[1,2,3],[4,5,6]]])\n",
        "print(x)"
      ],
      "execution_count": 0,
      "outputs": []
    },
    {
      "metadata": {
        "id": "Fz7NjeNufWF3",
        "colab_type": "code",
        "colab": {}
      },
      "cell_type": "code",
      "source": [
        "print(x.shape)"
      ],
      "execution_count": 0,
      "outputs": []
    },
    {
      "metadata": {
        "id": "D9udSTQphVqg",
        "colab_type": "code",
        "colab": {}
      },
      "cell_type": "code",
      "source": [
        "x = tf.constant(10)\n",
        "print(x.shape)\n",
        "x = tf.constant([10])\n",
        "print(x.shape)\n",
        "x = tf.constant([10,10])\n",
        "print(x.shape)\n",
        "x = tf.constant([[10,10],[10,10]])\n",
        "print(x.shape)\n",
        "x = tf.constant([[[10,10,10],[10,10,10]]])\n",
        "print(x.shape)\n",
        "x = tf.constant([[[10,10,10],[10,10,10],[10,10,10]]])\n",
        "print(x.shape)\n",
        "x = tf.constant([[[10,10,10],[10,10,10],[10,10,10]],[[10,10,10],[10,10,10],[10,10,10]]])\n",
        "print(x.shape)"
      ],
      "execution_count": 0,
      "outputs": []
    },
    {
      "metadata": {
        "id": "Viw3HGYOi7-s",
        "colab_type": "code",
        "colab": {}
      },
      "cell_type": "code",
      "source": [
        "x = tf.constant(10)\n",
        "print(x.shape)\n",
        "x = tf.stack([x,x])\n",
        "print(x.shape)\n",
        "x = tf.stack([x,x,x])\n",
        "print(x.shape)\n",
        "x = tf.stack([x,x,x,x])\n",
        "print(x.shape)\n",
        "x = tf.stack([x,x])\n",
        "print(x.shape)"
      ],
      "execution_count": 0,
      "outputs": []
    },
    {
      "metadata": {
        "id": "rmzHcKyiixsg",
        "colab_type": "code",
        "colab": {}
      },
      "cell_type": "code",
      "source": [
        "x = tf.constant([10,10])\n",
        "print(x.shape)"
      ],
      "execution_count": 0,
      "outputs": []
    },
    {
      "metadata": {
        "id": "f3dKM3Z8mkBp",
        "colab_type": "text"
      },
      "cell_type": "markdown",
      "source": [
        "### Slicing of a Tensor"
      ]
    },
    {
      "metadata": {
        "id": "cpqhjbskkl79",
        "colab_type": "code",
        "colab": {}
      },
      "cell_type": "code",
      "source": [
        "x = tf.constant([[3,5,7],[4,6,8]])\n",
        "y = x[:,1]\n",
        "z = x[1,:]\n",
        "with tf.Session() as sess:\n",
        "  a1,a2,a3 = sess.run([x,y,z])\n",
        "  print(\"x = \", a1)\n",
        "  print(\"y = \",a2)\n",
        "  print(\"z = \",a3)"
      ],
      "execution_count": 0,
      "outputs": []
    },
    {
      "metadata": {
        "id": "JGhql8MOmpyk",
        "colab_type": "text"
      },
      "cell_type": "markdown",
      "source": [
        "### Reshaping a Tensor"
      ]
    },
    {
      "metadata": {
        "id": "YRg_eJw6ms5L",
        "colab_type": "code",
        "colab": {}
      },
      "cell_type": "code",
      "source": [
        "x = tf.constant([[3,5,7],[4,6,8]])\n",
        "y = tf.reshape(x,[3,2])\n",
        "z = tf.reshape(x,[3,2])[2,:]\n",
        "print(x.shape,y.shape)"
      ],
      "execution_count": 0,
      "outputs": []
    },
    {
      "metadata": {
        "id": "wkybn-Nrm9s2",
        "colab_type": "code",
        "colab": {}
      },
      "cell_type": "code",
      "source": [
        "with tf.Session() as sess:\n",
        "  print('x = ', x.eval())\n",
        "  print('y = ', y.eval())\n",
        "  print('z = ', z.eval())"
      ],
      "execution_count": 0,
      "outputs": []
    },
    {
      "metadata": {
        "id": "EQwKkd1XoooQ",
        "colab_type": "text"
      },
      "cell_type": "markdown",
      "source": [
        "### Variables"
      ]
    },
    {
      "metadata": {
        "id": "aMuUn7ENor5a",
        "colab_type": "code",
        "colab": {}
      },
      "cell_type": "code",
      "source": [
        "def forward_pass(w,x):\n",
        "  return tf.matmul(w,x)\n",
        "\n",
        "def train_loop(x,n_iter=10):\n",
        "  # Defien scope for w and tell TF to reuse the w from previous definition\n",
        "  with tf.variable_scope(\"model\",reuse=tf.AUTO_REUSE):\n",
        "    # Define the variable, w\n",
        "    w = tf.get_variable(\"weights\",\n",
        "                       shape=(1,2), #shape 1x2\n",
        "                       initializer=tf.truncated_normal_initializer(), #init\n",
        "                       trainable=True) #trainable or not\n",
        "    preds = []\n",
        "    for k in range(n_iter):\n",
        "      preds.append(forward_pass(w,x))\n",
        "      w = w + 0.1\n",
        "    return preds"
      ],
      "execution_count": 0,
      "outputs": []
    },
    {
      "metadata": {
        "id": "pdZG6r4npYlG",
        "colab_type": "code",
        "colab": {}
      },
      "cell_type": "code",
      "source": [
        "with tf.Session() as sess:\n",
        "  #preds = train_loop(tf.constant([[3.2,5.1,7.2],[4.3,6.2,8.3]])) #2x3 matrix\n",
        "  preds = train_loop(tf.constant([[1.,1.,1.,2.],[1.,1.,1.,2.]])) #2x4 matrix\n",
        "  # initialization of all the variables together\n",
        "  tf.global_variables_initializer().run()\n",
        "  for i in range(len(preds)):\n",
        "    print(\"{}:{}\".format(i,preds[i].eval()))"
      ],
      "execution_count": 0,
      "outputs": []
    },
    {
      "metadata": {
        "id": "FhchHWg4su5f",
        "colab_type": "text"
      },
      "cell_type": "markdown",
      "source": [
        "### Placeholders\n",
        "\n",
        "Allow you to feed in values, such as by reading from a text file."
      ]
    },
    {
      "metadata": {
        "id": "76TIe2zJsuCe",
        "colab_type": "code",
        "colab": {}
      },
      "cell_type": "code",
      "source": [
        "a = tf.placeholder(\"float\",None)\n",
        "b = a * 4\n",
        "print(a)\n",
        "with tf.Session() as sess:\n",
        "  print(sess.run(b,feed_dict={a:[1,2,4]}))"
      ],
      "execution_count": 0,
      "outputs": []
    },
    {
      "metadata": {
        "id": "bflfzjVZqPEh",
        "colab_type": "text"
      },
      "cell_type": "markdown",
      "source": [
        "### TF Estimators"
      ]
    },
    {
      "metadata": {
        "id": "Z8y46edYBThh",
        "colab_type": "code",
        "colab": {}
      },
      "cell_type": "code",
      "source": [
        "import tensorflow as tf\n",
        "import shutil"
      ],
      "execution_count": 0,
      "outputs": []
    },
    {
      "metadata": {
        "id": "ye8Vk_RlFhUz",
        "colab_type": "code",
        "colab": {}
      },
      "cell_type": "code",
      "source": [
        "shutil.rmtree(\"outdir\",ignore_errors=True)"
      ],
      "execution_count": 0,
      "outputs": []
    },
    {
      "metadata": {
        "id": "CeUOx6vbDhz9",
        "colab_type": "code",
        "colab": {}
      },
      "cell_type": "code",
      "source": [
        "# Training data input function\n",
        "def train_input_fn():\n",
        "  features = {\"sq_footage\": [ 1000,    2000,     3000,  1000,  2000,  3000 ],\n",
        "              \"type\"      : [\"house\", \"house\", \"house\", \"apt\", \"apt\", \"apt\"]}\n",
        "  labels   =                [  500,     1000,    1500,   700,  1300,  1900 ]\n",
        "  return features, labels"
      ],
      "execution_count": 0,
      "outputs": []
    },
    {
      "metadata": {
        "id": "gpmjf9YgEbYd",
        "colab_type": "code",
        "colab": {}
      },
      "cell_type": "code",
      "source": [
        "# tf model input\n",
        "featcols = [\n",
        "    tf.feature_column.numeric_column(\"sq_footage\"),\n",
        "    tf.feature_column.categorical_column_with_vocabulary_list(\"type\",[\"house\",\"apt\"])    \n",
        "]"
      ],
      "execution_count": 0,
      "outputs": []
    },
    {
      "metadata": {
        "id": "ZCCkkkNPE499",
        "colab_type": "code",
        "colab": {
          "base_uri": "https://localhost:8080/",
          "height": 173
        },
        "outputId": "15cfd862-a466-4558-f4d0-06b60e173264"
      },
      "cell_type": "code",
      "source": [
        "# Model\n",
        "model = tf.estimator.LinearRegressor(featcols,\"outdir\")"
      ],
      "execution_count": 17,
      "outputs": [
        {
          "output_type": "stream",
          "text": [
            "INFO:tensorflow:Using default config.\n",
            "INFO:tensorflow:Using config: {'_model_dir': 'outdir', '_tf_random_seed': None, '_save_summary_steps': 100, '_save_checkpoints_steps': None, '_save_checkpoints_secs': 600, '_session_config': allow_soft_placement: true\n",
            "graph_options {\n",
            "  rewrite_options {\n",
            "    meta_optimizer_iterations: ONE\n",
            "  }\n",
            "}\n",
            ", '_keep_checkpoint_max': 5, '_keep_checkpoint_every_n_hours': 10000, '_log_step_count_steps': 100, '_train_distribute': None, '_device_fn': None, '_protocol': None, '_eval_distribute': None, '_experimental_distribute': None, '_service': None, '_cluster_spec': <tensorflow.python.training.server_lib.ClusterSpec object at 0x7f428d77b2e8>, '_task_type': 'worker', '_task_id': 0, '_global_id_in_cluster': 0, '_master': '', '_evaluation_master': '', '_is_chief': True, '_num_ps_replicas': 0, '_num_worker_replicas': 1}\n"
          ],
          "name": "stdout"
        }
      ]
    },
    {
      "metadata": {
        "id": "_x--M1wXFKrI",
        "colab_type": "code",
        "colab": {
          "base_uri": "https://localhost:8080/",
          "height": 1023
        },
        "outputId": "fec4c373-eca8-4e2b-ec3b-8894bda6db1b"
      },
      "cell_type": "code",
      "source": [
        "# training\n",
        "model.train(train_input_fn,steps=2000)"
      ],
      "execution_count": 18,
      "outputs": [
        {
          "output_type": "stream",
          "text": [
            "WARNING:tensorflow:From /usr/local/lib/python3.6/dist-packages/tensorflow/python/framework/op_def_library.py:263: colocate_with (from tensorflow.python.framework.ops) is deprecated and will be removed in a future version.\n",
            "Instructions for updating:\n",
            "Colocations handled automatically by placer.\n",
            "INFO:tensorflow:Calling model_fn.\n",
            "WARNING:tensorflow:From /usr/local/lib/python3.6/dist-packages/tensorflow/python/feature_column/feature_column_v2.py:2703: to_float (from tensorflow.python.ops.math_ops) is deprecated and will be removed in a future version.\n",
            "Instructions for updating:\n",
            "Use tf.cast instead.\n",
            "WARNING:tensorflow:From /usr/local/lib/python3.6/dist-packages/tensorflow/python/ops/lookup_ops.py:1137: to_int64 (from tensorflow.python.ops.math_ops) is deprecated and will be removed in a future version.\n",
            "Instructions for updating:\n",
            "Use tf.cast instead.\n",
            "INFO:tensorflow:Done calling model_fn.\n",
            "INFO:tensorflow:Create CheckpointSaverHook.\n",
            "INFO:tensorflow:Graph was finalized.\n",
            "INFO:tensorflow:Running local_init_op.\n",
            "INFO:tensorflow:Done running local_init_op.\n",
            "INFO:tensorflow:Saving checkpoints for 0 into outdir/model.ckpt.\n",
            "INFO:tensorflow:loss = 9290000.0, step = 0\n",
            "INFO:tensorflow:global_step/sec: 267.819\n",
            "INFO:tensorflow:loss = 144242.62, step = 100 (0.379 sec)\n",
            "INFO:tensorflow:global_step/sec: 318.776\n",
            "INFO:tensorflow:loss = 142023.22, step = 200 (0.314 sec)\n",
            "INFO:tensorflow:global_step/sec: 298.535\n",
            "INFO:tensorflow:loss = 140171.67, step = 300 (0.335 sec)\n",
            "INFO:tensorflow:global_step/sec: 287.278\n",
            "INFO:tensorflow:loss = 138553.88, step = 400 (0.344 sec)\n",
            "INFO:tensorflow:global_step/sec: 292.398\n",
            "INFO:tensorflow:loss = 137101.47, step = 500 (0.342 sec)\n",
            "INFO:tensorflow:global_step/sec: 279.513\n",
            "INFO:tensorflow:loss = 135774.64, step = 600 (0.361 sec)\n",
            "INFO:tensorflow:global_step/sec: 289.931\n",
            "INFO:tensorflow:loss = 134547.12, step = 700 (0.343 sec)\n",
            "INFO:tensorflow:global_step/sec: 295.567\n",
            "INFO:tensorflow:loss = 133400.81, step = 800 (0.342 sec)\n",
            "INFO:tensorflow:global_step/sec: 276.703\n",
            "INFO:tensorflow:loss = 132322.62, step = 900 (0.360 sec)\n",
            "INFO:tensorflow:global_step/sec: 293.434\n",
            "INFO:tensorflow:loss = 131302.42, step = 1000 (0.338 sec)\n",
            "INFO:tensorflow:global_step/sec: 293.722\n",
            "INFO:tensorflow:loss = 130332.56, step = 1100 (0.340 sec)\n",
            "INFO:tensorflow:global_step/sec: 278.539\n",
            "INFO:tensorflow:loss = 129406.88, step = 1200 (0.363 sec)\n",
            "INFO:tensorflow:global_step/sec: 292.308\n",
            "INFO:tensorflow:loss = 128520.266, step = 1300 (0.342 sec)\n",
            "INFO:tensorflow:global_step/sec: 295.973\n",
            "INFO:tensorflow:loss = 127668.76, step = 1400 (0.338 sec)\n",
            "INFO:tensorflow:global_step/sec: 283.16\n",
            "INFO:tensorflow:loss = 126848.92, step = 1500 (0.349 sec)\n",
            "INFO:tensorflow:global_step/sec: 297.722\n",
            "INFO:tensorflow:loss = 126057.62, step = 1600 (0.336 sec)\n",
            "INFO:tensorflow:global_step/sec: 296.097\n",
            "INFO:tensorflow:loss = 125292.484, step = 1700 (0.338 sec)\n",
            "INFO:tensorflow:global_step/sec: 279.135\n",
            "INFO:tensorflow:loss = 124551.555, step = 1800 (0.359 sec)\n",
            "INFO:tensorflow:global_step/sec: 295.521\n",
            "INFO:tensorflow:loss = 123832.59, step = 1900 (0.341 sec)\n",
            "INFO:tensorflow:Saving checkpoints for 2000 into outdir/model.ckpt.\n",
            "INFO:tensorflow:Loss for final step: 123141.125.\n"
          ],
          "name": "stdout"
        },
        {
          "output_type": "execute_result",
          "data": {
            "text/plain": [
              "<tensorflow_estimator.python.estimator.canned.linear.LinearRegressor at 0x7f428d77b0b8>"
            ]
          },
          "metadata": {
            "tags": []
          },
          "execution_count": 18
        }
      ]
    },
    {
      "metadata": {
        "id": "945r4XITGNcj",
        "colab_type": "code",
        "colab": {}
      },
      "cell_type": "code",
      "source": [
        "# Prediction data input function\n",
        "def predict_input_fn():\n",
        "  features = {\"sq_footage\": [ 1500,    1500,   2500,   2500 ],\n",
        "              \"type\"      : [\"house\",  \"apt\", \"house\", \"apt\"]}\n",
        "  return features"
      ],
      "execution_count": 0,
      "outputs": []
    },
    {
      "metadata": {
        "id": "1sEpt-3vGSI3",
        "colab_type": "code",
        "colab": {}
      },
      "cell_type": "code",
      "source": [
        "# prediction model\n",
        "predictions = model.predict(predict_input_fn)"
      ],
      "execution_count": 0,
      "outputs": []
    },
    {
      "metadata": {
        "id": "5n7SdudHGcEb",
        "colab_type": "code",
        "colab": {
          "base_uri": "https://localhost:8080/",
          "height": 275
        },
        "outputId": "ba76642b-092d-4e48-b6c2-5129b407add7"
      },
      "cell_type": "code",
      "source": [
        "# Predict\n",
        "print(next(predictions))\n",
        "print(next(predictions))\n",
        "print(next(predictions))\n",
        "print(next(predictions))"
      ],
      "execution_count": 21,
      "outputs": [
        {
          "output_type": "stream",
          "text": [
            "WARNING:tensorflow:Input graph does not use tf.data.Dataset or contain a QueueRunner. That means predict yields forever. This is probably a mistake.\n",
            "INFO:tensorflow:Calling model_fn.\n",
            "INFO:tensorflow:Done calling model_fn.\n",
            "INFO:tensorflow:Graph was finalized.\n",
            "WARNING:tensorflow:From /usr/local/lib/python3.6/dist-packages/tensorflow/python/training/saver.py:1266: checkpoint_exists (from tensorflow.python.training.checkpoint_management) is deprecated and will be removed in a future version.\n",
            "Instructions for updating:\n",
            "Use standard file APIs to check for files with this prefix.\n",
            "INFO:tensorflow:Restoring parameters from outdir/model.ckpt-2000\n",
            "INFO:tensorflow:Running local_init_op.\n",
            "INFO:tensorflow:Done running local_init_op.\n",
            "{'predictions': array([844.07806], dtype=float32)}\n",
            "{'predictions': array([871.82715], dtype=float32)}\n",
            "{'predictions': array([1414.5388], dtype=float32)}\n",
            "{'predictions': array([1442.2878], dtype=float32)}\n"
          ],
          "name": "stdout"
        }
      ]
    },
    {
      "metadata": {
        "id": "f2vF_xLxGhrG",
        "colab_type": "code",
        "colab": {}
      },
      "cell_type": "code",
      "source": [
        ""
      ],
      "execution_count": 0,
      "outputs": []
    }
  ]
}